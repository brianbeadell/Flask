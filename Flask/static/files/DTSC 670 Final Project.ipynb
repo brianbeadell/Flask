{
 "cells": [
  {
   "cell_type": "markdown",
   "id": "df6b2f6e",
   "metadata": {},
   "source": [
    "# DTSC-670 Final Project\n",
    "## Name: Brian Beadell"
   ]
  },
  {
   "cell_type": "markdown",
   "id": "4f12c031",
   "metadata": {},
   "source": [
    "## Overview\n",
    "\n",
    "This project analyzes student data from a large Portuguese school system and develops a machine-learning model to predict academic performance based on selected features. The primary objective is to provide insights to help identify students requiring additional support and interventions to improve their grades. My approach includes utilizing a Jupyter notebook for effective communication of findings to a diverse audience, with a focus on clear organization, comprehensibility, and thorough documentation.\n",
    "\n",
    "### Business Problem\n",
    "\n",
    "In educational institutions, identifying and supporting students at risk of underperformance is crucial. The lack of a systematic approach to predicting academic outcomes can lead to missed opportunities for timely interventions. The business problem at hand is the need for a predictive model that utilizes student data to proactively identify individuals requiring additional support. By leveraging machine learning, the goal is to empower educators and administrators to make informed decisions, ensuring that interventions are targeted and effective in improving overall academic performance. The development of such a model addresses the broader challenge of enhancing student support systems within the educational context.\n",
    "\n",
    "### Frame the Problem and Look at the Big Picture\n",
    "\n",
    "I have been tasked with analyzing student data from a prominent Portuguese school system and developing a machine-learning model to predict academic performance based on selected features. The primary objective is to provide actionable insights that can assist in identifying students requiring additional support and interventions to improve their grades.\n",
    "\n",
    "To effectively communicate my findings, I will utilize a Jupyter notebook. For clarity, the notebook will be meticulously organized with straightforward markdown comments. Clear comments in the code will facilitate comprehension and ease future revisions by team members. The project deliverables will include a comprehensive Jupyter notebook, covering the entire process from problem framing and dataset exploration to preprocessing steps, model development, and presentation of evaluation metrics. Emphasis will be placed on interpreting the model's outcomes, and the documentation will be thorough to ensure accessibility."
   ]
  },
  {
   "cell_type": "markdown",
   "id": "0c4b1c06",
   "metadata": {},
   "source": [
    "### Get the Data\n",
    "In this section, I'm kicking off by importing the data, followed by presenting the size and structure of the dataset—a crucial step in my exploration and understanding of the data. This pivotal phase provides me with foundational insights that will guide my subsequent activities in data preprocessing, analysis, and modeling."
   ]
  },
  {
   "cell_type": "code",
   "execution_count": 1,
   "id": "a8347c24",
   "metadata": {},
   "outputs": [
    {
     "name": "stderr",
     "output_type": "stream",
     "text": [
      "/opt/anaconda3/lib/python3.9/site-packages/scipy/__init__.py:146: UserWarning: A NumPy version >=1.16.5 and <1.23.0 is required for this version of SciPy (detected version 1.26.1\n",
      "  warnings.warn(f\"A NumPy version >={np_minversion} and <{np_maxversion}\"\n"
     ]
    }
   ],
   "source": [
    "# Imported libraries\n",
    "import pandas as pd\n",
    "import numpy as np\n",
    "import matplotlib.pyplot as plt\n",
    "import seaborn as sns\n",
    "from sklearn.model_selection import train_test_split\n",
    "from sklearn.linear_model import LinearRegression\n",
    "from sklearn.metrics import mean_absolute_error, mean_squared_error, r2_score\n",
    "from sklearn.impute import SimpleImputer\n",
    "from sklearn.base import BaseEstimator, TransformerMixin\n",
    "from sklearn.compose import ColumnTransformer\n",
    "from sklearn.pipeline import Pipeline\n",
    "from sklearn.preprocessing import StandardScaler,OrdinalEncoder,OneHotEncoder\n",
    "from sklearn.model_selection import cross_val_score\n",
    "from sklearn.svm import SVR\n",
    "from sklearn.linear_model import LinearRegression\n",
    "from sklearn.tree import DecisionTreeRegressor\n",
    "from sklearn.ensemble import RandomForestRegressor\n",
    "from sklearn.model_selection import GridSearchCV\n",
    "from sklearn.pipeline import make_pipeline"
   ]
  },
  {
   "cell_type": "code",
   "execution_count": 2,
   "id": "150f621e",
   "metadata": {},
   "outputs": [
    {
     "data": {
      "text/plain": [
       "13825"
      ]
     },
     "execution_count": 2,
     "metadata": {},
     "output_type": "execute_result"
    }
   ],
   "source": [
    "# Importing the student-mat csv and labelling it 'df'\n",
    "df=pd.read_csv('student-mat.csv',na_values=[\"NaN\"])\n",
    "df.size # showing DataFrame size"
   ]
  },
  {
   "cell_type": "code",
   "execution_count": 3,
   "id": "35301646",
   "metadata": {},
   "outputs": [
    {
     "data": {
      "text/plain": [
       "school          0\n",
       "sex             0\n",
       "age            12\n",
       "address         0\n",
       "famsize         0\n",
       "Pstatus         0\n",
       "Medu            0\n",
       "Fedu            0\n",
       "Mjob            0\n",
       "Fjob            0\n",
       "reason          0\n",
       "guardian        0\n",
       "traveltime      0\n",
       "studytime       0\n",
       "failures        0\n",
       "schoolsup       0\n",
       "famsup          0\n",
       "paid            0\n",
       "activities      0\n",
       "nursery         0\n",
       "higher          0\n",
       "internet        0\n",
       "romantic        0\n",
       "famrel          0\n",
       "freetime        0\n",
       "goout           0\n",
       "Dalc            0\n",
       "Walc            0\n",
       "health          0\n",
       "absences_G1    14\n",
       "absences_G2    14\n",
       "absences_G3    14\n",
       "G1              0\n",
       "G2              0\n",
       "G3              0\n",
       "dtype: int64"
      ]
     },
     "execution_count": 3,
     "metadata": {},
     "output_type": "execute_result"
    }
   ],
   "source": [
    "df.isna().sum() # Looking for missing values"
   ]
  },
  {
   "cell_type": "code",
   "execution_count": 4,
   "id": "a0ac5e59",
   "metadata": {
    "scrolled": true
   },
   "outputs": [
    {
     "data": {
      "text/plain": [
       "(395, 35)"
      ]
     },
     "execution_count": 4,
     "metadata": {},
     "output_type": "execute_result"
    }
   ],
   "source": [
    "# Looking at the DataFrame shape\n",
    "df.shape"
   ]
  },
  {
   "cell_type": "code",
   "execution_count": 5,
   "id": "11d6f344",
   "metadata": {},
   "outputs": [
    {
     "name": "stdout",
     "output_type": "stream",
     "text": [
      "<class 'pandas.core.frame.DataFrame'>\n",
      "RangeIndex: 395 entries, 0 to 394\n",
      "Data columns (total 35 columns):\n",
      " #   Column       Non-Null Count  Dtype  \n",
      "---  ------       --------------  -----  \n",
      " 0   school       395 non-null    object \n",
      " 1   sex          395 non-null    object \n",
      " 2   age          383 non-null    float64\n",
      " 3   address      395 non-null    object \n",
      " 4   famsize      395 non-null    object \n",
      " 5   Pstatus      395 non-null    object \n",
      " 6   Medu         395 non-null    int64  \n",
      " 7   Fedu         395 non-null    int64  \n",
      " 8   Mjob         395 non-null    object \n",
      " 9   Fjob         395 non-null    object \n",
      " 10  reason       395 non-null    object \n",
      " 11  guardian     395 non-null    object \n",
      " 12  traveltime   395 non-null    int64  \n",
      " 13  studytime    395 non-null    int64  \n",
      " 14  failures     395 non-null    int64  \n",
      " 15  schoolsup    395 non-null    object \n",
      " 16  famsup       395 non-null    object \n",
      " 17  paid         395 non-null    object \n",
      " 18  activities   395 non-null    object \n",
      " 19  nursery      395 non-null    object \n",
      " 20  higher       395 non-null    object \n",
      " 21  internet     395 non-null    object \n",
      " 22  romantic     395 non-null    object \n",
      " 23  famrel       395 non-null    int64  \n",
      " 24  freetime     395 non-null    int64  \n",
      " 25  goout        395 non-null    int64  \n",
      " 26  Dalc         395 non-null    int64  \n",
      " 27  Walc         395 non-null    int64  \n",
      " 28  health       395 non-null    int64  \n",
      " 29  absences_G1  381 non-null    float64\n",
      " 30  absences_G2  381 non-null    float64\n",
      " 31  absences_G3  381 non-null    float64\n",
      " 32  G1           395 non-null    int64  \n",
      " 33  G2           395 non-null    int64  \n",
      " 34  G3           395 non-null    int64  \n",
      "dtypes: float64(4), int64(14), object(17)\n",
      "memory usage: 108.1+ KB\n"
     ]
    }
   ],
   "source": [
    "# Looking at total instances, counts, and data types\n",
    "df.info()"
   ]
  },
  {
   "cell_type": "markdown",
   "id": "ffd72af0",
   "metadata": {},
   "source": [
    "List of available features and their data descriptions:\n",
    "\n",
    "1. **school**: Student's school (\"GP\" - Gabriel Pereira or \"MS\" - Mousinho da Silveira)\n",
    "2. **sex**: Student's gender (\"F\" - female or \"M\" - male)\n",
    "3. **age**: Student's age (numeric: from 15 to 22)\n",
    "4. **address**: Student's home address type (\"U\" - urban or \"R\" - rural)\n",
    "5. **famsize**: Family size (\"LE3\" - less or equal to 3 or \"GT3\" - greater than 3)\n",
    "6. **Pstatus**: Parent's cohabitation status (\"T\" - living together or \"A\" - apart)\n",
    "7. **Medu**: Mother's education (numeric: 0 - none, 1 - primary education, 2 – 5th to 9th grade, 3 – secondary education, or 4 – higher education)\n",
    "8. **Fedu**: Father's education (numeric: 0 - none, 1 - primary education, 2 – 5th to 9th grade, 3 – secondary education, or 4 – higher education)\n",
    "9. **Mjob**: Mother's job (\"teacher\", \"health\", \"services\", \"at_home\", or \"other\")\n",
    "10. **Fjob**: Father's job (\"teacher\", \"health\", \"services\", \"at_home\", or \"other\")\n",
    "11. **reason**: Reason to choose this school (\"home\", \"reputation\", \"course\" preference, or \"other\")\n",
    "12. **guardian**: Student's guardian (\"mother\", \"father\", or \"other\")\n",
    "13. **traveltime**: Home to school travel time (numeric: 1 - <15 min., 2 - 15 to 30 min., 3 - 30 min. to 1 hour, or 4 - >1 hour)\n",
    "14. **studytime**: Weekly study time (numeric: 1 - <2 hours, 2 - 2 to 5 hours, 3 - 5 to 10 hours, or 4 - >10 hours)\n",
    "15. **failures**: Number of past class failures (numeric: n if 1 <= n < 3, else 4)\n",
    "16. **schoolsup**: Extra educational support (binary: yes or no)\n",
    "17. **famsup**: Family educational support (binary: yes or no)\n",
    "18. **paid**: Extra paid classes within the course subject (binary: yes or no)\n",
    "19. **activities**: Extra-curricular activities (binary: yes or no)\n",
    "20. **nursery**: Attended nursery school (binary: yes or no)\n",
    "21. **higher**: Wants to take higher education (binary: yes or no)\n",
    "22. **internet**: Internet access at home (binary: yes or no)\n",
    "23. **romantic**: In a romantic relationship (binary: yes or no)\n",
    "24. **famrel**: Quality of family relationships (numeric: from 1 - very bad to 5 - excellent)\n",
    "25. **freetime**: Free time after school (numeric: from 1 - very low to 5 - very high)\n",
    "26. **goout**: Going out with friends (numeric: from 1 - very low to 5 - very high)\n",
    "27. **Dalc**: Workday alcohol consumption (numeric: from 1 - very low to 5 - very high)\n",
    "28. **Walc**: Weekend alcohol consumption (numeric: from 1 - very low to 5 - very high)\n",
    "29. **health**: Current health status (numeric: from 1 - very bad to 5 - very good)\n",
    "30. **absences_G1**: Number of school absences for G1 term (numeric)\n",
    "31. **absences_G2**: Number of school absences for G2 term (numeric)\n",
    "32. **absences_G3**: Number of school absences for G3 term (numeric)\n",
    "33. **G1**: First term grade (numeric: from 0 to 20)\n",
    "34. **G2**: Second term grade (numeric: from 0 to 20)\n",
    "35. **G3**: Final grade (numeric: from 0 to 20)"
   ]
  },
  {
   "cell_type": "markdown",
   "id": "199a8ea8",
   "metadata": {},
   "source": [
    "Using the scikit-learn `train_test_split` function from the scikit-learn library I can randomly split the dataset into two subsets to train the model and test the model's performance. "
   ]
  },
  {
   "cell_type": "code",
   "execution_count": 6,
   "id": "e4bb105c",
   "metadata": {},
   "outputs": [],
   "source": [
    "df_features=df.drop('G3',axis=1) # All features minus the target variable\n",
    "G3_target=df['G3'] # Target variable\n",
    "\n",
    "# Splitting the data into the traing & test sets (80% training, 20% test)\n",
    "X_train,X_test,y_train,y_test=train_test_split(df_features,G3_target, test_size=.2, random_state=42)"
   ]
  },
  {
   "cell_type": "markdown",
   "id": "d2b8abf5",
   "metadata": {},
   "source": [
    "### Explore the Data"
   ]
  },
  {
   "cell_type": "markdown",
   "id": "0c62d65d",
   "metadata": {},
   "source": [
    "Running the code below, I will obtain a table presenting a summary of statistics for every numerical column within the DataFrame. This summary serves as a valuable tool for me to quickly grasp the central tendency, variability, and distribution pattern of each numerical variable in the dataset."
   ]
  },
  {
   "cell_type": "code",
   "execution_count": 7,
   "id": "6d9ae5db",
   "metadata": {
    "scrolled": true
   },
   "outputs": [
    {
     "data": {
      "text/html": [
       "<div>\n",
       "<style scoped>\n",
       "    .dataframe tbody tr th:only-of-type {\n",
       "        vertical-align: middle;\n",
       "    }\n",
       "\n",
       "    .dataframe tbody tr th {\n",
       "        vertical-align: top;\n",
       "    }\n",
       "\n",
       "    .dataframe thead th {\n",
       "        text-align: right;\n",
       "    }\n",
       "</style>\n",
       "<table border=\"1\" class=\"dataframe\">\n",
       "  <thead>\n",
       "    <tr style=\"text-align: right;\">\n",
       "      <th></th>\n",
       "      <th>age</th>\n",
       "      <th>Medu</th>\n",
       "      <th>Fedu</th>\n",
       "      <th>traveltime</th>\n",
       "      <th>studytime</th>\n",
       "      <th>failures</th>\n",
       "      <th>famrel</th>\n",
       "      <th>freetime</th>\n",
       "      <th>goout</th>\n",
       "      <th>Dalc</th>\n",
       "      <th>Walc</th>\n",
       "      <th>health</th>\n",
       "      <th>absences_G1</th>\n",
       "      <th>absences_G2</th>\n",
       "      <th>absences_G3</th>\n",
       "      <th>G1</th>\n",
       "      <th>G2</th>\n",
       "    </tr>\n",
       "  </thead>\n",
       "  <tbody>\n",
       "    <tr>\n",
       "      <th>count</th>\n",
       "      <td>305.00</td>\n",
       "      <td>316.00</td>\n",
       "      <td>316.00</td>\n",
       "      <td>316.00</td>\n",
       "      <td>316.00</td>\n",
       "      <td>316.00</td>\n",
       "      <td>316.00</td>\n",
       "      <td>316.00</td>\n",
       "      <td>316.00</td>\n",
       "      <td>316.0</td>\n",
       "      <td>316.00</td>\n",
       "      <td>316.00</td>\n",
       "      <td>305.00</td>\n",
       "      <td>305.00</td>\n",
       "      <td>305.00</td>\n",
       "      <td>316.00</td>\n",
       "      <td>316.00</td>\n",
       "    </tr>\n",
       "    <tr>\n",
       "      <th>mean</th>\n",
       "      <td>16.75</td>\n",
       "      <td>2.73</td>\n",
       "      <td>2.54</td>\n",
       "      <td>1.43</td>\n",
       "      <td>2.05</td>\n",
       "      <td>0.34</td>\n",
       "      <td>3.94</td>\n",
       "      <td>3.22</td>\n",
       "      <td>3.16</td>\n",
       "      <td>1.5</td>\n",
       "      <td>2.34</td>\n",
       "      <td>3.52</td>\n",
       "      <td>0.70</td>\n",
       "      <td>0.70</td>\n",
       "      <td>4.49</td>\n",
       "      <td>10.93</td>\n",
       "      <td>10.65</td>\n",
       "    </tr>\n",
       "    <tr>\n",
       "      <th>std</th>\n",
       "      <td>1.27</td>\n",
       "      <td>1.08</td>\n",
       "      <td>1.08</td>\n",
       "      <td>0.69</td>\n",
       "      <td>0.84</td>\n",
       "      <td>0.74</td>\n",
       "      <td>0.89</td>\n",
       "      <td>1.02</td>\n",
       "      <td>1.12</td>\n",
       "      <td>0.9</td>\n",
       "      <td>1.30</td>\n",
       "      <td>1.41</td>\n",
       "      <td>1.37</td>\n",
       "      <td>1.37</td>\n",
       "      <td>5.82</td>\n",
       "      <td>3.22</td>\n",
       "      <td>3.76</td>\n",
       "    </tr>\n",
       "    <tr>\n",
       "      <th>min</th>\n",
       "      <td>15.00</td>\n",
       "      <td>0.00</td>\n",
       "      <td>0.00</td>\n",
       "      <td>1.00</td>\n",
       "      <td>1.00</td>\n",
       "      <td>0.00</td>\n",
       "      <td>1.00</td>\n",
       "      <td>1.00</td>\n",
       "      <td>1.00</td>\n",
       "      <td>1.0</td>\n",
       "      <td>1.00</td>\n",
       "      <td>1.00</td>\n",
       "      <td>0.00</td>\n",
       "      <td>0.00</td>\n",
       "      <td>0.00</td>\n",
       "      <td>5.00</td>\n",
       "      <td>0.00</td>\n",
       "    </tr>\n",
       "    <tr>\n",
       "      <th>25%</th>\n",
       "      <td>16.00</td>\n",
       "      <td>2.00</td>\n",
       "      <td>2.00</td>\n",
       "      <td>1.00</td>\n",
       "      <td>1.00</td>\n",
       "      <td>0.00</td>\n",
       "      <td>4.00</td>\n",
       "      <td>3.00</td>\n",
       "      <td>2.00</td>\n",
       "      <td>1.0</td>\n",
       "      <td>1.00</td>\n",
       "      <td>3.00</td>\n",
       "      <td>0.00</td>\n",
       "      <td>0.00</td>\n",
       "      <td>0.00</td>\n",
       "      <td>8.00</td>\n",
       "      <td>9.00</td>\n",
       "    </tr>\n",
       "    <tr>\n",
       "      <th>50%</th>\n",
       "      <td>17.00</td>\n",
       "      <td>3.00</td>\n",
       "      <td>3.00</td>\n",
       "      <td>1.00</td>\n",
       "      <td>2.00</td>\n",
       "      <td>0.00</td>\n",
       "      <td>4.00</td>\n",
       "      <td>3.00</td>\n",
       "      <td>3.00</td>\n",
       "      <td>1.0</td>\n",
       "      <td>2.00</td>\n",
       "      <td>4.00</td>\n",
       "      <td>0.00</td>\n",
       "      <td>0.00</td>\n",
       "      <td>4.00</td>\n",
       "      <td>11.00</td>\n",
       "      <td>11.00</td>\n",
       "    </tr>\n",
       "    <tr>\n",
       "      <th>75%</th>\n",
       "      <td>18.00</td>\n",
       "      <td>4.00</td>\n",
       "      <td>3.00</td>\n",
       "      <td>2.00</td>\n",
       "      <td>2.00</td>\n",
       "      <td>0.00</td>\n",
       "      <td>5.00</td>\n",
       "      <td>4.00</td>\n",
       "      <td>4.00</td>\n",
       "      <td>2.0</td>\n",
       "      <td>3.00</td>\n",
       "      <td>5.00</td>\n",
       "      <td>1.00</td>\n",
       "      <td>1.00</td>\n",
       "      <td>6.00</td>\n",
       "      <td>13.00</td>\n",
       "      <td>13.00</td>\n",
       "    </tr>\n",
       "    <tr>\n",
       "      <th>max</th>\n",
       "      <td>22.00</td>\n",
       "      <td>4.00</td>\n",
       "      <td>4.00</td>\n",
       "      <td>4.00</td>\n",
       "      <td>4.00</td>\n",
       "      <td>3.00</td>\n",
       "      <td>5.00</td>\n",
       "      <td>5.00</td>\n",
       "      <td>5.00</td>\n",
       "      <td>5.0</td>\n",
       "      <td>5.00</td>\n",
       "      <td>5.00</td>\n",
       "      <td>12.00</td>\n",
       "      <td>12.00</td>\n",
       "      <td>51.00</td>\n",
       "      <td>19.00</td>\n",
       "      <td>19.00</td>\n",
       "    </tr>\n",
       "  </tbody>\n",
       "</table>\n",
       "</div>"
      ],
      "text/plain": [
       "          age    Medu    Fedu  traveltime  studytime  failures  famrel  \\\n",
       "count  305.00  316.00  316.00      316.00     316.00    316.00  316.00   \n",
       "mean    16.75    2.73    2.54        1.43       2.05      0.34    3.94   \n",
       "std      1.27    1.08    1.08        0.69       0.84      0.74    0.89   \n",
       "min     15.00    0.00    0.00        1.00       1.00      0.00    1.00   \n",
       "25%     16.00    2.00    2.00        1.00       1.00      0.00    4.00   \n",
       "50%     17.00    3.00    3.00        1.00       2.00      0.00    4.00   \n",
       "75%     18.00    4.00    3.00        2.00       2.00      0.00    5.00   \n",
       "max     22.00    4.00    4.00        4.00       4.00      3.00    5.00   \n",
       "\n",
       "       freetime   goout   Dalc    Walc  health  absences_G1  absences_G2  \\\n",
       "count    316.00  316.00  316.0  316.00  316.00       305.00       305.00   \n",
       "mean       3.22    3.16    1.5    2.34    3.52         0.70         0.70   \n",
       "std        1.02    1.12    0.9    1.30    1.41         1.37         1.37   \n",
       "min        1.00    1.00    1.0    1.00    1.00         0.00         0.00   \n",
       "25%        3.00    2.00    1.0    1.00    3.00         0.00         0.00   \n",
       "50%        3.00    3.00    1.0    2.00    4.00         0.00         0.00   \n",
       "75%        4.00    4.00    2.0    3.00    5.00         1.00         1.00   \n",
       "max        5.00    5.00    5.0    5.00    5.00        12.00        12.00   \n",
       "\n",
       "       absences_G3      G1      G2  \n",
       "count       305.00  316.00  316.00  \n",
       "mean          4.49   10.93   10.65  \n",
       "std           5.82    3.22    3.76  \n",
       "min           0.00    5.00    0.00  \n",
       "25%           0.00    8.00    9.00  \n",
       "50%           4.00   11.00   11.00  \n",
       "75%           6.00   13.00   13.00  \n",
       "max          51.00   19.00   19.00  "
      ]
     },
     "execution_count": 7,
     "metadata": {},
     "output_type": "execute_result"
    }
   ],
   "source": [
    "#Checking the summary of numerical attributes\n",
    "X_train.describe().round(2) # Rounding two decimal places"
   ]
  },
  {
   "cell_type": "markdown",
   "id": "3b67757f",
   "metadata": {},
   "source": [
    "Below is a histogram depicting the age distribution of students in the dataset. On the x-axis, different age groups, ans the y-axis indicates the count of students in each age category. The distribution is visually represented by green bars, and a smooth curve, known as Kernel Density Estimation (KDE), is overlaid in green. This visualization is meant to give insights into the overall distribution of ages among the student population.\n",
    "\n",
    "    age: Student's age (numeric: from 15 to 22)"
   ]
  },
  {
   "cell_type": "code",
   "execution_count": 8,
   "id": "43970975",
   "metadata": {},
   "outputs": [
    {
     "data": {
      "image/png": "[encoded data removed]",
      "text/plain": [
       "<Figure size 1000x600 with 1 Axes>"
      ]
     },
     "metadata": {},
     "output_type": "display_data"
    }
   ],
   "source": [
    "# Setting seaborn style for aesthetics\n",
    "sns.set(style=\"whitegrid\")\n",
    "\n",
    "# Showed age distribution and its relevance to the analysis\n",
    "plt.figure(figsize=(10, 6))  # Set figure size\n",
    "\n",
    "# Created a histogram of the DataFrame using 'Age', with Kernel Density Estimation using the color green\n",
    "sns.histplot(df['age'],kde=True,color='green',bins=20)  # Used green and set bins for better granularity\n",
    "\n",
    "# Set title to 'Age Distribution' with a brief explanation of significance\n",
    "plt.title('Student Age Distribution', fontsize=16, weight='bold')\n",
    "\n",
    "# Created the x and y labels for clarity\n",
    "plt.xlabel('Age',fontsize=12)\n",
    "plt.ylabel('Count',fontsize=12)\n",
    "\n",
    "# Provided a brief description of why analyzing age distribution is relevant\n",
    "plt.text(22, 50, 'This distribution provided insights into the age demographics of students.', fontsize=10)\n",
    "\n",
    "# Displayed grid lines for better readability\n",
    "plt.grid(axis='y',alpha=0.7)\n",
    "\n",
    "plt.show()  # Shows the plot"
   ]
  },
  {
   "cell_type": "markdown",
   "id": "407faaa1",
   "metadata": {},
   "source": [
    "The correlation heatmap below is focusing on factors that significantly impact academic performance. The selected attributes include study time, past class failures, alcohol use (Dalc, Walc) and the number of school absences during the G1, G2, and G3 terms. The heatmap visually represents the strength and direction of correlations between these academic factors. I beleive this analysis is crucial for understanding the interplay of these variables and their potential influence on students' academic achievements. The numeric representation within the heatmap indicate the correlation coefficients between the factors listed. These values range from 1 to 0:\n",
    "* 1 -> Perfect Positive Correlation \n",
    "    - as one variable increases, the other variable proportionately decreases.\n",
    "* 0 -> No Correlation\n",
    "* -1 -> Perfect Negative Correlation\n",
    "\n",
    "There is a strong positive correlation between absences and workday alcohol consumption\n",
    "\n",
    "There is a weak positive correlation between absences and failure rate. \n",
    "\n",
    "There is a strong negative correlation between absences and studytime."
   ]
  },
  {
   "cell_type": "code",
   "execution_count": 9,
   "id": "738f34ca",
   "metadata": {
    "scrolled": false
   },
   "outputs": [
    {
     "data": {
      "image/png": "[encoded data removed]",
      "text/plain": [
       "<Figure size 1000x800 with 2 Axes>"
      ]
     },
     "metadata": {},
     "output_type": "display_data"
    }
   ],
   "source": [
    "# Selected relevant columns for academic performance analysis\n",
    "academic_performance=df[['studytime','failures','absences_G1','absences_G2','absences_G3','Dalc','Walc']]\n",
    "\n",
    "# Created a correlation heatmap to explore factors influencing academic performance\n",
    "plt.figure(figsize=(10,8))  # Setting figure size\n",
    "\n",
    "# Used Seaborn heatmap with correlation method, annotated the correlation values, 'coolwarm' for color mapping\n",
    "sns.heatmap(academic_performance.corr(),annot=True, cmap='coolwarm', linewidths=.5)\n",
    "\n",
    "# Annotated the plot to explain the relevance of the heatmap\n",
    "plt.text(-.5, 9,'This heatmap illustrates correlations between different factors and academic performance.', \n",
    "         fontsize=12,ha='left',va='center')\n",
    "\n",
    "# Set the plot title with an explanation of the heatmap's relevance\n",
    "plt.title('Correlation Heatmap: Factors Influencing Academic Performance',fontsize=16,weight='bold')\n",
    "\n",
    "# Set the x and y labels\n",
    "plt.xlabel('Academic Performance Factors',fontsize=12)\n",
    "plt.ylabel('Academic Performance Factors',fontsize=12)\n",
    "\n",
    "# Displaying the plot\n",
    "plt.show()"
   ]
  },
  {
   "cell_type": "markdown",
   "id": "3e690d8f",
   "metadata": {},
   "source": [
    "The below visualization highlights the assessment of family relationship quality based on the type of guardian. The boxplot illustrates the distribution of family relationship ratings, providing insights into how the quality of family relationships varies among different guardian types. This analysis can be crucial for understanding potential variations in family dynamics and relationships based on the guardian's role.\n",
    "\n",
    "    famrel: Quality of family relationships (numeric: from 1 - very bad to 5 - excellent)\n",
    "    guardian: Student's guardian (\"mother\", \"father\", or \"other\")"
   ]
  },
  {
   "cell_type": "code",
   "execution_count": 10,
   "id": "eed603eb",
   "metadata": {},
   "outputs": [
    {
     "data": {
      "image/png": "[encoded data removed]",
      "text/plain": [
       "<Figure size 600x600 with 1 Axes>"
      ]
     },
     "metadata": {},
     "output_type": "display_data"
    }
   ],
   "source": [
    "# Showing the quality of family relationships based on guardian type\n",
    "plt.figure(figsize=(6,6)) # Setting the figure size\n",
    "sns.boxplot(x='guardian',y='famrel',data=df,palette='pastel') # Setting plot x, y, using df DataFrame, palette colors\n",
    "plt.title('Quality of Family Relationships Based on Guardian Type',weight='bold') # Setting plot title\n",
    "plt.xlabel('Guardian Type') # Setting x label\n",
    "plt.ylabel('Quality of Family Relationship') # Setting y label\n",
    "plt.show() # Showing the created plot"
   ]
  },
  {
   "cell_type": "markdown",
   "id": "252a07a6",
   "metadata": {},
   "source": [
    "I created the below visualization to illustrate the correlation between students' social engagement, specifically going out with friends, and their alcohol consumption on both workdays (Dalc) and weekends (Walc). The point size in the visualization is indicative of weekend alcohol consumption, while the color distinguishes various levels of alcohol consumption during the weekends. This information is valuable for understanding patterns and potential areas of concern related to students' social activities and alcohol consumption.\n",
    "    \n",
    "    Walc: Weekend alcohol consumption (numeric: from 1 - very low to 5 - very high)"
   ]
  },
  {
   "cell_type": "code",
   "execution_count": 11,
   "id": "0e79b03d",
   "metadata": {
    "scrolled": false
   },
   "outputs": [
    {
     "data": {
      "image/png": "[encoded data removed]",
      "text/plain": [
       "<Figure size 600x600 with 1 Axes>"
      ]
     },
     "metadata": {},
     "output_type": "display_data"
    }
   ],
   "source": [
    "# Showing the relationship between going out and alcohol consumption\n",
    "plt.figure(figsize=(6,6)) # Setting the figure size\n",
    "# Using seaborn scatterplot; x, y, hue, data used, palette color, size, and dot sizes\n",
    "sns.scatterplot(x='goout',y='Dalc',hue='Walc',data=df,palette='dark',size='Walc',sizes=(35, 350))\n",
    "plt.title('Relationship Between Going Out and Alcohol Consumption') # Setting title for the plot\n",
    "plt.ylabel('Workday Alcohol Consumption') # Setting the y label\n",
    "plt.xlabel('Going Out with Friends') # Setting the x label\n",
    "plt.legend(title='Alcohol Consumption') # Creating a legend with title\n",
    "plt.show() # Show plot"
   ]
  },
  {
   "cell_type": "markdown",
   "id": "07b2ea01",
   "metadata": {},
   "source": [
    "I'm examining the correlation between the selected column attributes and the target variable 'G3' using the Pearson correlation coefficient."
   ]
  },
  {
   "cell_type": "code",
   "execution_count": 12,
   "id": "d3187375",
   "metadata": {},
   "outputs": [
    {
     "data": {
      "text/plain": [
       "G3             1.000000\n",
       "G2             0.907924\n",
       "G1             0.791559\n",
       "studytime      0.138200\n",
       "absences_G3    0.092245\n",
       "absences_G1    0.036652\n",
       "absences_G2    0.036652\n",
       "Walc          -0.057363\n",
       "Dalc          -0.064698\n",
       "age           -0.134519\n",
       "Name: G3, dtype: float64"
      ]
     },
     "execution_count": 12,
     "metadata": {},
     "output_type": "execute_result"
    }
   ],
   "source": [
    "# Listing column attributes \n",
    "col_attributes=['age','studytime','Dalc','Walc','absences_G1','absences_G2','absences_G3','G1','G2']\n",
    "\n",
    "# Combining selecet columns from the training data (X_train) with the traget variable (y_train)\n",
    "combined_df=pd.concat([X_train[col_attributes],y_train],axis=1)\n",
    "\n",
    "# Calculating the correlation matrix\n",
    "corr_matrix=combined_df.corr()\n",
    "\n",
    "# Showing the correlation of selected attributes with the target variable 'G3'\n",
    "corr_matrix['G3'].sort_values(ascending=False)"
   ]
  },
  {
   "cell_type": "markdown",
   "id": "bec31b46",
   "metadata": {},
   "source": [
    "### Prepare the Data"
   ]
  },
  {
   "cell_type": "markdown",
   "id": "392168ba",
   "metadata": {},
   "source": [
    "I am using the code `df.isnull().sum()` to check the presence of missing values in each column of my dataset. This allows me to understand which columns have incomplete or absent information. Identifying the extent of missing data is crucial for making informed decisions on how to handle these gaps, such as filling them in or removing incomplete rows.\n",
    "\n",
    "After running this code it became apparent to me that some data was missing in the \"absences\" columns-- 14 according to the returned information.\n",
    "\n",
    "The \"age\" column is missing 12 values. I am going to replace those missing values with the using transformers to streamline the process."
   ]
  },
  {
   "cell_type": "code",
   "execution_count": 13,
   "id": "7765a0cf",
   "metadata": {},
   "outputs": [
    {
     "data": {
      "text/plain": [
       "school          0\n",
       "sex             0\n",
       "age            12\n",
       "address         0\n",
       "famsize         0\n",
       "Pstatus         0\n",
       "Medu            0\n",
       "Fedu            0\n",
       "Mjob            0\n",
       "Fjob            0\n",
       "reason          0\n",
       "guardian        0\n",
       "traveltime      0\n",
       "studytime       0\n",
       "failures        0\n",
       "schoolsup       0\n",
       "famsup          0\n",
       "paid            0\n",
       "activities      0\n",
       "nursery         0\n",
       "higher          0\n",
       "internet        0\n",
       "romantic        0\n",
       "famrel          0\n",
       "freetime        0\n",
       "goout           0\n",
       "Dalc            0\n",
       "Walc            0\n",
       "health          0\n",
       "absences_G1    14\n",
       "absences_G2    14\n",
       "absences_G3    14\n",
       "G1              0\n",
       "G2              0\n",
       "G3              0\n",
       "dtype: int64"
      ]
     },
     "execution_count": 13,
     "metadata": {},
     "output_type": "execute_result"
    }
   ],
   "source": [
    "# Searching for missing values\n",
    "df.isnull().sum()"
   ]
  },
  {
   "cell_type": "markdown",
   "id": "e87084a3",
   "metadata": {},
   "source": [
    "I've incorporated several data preprocessing techniques, including SimpleImputer, StandardScaler, OneHotEncoder, and OrdinalEncoder, to optimize the dataset for machine learning applications.\n",
    "\n",
    "SimpleImputer: This technique comes in handy for handling missing values within the dataset. It seamlessly replaces any missing entries with a user-specified value or a statistical measure like the mean, median, or most frequent value. I used different \"strategies\" for the different attributes types.\n",
    "    \n",
    "     `strategy='median'` is effective for substituting NaN values in numeric data.\n",
    "     `strategy='most_frequent'` is effective for substituting NaN values in nominal and binary data.\n",
    "\n",
    "StandardScaler: I applied the StandardScaler to standardize numerical features, ensuring they have a mean of 0 and a standard deviation of 1. This normalization is crucial for certain machine-learning algorithms that are sensitive to the scale of input features.\n",
    "\n",
    "OneHotEncoder: Specifically tailored for categorical variables, the OneHotEncoder transforms categorical data into a binary matrix. It introduces binary columns for each category, indicating the presence or absence of the category for each data point.\n",
    "\n",
    "OrdinalEncoder: Similar to the OneHotEncoder, I used the OrdinalEncoder for the categorical data here. OrdinalEncoder is designed for ordinal categories. This feature encoder assigns unique integers to different categories based on their order."
   ]
  },
  {
   "cell_type": "code",
   "execution_count": 14,
   "id": "909c6f2f",
   "metadata": {
    "scrolled": true
   },
   "outputs": [],
   "source": [
    "# Assigning numeric attributes to 'num_attributes'\n",
    "num_attributes=['age','Medu','Fedu','traveltime','studytime','failures','famrel','freetime','goout','Dalc','Walc','health','absences_G1','absences_G2','absences_G3','G1','G2']\n",
    "\n",
    "# Creating pipeline using SimpleImputer, StandardScaler\n",
    "num_pipeline=Pipeline([\n",
    "    ('imputer',SimpleImputer(missing_values=np.nan,strategy='median')), # Making sure to target the NaN\n",
    "    ('scaler', StandardScaler())\n",
    "])"
   ]
  },
  {
   "cell_type": "code",
   "execution_count": 15,
   "id": "b9823547",
   "metadata": {},
   "outputs": [],
   "source": [
    "nom_attributes=['Mjob','Fjob','reason','guardian'] # Assigning nominal attributes\n",
    "\n",
    "nom_pipeline=Pipeline([  # Creating my pipeline using SimpleImputer, OneHotEncoder\n",
    "    ('imputer',SimpleImputer(missing_values=np.nan,strategy='most_frequent')), \n",
    "    ('encoder',OneHotEncoder(drop='first'))\n",
    "])"
   ]
  },
  {
   "cell_type": "markdown",
   "id": "8a419290",
   "metadata": {},
   "source": [
    "Designing the pipeline for `bin_attributes` posed a challenge, but I automated the category creation process to facilitate its construction. This step was crucial to ensure the proper functioning of the `CustomTransformer` in subsequent stages."
   ]
  },
  {
   "cell_type": "code",
   "execution_count": 16,
   "id": "ffa3aa4b",
   "metadata": {},
   "outputs": [
    {
     "data": {
      "text/plain": [
       "['school',\n",
       " 'sex',\n",
       " 'address',\n",
       " 'famsize',\n",
       " 'activities',\n",
       " 'nursery',\n",
       " 'higher',\n",
       " 'internet',\n",
       " 'romantic']"
      ]
     },
     "execution_count": 16,
     "metadata": {},
     "output_type": "execute_result"
    }
   ],
   "source": [
    "bin_attributes=['school','sex','address','famsize','activities','nursery','higher','internet','romantic']\n",
    "\n",
    "# Automating creation of bin_categories for ease by creating a list\n",
    "bin_categories=[X_train[attribute].unique().tolist() for attribute in bin_attributes]\n",
    "\n",
    "# Creating a bin_pipeline using, OrdinalEncoder\n",
    "bin_pipeline=Pipeline([\n",
    "    ('encoder', OrdinalEncoder(categories=bin_categories))\n",
    "])\n",
    "bin_attributes"
   ]
  },
  {
   "cell_type": "markdown",
   "id": "b7b130e3",
   "metadata": {},
   "source": [
    "In creating the custom transformer, named `CustomTransformer`, I endeavored to tailor the preprocessing steps to meet the specific requirements of my dataset. Upon initialization, the transformer is endowed with the flexibility to include or exclude the 'G1' and 'G2' columns, controlled by the parameter `drop_G1_G2`. During the transformation process, I implemented two pivotal actions. Firstly, a new column, 'absences_sum,' was introduced, capturing the cumulative sum of 'absences_G1', 'absences_G2', and 'absences_G3.' Secondly, the individual absence columns were gracefully bid adieu, making room for the amalgamated 'absences_sum.' The conditional drop of the 'G1' and 'G2' columns further enhances the adaptability of this transformer, providing a tailored approach to feature selection within the preprocessing pipeline. This nuanced customization ensures that the transformer aligns with the specific nuances of my dataset, thereby optimizing its utility in the overall data preparation process."
   ]
  },
  {
   "cell_type": "code",
   "execution_count": 17,
   "id": "276a0894",
   "metadata": {},
   "outputs": [],
   "source": [
    "class CustomTransformer(BaseEstimator,TransformerMixin):\n",
    "    def __init__(self,drop_G1_G2=False):\n",
    "        self.drop_G1_G2=drop_G1_G2\n",
    "    def fit(self,X,y=None):\n",
    "        #self.scale_=X.std(axis=0)\n",
    "        #self.n_features_in_=X.shape[1]\n",
    "        return self\n",
    "    def transform(self, X):\n",
    "        # Creates the column 'absences_sum'\n",
    "        X['absences_sum']=X[['absences_G1','absences_G2','absences_G3']].sum(axis=1)\n",
    "        # Assinging the drop to X\n",
    "        X=X.drop(['absences_G1','absences_G2','absences_G3'],axis=1)\n",
    "        # If statement drops 'G1' and 'G2' columns when conditions are met\n",
    "        if self.drop_G1_G2:\n",
    "            # Assinging the drop to X\n",
    "            X=X.drop(['G1','G2'], axis=1)\n",
    "        #Return X\n",
    "        return X"
   ]
  },
  {
   "cell_type": "code",
   "execution_count": 18,
   "id": "4e11c746",
   "metadata": {},
   "outputs": [
    {
     "data": {
      "text/plain": [
       "(316, 34)"
      ]
     },
     "execution_count": 18,
     "metadata": {},
     "output_type": "execute_result"
    }
   ],
   "source": [
    "# Checking shape prior to ColumnTransformer (X_train).\n",
    "X_train.shape"
   ]
  },
  {
   "cell_type": "markdown",
   "id": "1c347bb6",
   "metadata": {},
   "source": [
    "In constructing the below data preprocessing pipeline, I integrated transformers tailored to specific attribute groups. The `ColumnTransformer` named `preprocessing` orchestrates the following transformations:\n",
    "\n",
    "  - Numerical Attributes (`num`): Utilizing `num_pipeline`, I addressed missing values through median imputation and standardized numerical features with `StandardScaler`.\n",
    "\n",
    "  - Nominal Attributes (`nom`): Employing `nom_pipeline`, I handled nominal categorical attributes by imputing missing values and applying `OneHotEncoder` for binary matrix conversion.\n",
    "  \n",
    "  - Binary Attributes (`bin`): Employing `bin_pipeline`, I handled the binary attributes by first automating the category assignment by creating a list. Then applying `OrdinalEncoder`.\n",
    "\n",
    "  - Custom Transformations (`custom`): The `CustomTransformer` manages 'G1' and 'G2' column inclusion/exclusion and introduces 'absences_sum,' aggregating counts from related columns.\n",
    "\n",
    "The resulting `X_train_prepared` is now ready for model training and evaluation."
   ]
  },
  {
   "cell_type": "code",
   "execution_count": 19,
   "id": "d8dfec87",
   "metadata": {
    "scrolled": false
   },
   "outputs": [
    {
     "data": {
      "text/plain": [
       "array([[-0.60476491,  0.24643712,  0.42320737, ...,  1.        ,\n",
       "         0.        ,  2.        ],\n",
       "       [-0.60476491, -0.68063585,  0.42320737, ...,  0.        ,\n",
       "         0.        ,  0.        ],\n",
       "       [-0.60476491, -1.60770883,  0.42320737, ...,  1.        ,\n",
       "         0.        ,  0.        ],\n",
       "       ...,\n",
       "       [ 1.79405154,  0.24643712,  0.42320737, ...,  0.        ,\n",
       "         1.        , 15.        ],\n",
       "       [ 0.19484058,  1.17351009,  0.42320737, ...,  1.        ,\n",
       "         0.        ,  0.        ],\n",
       "       [-1.40437039,  1.17351009,  1.35191243, ...,  1.        ,\n",
       "         0.        ,  4.        ]])"
      ]
     },
     "execution_count": 19,
     "metadata": {},
     "output_type": "execute_result"
    }
   ],
   "source": [
    "# Creating the ColumnTransfor and assigning it to \"preprocessing\"\n",
    "preprocessing=ColumnTransformer([\n",
    "    ('num',num_pipeline,num_attributes),\n",
    "    ('nom',nom_pipeline,nom_attributes),\n",
    "    ('custom',CustomTransformer(drop_G1_G2=True),['G1','G2','absences_G1','absences_G2','absences_G3'])\n",
    "])\n",
    "\n",
    "# This transforms the training dataset using the \"preprocessing\" pipeline created using the ColumnTransformer\n",
    "X_train_prepared=preprocessing.fit_transform(X_train)\n",
    "X_train_prepared # Checking the results"
   ]
  },
  {
   "cell_type": "code",
   "execution_count": 20,
   "id": "01ee3b15",
   "metadata": {},
   "outputs": [
    {
     "data": {
      "text/plain": [
       "(316, 31)"
      ]
     },
     "execution_count": 20,
     "metadata": {},
     "output_type": "execute_result"
    }
   ],
   "source": [
    "# Checking shape after preprocessing.\n",
    "X_train_prepared.shape"
   ]
  },
  {
   "cell_type": "markdown",
   "id": "22b485cb",
   "metadata": {},
   "source": [
    "### Shortlist Promising Models"
   ]
  },
  {
   "cell_type": "markdown",
   "id": "d6a0419b",
   "metadata": {},
   "source": [
    "Shortlisting promising models is a crucial step in the machine learning workflow to evaluate and select the most suitable models for a given task. This involves training a diverse set of models, evaluating their performance using appropriate metrics, and comparing the results to identify the models that show potential. The process includes considerations such as proper data preprocessing, cross-validation to ensure robust performance estimates and the selection of models based on their ability to generalize to unseen data. The goal is to narrow down the choices to a subset of models that are likely to perform well, paving the way for further optimization and final model selection.\n",
    "\n",
    "In the process of shortlisting promising models, I employed a variety of algorithms, including Linear Regression, RandomForestRegressor, SVR (Support Vector Regression), and DecisionTreeRegressor, to fit the models to the prepared data. This diverse set of models allows for a comprehensive evaluation of different approaches to better understand their strengths and weaknesses.\n",
    "\n",
    "Additionally, I introduced my custom transformer to investigate the impact of including or excluding the G1 and G2 columns in the dataset. This comparison provides insights into how the models perform under different feature configurations, aiding in the selection of the most suitable model for the given problem."
   ]
  },
  {
   "cell_type": "markdown",
   "id": "5d405d60",
   "metadata": {},
   "source": [
    "<u>LinearRegression</u>"
   ]
  },
  {
   "cell_type": "code",
   "execution_count": 21,
   "id": "3e16ec35",
   "metadata": {
    "scrolled": true
   },
   "outputs": [
    {
     "data": {
      "text/html": [
       "<style>#sk-container-id-1 {color: black;}#sk-container-id-1 pre{padding: 0;}#sk-container-id-1 div.sk-toggleable {background-color: white;}#sk-container-id-1 label.sk-toggleable__label {cursor: pointer;display: block;width: 100%;margin-bottom: 0;padding: 0.3em;box-sizing: border-box;text-align: center;}#sk-container-id-1 label.sk-toggleable__label-arrow:before {content: \"▸\";float: left;margin-right: 0.25em;color: #696969;}#sk-container-id-1 label.sk-toggleable__label-arrow:hover:before {color: black;}#sk-container-id-1 div.sk-estimator:hover label.sk-toggleable__label-arrow:before {color: black;}#sk-container-id-1 div.sk-toggleable__content {max-height: 0;max-width: 0;overflow: hidden;text-align: left;background-color: #f0f8ff;}#sk-container-id-1 div.sk-toggleable__content pre {margin: 0.2em;color: black;border-radius: 0.25em;background-color: #f0f8ff;}#sk-container-id-1 input.sk-toggleable__control:checked~div.sk-toggleable__content {max-height: 200px;max-width: 100%;overflow: auto;}#sk-container-id-1 input.sk-toggleable__control:checked~label.sk-toggleable__label-arrow:before {content: \"▾\";}#sk-container-id-1 div.sk-estimator input.sk-toggleable__control:checked~label.sk-toggleable__label {background-color: #d4ebff;}#sk-container-id-1 div.sk-label input.sk-toggleable__control:checked~label.sk-toggleable__label {background-color: #d4ebff;}#sk-container-id-1 input.sk-hidden--visually {border: 0;clip: rect(1px 1px 1px 1px);clip: rect(1px, 1px, 1px, 1px);height: 1px;margin: -1px;overflow: hidden;padding: 0;position: absolute;width: 1px;}#sk-container-id-1 div.sk-estimator {font-family: monospace;background-color: #f0f8ff;border: 1px dotted black;border-radius: 0.25em;box-sizing: border-box;margin-bottom: 0.5em;}#sk-container-id-1 div.sk-estimator:hover {background-color: #d4ebff;}#sk-container-id-1 div.sk-parallel-item::after {content: \"\";width: 100%;border-bottom: 1px solid gray;flex-grow: 1;}#sk-container-id-1 div.sk-label:hover label.sk-toggleable__label {background-color: #d4ebff;}#sk-container-id-1 div.sk-serial::before {content: \"\";position: absolute;border-left: 1px solid gray;box-sizing: border-box;top: 0;bottom: 0;left: 50%;z-index: 0;}#sk-container-id-1 div.sk-serial {display: flex;flex-direction: column;align-items: center;background-color: white;padding-right: 0.2em;padding-left: 0.2em;position: relative;}#sk-container-id-1 div.sk-item {position: relative;z-index: 1;}#sk-container-id-1 div.sk-parallel {display: flex;align-items: stretch;justify-content: center;background-color: white;position: relative;}#sk-container-id-1 div.sk-item::before, #sk-container-id-1 div.sk-parallel-item::before {content: \"\";position: absolute;border-left: 1px solid gray;box-sizing: border-box;top: 0;bottom: 0;left: 50%;z-index: -1;}#sk-container-id-1 div.sk-parallel-item {display: flex;flex-direction: column;z-index: 1;position: relative;background-color: white;}#sk-container-id-1 div.sk-parallel-item:first-child::after {align-self: flex-end;width: 50%;}#sk-container-id-1 div.sk-parallel-item:last-child::after {align-self: flex-start;width: 50%;}#sk-container-id-1 div.sk-parallel-item:only-child::after {width: 0;}#sk-container-id-1 div.sk-dashed-wrapped {border: 1px dashed gray;margin: 0 0.4em 0.5em 0.4em;box-sizing: border-box;padding-bottom: 0.4em;background-color: white;}#sk-container-id-1 div.sk-label label {font-family: monospace;font-weight: bold;display: inline-block;line-height: 1.2em;}#sk-container-id-1 div.sk-label-container {text-align: center;}#sk-container-id-1 div.sk-container {/* jupyter's `normalize.less` sets `[hidden] { display: none; }` but bootstrap.min.css set `[hidden] { display: none !important; }` so we also need the `!important` here to be able to override the default hidden behavior on the sphinx rendered scikit-learn.org. See: https://github.com/scikit-learn/scikit-learn/issues/21755 */display: inline-block !important;position: relative;}#sk-container-id-1 div.sk-text-repr-fallback {display: none;}</style><div id=\"sk-container-id-1\" class=\"sk-top-container\"><div class=\"sk-text-repr-fallback\"><pre>LinearRegression()</pre><b>In a Jupyter environment, please rerun this cell to show the HTML representation or trust the notebook. <br />On GitHub, the HTML representation is unable to render, please try loading this page with nbviewer.org.</b></div><div class=\"sk-container\" hidden><div class=\"sk-item\"><div class=\"sk-estimator sk-toggleable\"><input class=\"sk-toggleable__control sk-hidden--visually\" id=\"sk-estimator-id-1\" type=\"checkbox\" checked><label for=\"sk-estimator-id-1\" class=\"sk-toggleable__label sk-toggleable__label-arrow\">LinearRegression</label><div class=\"sk-toggleable__content\"><pre>LinearRegression()</pre></div></div></div></div></div>"
      ],
      "text/plain": [
       "LinearRegression()"
      ]
     },
     "execution_count": 21,
     "metadata": {},
     "output_type": "execute_result"
    }
   ],
   "source": [
    "# Instantiating the LinerRegression model and assigning to lin_reg\n",
    "lin_reg=LinearRegression()\n",
    "\n",
    "# Training the lin_reg model using X_train_prepared and y_train\n",
    "lin_model=lin_reg.fit(X_train_prepared, y_train)\n",
    "lin_model"
   ]
  },
  {
   "cell_type": "code",
   "execution_count": 22,
   "id": "f8146408",
   "metadata": {},
   "outputs": [
    {
     "data": {
      "text/plain": [
       "array([ 1.28330920e+01,  1.34573759e+01,  4.26326419e+00,  8.73937824e+00,\n",
       "        7.87417286e+00,  8.75249409e+00,  1.35848538e+01,  2.84775915e+00,\n",
       "        1.06952951e+01,  1.62514306e+01,  1.68591487e-01,  1.49054669e+01,\n",
       "        9.70636179e+00,  1.01307960e+01,  9.07286141e+00,  4.20911519e+00,\n",
       "        7.28254899e+00,  8.38342883e+00,  1.87167221e+01,  1.83255361e+01,\n",
       "        1.27346253e+01,  1.15448265e+01,  1.21229111e+01,  3.15705264e+00,\n",
       "        9.12854520e+00,  9.39426708e+00,  4.70394414e+00,  9.92838328e+00,\n",
       "        7.70489325e+00,  8.63533648e+00,  6.25707936e+00,  6.81538966e+00,\n",
       "        4.35954321e+00,  9.55551349e+00,  3.16869818e+00,  8.25634912e+00,\n",
       "        1.92376968e+01,  6.84344703e+00,  5.79499060e+00,  1.69806335e+01,\n",
       "        1.06472104e+01,  1.17677618e+01,  9.51007898e+00,  8.38180529e+00,\n",
       "        1.59134929e+01,  1.35087735e+01,  1.21567462e+01,  1.27911767e+01,\n",
       "        4.58553133e+00, -2.86524033e+00,  7.35971390e+00,  1.19142938e+01,\n",
       "        1.08790359e+01,  1.25723552e+01,  1.92551653e+00,  1.86073912e+01,\n",
       "        1.67247258e+01,  4.58098217e+00,  1.00891884e+01,  1.63011045e+01,\n",
       "        1.17901409e+01,  8.81871843e+00,  1.26560348e+01,  1.01656022e+01,\n",
       "        1.69220626e+01,  8.06799426e+00,  1.12668002e+01,  1.48649924e+01,\n",
       "        1.24307989e+01,  1.01923921e+01,  1.38096388e+01,  2.16295757e+00,\n",
       "        7.54791268e+00,  6.76139024e+00,  6.65336993e+00,  1.06295580e+01,\n",
       "        1.19576699e+01,  1.20291964e+01,  9.29578005e+00,  1.26278481e+01,\n",
       "        1.01447432e+01,  7.95778842e+00,  6.27758959e+00,  5.66628560e+00,\n",
       "        1.12448231e+01,  1.59758961e+01,  5.05077812e+00,  1.64269852e+01,\n",
       "        1.10728077e+01,  1.49239887e+01,  1.40990570e+01,  1.43544845e+01,\n",
       "        9.11264292e+00,  9.52110042e+00,  8.15017511e+00,  1.33784817e+01,\n",
       "        1.55224302e+01, -1.81968896e+00,  1.35579320e+01,  7.52322977e+00,\n",
       "        7.88331743e+00,  8.42099601e+00,  1.18242092e+01,  1.24055238e+01,\n",
       "        8.30014870e+00,  1.22875922e+01,  3.00372904e+00,  1.07046107e+01,\n",
       "        7.55096146e+00, -1.74075127e+00,  1.01890922e+01,  5.74412319e+00,\n",
       "        1.38295793e+01,  9.92463592e+00,  1.21379607e+01,  1.06289254e+01,\n",
       "        5.26732391e+00,  9.81336906e+00,  1.24615136e+01,  6.94351988e+00,\n",
       "        1.93752895e+01,  1.28318449e+01,  1.32912351e+01,  9.74424059e+00,\n",
       "        1.17325215e+01,  1.27976590e+01,  1.14016180e+01,  1.07089199e+01,\n",
       "        1.74208162e+01,  8.68483304e+00,  1.29386359e+01,  1.40111170e+01,\n",
       "        9.97656042e+00,  1.12417106e+01,  9.04449142e+00,  1.12163863e+01,\n",
       "        6.25828147e+00,  6.60625734e+00,  3.88454620e-01,  1.00155528e+01,\n",
       "        7.99368295e+00,  8.41435716e+00,  3.47984473e+00,  7.99980991e+00,\n",
       "        9.73570681e+00,  1.62414692e+01,  8.39743428e+00,  1.11302982e+01,\n",
       "        1.16216801e+01,  1.50276427e+01,  1.19065681e+01,  1.20405326e+01,\n",
       "        1.27295665e+01,  1.43768603e+01,  1.24257736e+01,  1.08491038e+01,\n",
       "        5.57776450e+00,  1.23423480e+01,  9.58864509e+00,  1.23144136e+01,\n",
       "        1.62569035e+01,  1.51712586e+01,  1.85917237e+01,  7.95085392e+00,\n",
       "        6.10232246e+00,  1.18773889e+01, -1.29777298e+00,  1.20830130e+01,\n",
       "        1.97110334e+01,  9.97784381e+00,  9.86836016e+00,  1.60431540e+01,\n",
       "        1.19889836e+01,  7.18947598e+00, -1.02499853e-01,  1.15282303e+01,\n",
       "        1.44757118e+01,  1.14733286e+01,  1.38588917e+01,  5.80926259e+00,\n",
       "        1.17354660e+01,  2.88094729e+00,  1.04071499e+01,  1.27153900e+01,\n",
       "        9.79173018e+00,  3.52146828e+00,  7.86716923e+00,  1.34492674e+01,\n",
       "        1.19362842e+01,  1.38814002e+01,  1.15811823e+01,  8.82566974e+00,\n",
       "        1.26635657e+01,  5.32503143e+00,  6.19903324e+00,  1.09168527e+01,\n",
       "        1.08166795e+01,  8.88471838e+00,  1.14810344e+01,  7.11975539e+00,\n",
       "        6.70891689e+00,  1.71376068e+01,  5.88923256e+00,  6.29391791e+00,\n",
       "        1.53757778e+01,  1.38336546e+01,  1.53429817e+01,  8.03491849e+00,\n",
       "        1.94933889e+01,  1.66745039e+01,  1.03075600e+01,  1.62764805e+01,\n",
       "        1.30051609e+01,  1.61868951e+01,  1.40329028e+01,  1.26417341e+01,\n",
       "        1.84285166e+01,  1.45931325e+01, -7.95412088e-01,  1.70456633e+01,\n",
       "        1.22682188e+01,  9.05568049e+00, -1.36180817e-02,  2.07697209e+00,\n",
       "        1.77946148e+01,  1.01388925e+01,  9.55844583e+00,  1.50025463e+01,\n",
       "        1.18696883e+01,  8.89306169e+00,  1.23492533e+01,  1.18267753e+01,\n",
       "        4.77676548e+00,  1.05053176e+01,  7.21768949e+00,  1.28202751e+01,\n",
       "        1.18286412e+01,  1.21772269e+01,  1.24088343e+01,  1.39571358e+01,\n",
       "        1.05410722e+01,  9.49806097e+00,  1.27740290e+01,  1.73210576e+01,\n",
       "       -9.24764255e-01,  9.02887593e+00,  7.74472361e+00,  6.79080697e+00,\n",
       "        4.96425448e+00,  1.23285443e+01,  9.36789578e+00,  6.59717323e+00,\n",
       "        1.18762705e+01,  8.55467227e+00,  5.14447239e+00,  6.59249907e+00,\n",
       "        1.08048166e+01,  8.72141264e+00,  1.36747331e+01,  8.30301547e+00,\n",
       "        1.89225637e+01,  9.60934463e+00,  1.18195608e+01,  7.60350834e+00,\n",
       "        1.05502938e+01,  1.09704247e+01,  1.18373374e+01,  9.53957560e+00,\n",
       "        1.30911848e+01,  1.06552215e+01,  8.74650272e+00,  7.21357384e+00,\n",
       "        5.24755183e-01,  1.81582329e+01,  1.38795645e+01,  1.08631919e+01,\n",
       "        1.18461450e+01,  1.30387325e+01,  1.31103230e+01,  1.17394595e+01,\n",
       "        8.32480013e+00,  6.63429402e+00,  1.53392012e+01,  1.36725508e+01,\n",
       "        9.04100329e+00,  1.57504254e+01,  1.02805583e+01,  1.05354354e+01,\n",
       "        8.26636134e+00,  1.53173902e+01,  1.07291541e+01,  4.20189755e+00,\n",
       "        1.05300960e+01,  6.86162368e+00,  1.81631380e+01,  5.43465079e+00,\n",
       "        9.84480924e+00,  1.03431617e+01,  8.59899472e+00, -6.04306436e-01,\n",
       "        1.30718808e+01,  1.59337752e+01,  8.22130347e+00,  1.01968039e+01,\n",
       "        1.54080388e+01,  7.51422203e+00,  9.82911921e+00,  1.40010970e+01,\n",
       "        8.35477633e+00,  1.36396832e+01,  5.24815615e+00,  8.99828665e+00,\n",
       "        8.49092149e+00,  7.15900428e+00,  1.40916063e+01,  1.44467429e+01])"
      ]
     },
     "execution_count": 22,
     "metadata": {},
     "output_type": "execute_result"
    }
   ],
   "source": [
    "# Making predictions on the training data\n",
    "y_train_pred_linear=lin_model.predict(X_train_prepared)\n",
    "y_train_pred_linear"
   ]
  },
  {
   "cell_type": "code",
   "execution_count": 23,
   "id": "db84348b",
   "metadata": {},
   "outputs": [
    {
     "data": {
      "text/plain": [
       "array([4.40311441, 3.69899358, 1.29425202, 3.06897602, 2.55866339,\n",
       "       2.64747026, 3.08372267, 5.8969225 , 3.05540843, 3.52464278])"
      ]
     },
     "execution_count": 23,
     "metadata": {},
     "output_type": "execute_result"
    }
   ],
   "source": [
    "# Evaluation using cross-validation\n",
    "linear_cv=-cross_val_score(lin_model,X_train_prepared,y_train,scoring='neg_mean_squared_error',cv=10)\n",
    "linear_cv"
   ]
  },
  {
   "cell_type": "markdown",
   "id": "95785520",
   "metadata": {},
   "source": [
    "<u>RandomForestRegressor<u>"
   ]
  },
  {
   "cell_type": "code",
   "execution_count": 24,
   "id": "7c517807",
   "metadata": {},
   "outputs": [],
   "source": [
    "# Instantiate RandomForestRegressor class\n",
    "forest_reg=RandomForestRegressor(random_state=42) \n",
    "\n",
    "# Training the forest_reg model using X_train_prepared and y_train\n",
    "forest_model=forest_reg.fit(X_train_prepared,y_train)"
   ]
  },
  {
   "cell_type": "code",
   "execution_count": 25,
   "id": "be922466",
   "metadata": {},
   "outputs": [
    {
     "data": {
      "text/plain": [
       "array([12.46, 14.  ,  0.94,  8.9 ,  8.11,  7.58, 14.18,  0.57, 11.58,\n",
       "       15.19,  0.15, 13.19,  9.25, 11.09,  9.15,  0.63,  7.99,  9.52,\n",
       "       18.22, 18.8 , 13.99, 12.42, 12.45,  5.69, 10.  , 10.04,  7.9 ,\n",
       "       10.  ,  7.96,  9.33,  2.94,  6.54,  5.03, 10.92,  5.28,  9.53,\n",
       "       18.09,  7.47,  7.5 , 15.83, 10.12, 11.55,  8.37,  8.33, 15.8 ,\n",
       "       11.69, 11.83, 12.66,  1.95,  0.2 ,  8.15, 12.06, 10.43, 12.85,\n",
       "        0.18, 18.02, 15.42,  0.21, 11.03, 16.92, 12.  ,  9.86, 13.06,\n",
       "       10.35, 15.76,  9.2 , 11.29, 15.01, 11.42, 10.39, 14.03,  0.08,\n",
       "        7.94,  8.31,  5.96, 10.55, 10.92, 13.03,  9.89, 13.65,  9.75,\n",
       "        8.  ,  6.84,  6.06, 10.84, 16.34,  6.25, 15.79, 12.4 , 15.17,\n",
       "       13.52, 15.87,  9.81,  8.97,  8.46, 12.36, 15.42,  0.  , 12.97,\n",
       "        6.27,  8.11,  9.88, 12.11, 11.38,  8.03, 12.38,  0.84, 11.41,\n",
       "        6.42,  0.09,  9.93,  0.56, 15.19,  9.83, 13.78,  8.63,  5.23,\n",
       "       11.05, 13.12,  7.93, 18.04, 11.43, 12.01,  9.87, 11.46, 12.91,\n",
       "       13.07, 10.62, 17.53,  9.14, 13.52, 15.17,  8.76,  9.92,  9.89,\n",
       "       11.36,  6.88,  8.29,  0.08, 11.34,  9.27,  9.77,  0.09,  9.4 ,\n",
       "       10.31, 15.59,  9.18, 10.7 , 11.17, 15.14, 12.99, 13.62, 12.02,\n",
       "       16.43, 12.87, 11.27,  8.72, 11.22, 10.23, 11.42, 15.32, 15.69,\n",
       "       18.12,  7.92,  1.34, 11.18,  0.  , 12.48, 18.7 ,  9.35, 10.01,\n",
       "       15.22, 12.52,  8.01,  0.  , 11.3 , 15.24, 11.81, 13.91,  4.56,\n",
       "       10.99,  0.2 , 10.87, 13.18,  9.83,  0.  ,  9.86, 13.21, 11.93,\n",
       "       13.6 , 12.14,  8.8 , 11.98,  7.96,  6.75, 11.84, 10.07,  9.85,\n",
       "       12.56,  8.17,  5.84, 15.16,  1.76,  7.75, 15.68, 14.06, 15.1 ,\n",
       "       10.09, 19.46, 15.88, 10.91, 15.87, 12.93, 15.49, 14.6 , 13.54,\n",
       "       18.1 , 13.94,  0.14, 15.21, 11.95,  9.24,  0.15,  0.  , 18.64,\n",
       "        9.65, 11.01, 16.05, 12.53, 10.74, 11.9 , 10.76,  4.86, 10.26,\n",
       "        3.11, 13.05, 12.84, 13.52, 11.32, 13.98,  9.91,  9.88, 13.01,\n",
       "       18.2 ,  0.  , 10.04,  7.94,  8.35,  7.06, 12.75, 10.36,  3.58,\n",
       "       10.86, 10.09,  5.38,  6.95, 11.81,  8.84, 14.55,  9.36, 18.09,\n",
       "        9.79, 10.1 ,  3.09, 11.25, 10.68, 11.24, 10.05, 14.09,  9.89,\n",
       "        9.08,  7.3 ,  0.32, 18.15, 15.17, 10.94, 11.84, 13.12, 12.83,\n",
       "        9.82,  9.72,  7.75, 15.04, 14.04,  9.23, 14.73, 10.09,  9.81,\n",
       "        8.3 , 15.18, 10.85,  0.16,  8.99,  7.52, 18.17,  0.92, 10.76,\n",
       "       12.17,  9.36,  0.18, 13.49, 16.22,  7.85, 11.03, 14.15,  7.97,\n",
       "       10.21, 14.63,  8.93, 14.53,  8.03,  9.15,  8.08,  8.64, 15.07,\n",
       "       13.61])"
      ]
     },
     "execution_count": 25,
     "metadata": {},
     "output_type": "execute_result"
    }
   ],
   "source": [
    "# Making predictions on the training data\n",
    "y_train_pred_forest=forest_model.predict(X_train_prepared)\n",
    "y_train_pred_forest"
   ]
  },
  {
   "cell_type": "code",
   "execution_count": 26,
   "id": "9bcafb4b",
   "metadata": {},
   "outputs": [
    {
     "data": {
      "text/plain": [
       "array([-1.78215938, -2.34829375, -1.40005625, -0.96861562, -1.32885937,\n",
       "       -1.49642813, -1.41920645, -4.46426129, -2.86932903, -1.42474839])"
      ]
     },
     "execution_count": 26,
     "metadata": {},
     "output_type": "execute_result"
    }
   ],
   "source": [
    "# Evaluation using cross-validation\n",
    "forest_cv=cross_val_score(forest_model,X_train_prepared,y_train,scoring='neg_mean_squared_error', cv=10)\n",
    "forest_cv"
   ]
  },
  {
   "cell_type": "markdown",
   "id": "c6c1d2c0",
   "metadata": {},
   "source": [
    "<u>Support Vector Machine<u>"
   ]
  },
  {
   "cell_type": "code",
   "execution_count": 27,
   "id": "c81c3f43",
   "metadata": {},
   "outputs": [
    {
     "data": {
      "text/html": [
       "<style>#sk-container-id-2 {color: black;}#sk-container-id-2 pre{padding: 0;}#sk-container-id-2 div.sk-toggleable {background-color: white;}#sk-container-id-2 label.sk-toggleable__label {cursor: pointer;display: block;width: 100%;margin-bottom: 0;padding: 0.3em;box-sizing: border-box;text-align: center;}#sk-container-id-2 label.sk-toggleable__label-arrow:before {content: \"▸\";float: left;margin-right: 0.25em;color: #696969;}#sk-container-id-2 label.sk-toggleable__label-arrow:hover:before {color: black;}#sk-container-id-2 div.sk-estimator:hover label.sk-toggleable__label-arrow:before {color: black;}#sk-container-id-2 div.sk-toggleable__content {max-height: 0;max-width: 0;overflow: hidden;text-align: left;background-color: #f0f8ff;}#sk-container-id-2 div.sk-toggleable__content pre {margin: 0.2em;color: black;border-radius: 0.25em;background-color: #f0f8ff;}#sk-container-id-2 input.sk-toggleable__control:checked~div.sk-toggleable__content {max-height: 200px;max-width: 100%;overflow: auto;}#sk-container-id-2 input.sk-toggleable__control:checked~label.sk-toggleable__label-arrow:before {content: \"▾\";}#sk-container-id-2 div.sk-estimator input.sk-toggleable__control:checked~label.sk-toggleable__label {background-color: #d4ebff;}#sk-container-id-2 div.sk-label input.sk-toggleable__control:checked~label.sk-toggleable__label {background-color: #d4ebff;}#sk-container-id-2 input.sk-hidden--visually {border: 0;clip: rect(1px 1px 1px 1px);clip: rect(1px, 1px, 1px, 1px);height: 1px;margin: -1px;overflow: hidden;padding: 0;position: absolute;width: 1px;}#sk-container-id-2 div.sk-estimator {font-family: monospace;background-color: #f0f8ff;border: 1px dotted black;border-radius: 0.25em;box-sizing: border-box;margin-bottom: 0.5em;}#sk-container-id-2 div.sk-estimator:hover {background-color: #d4ebff;}#sk-container-id-2 div.sk-parallel-item::after {content: \"\";width: 100%;border-bottom: 1px solid gray;flex-grow: 1;}#sk-container-id-2 div.sk-label:hover label.sk-toggleable__label {background-color: #d4ebff;}#sk-container-id-2 div.sk-serial::before {content: \"\";position: absolute;border-left: 1px solid gray;box-sizing: border-box;top: 0;bottom: 0;left: 50%;z-index: 0;}#sk-container-id-2 div.sk-serial {display: flex;flex-direction: column;align-items: center;background-color: white;padding-right: 0.2em;padding-left: 0.2em;position: relative;}#sk-container-id-2 div.sk-item {position: relative;z-index: 1;}#sk-container-id-2 div.sk-parallel {display: flex;align-items: stretch;justify-content: center;background-color: white;position: relative;}#sk-container-id-2 div.sk-item::before, #sk-container-id-2 div.sk-parallel-item::before {content: \"\";position: absolute;border-left: 1px solid gray;box-sizing: border-box;top: 0;bottom: 0;left: 50%;z-index: -1;}#sk-container-id-2 div.sk-parallel-item {display: flex;flex-direction: column;z-index: 1;position: relative;background-color: white;}#sk-container-id-2 div.sk-parallel-item:first-child::after {align-self: flex-end;width: 50%;}#sk-container-id-2 div.sk-parallel-item:last-child::after {align-self: flex-start;width: 50%;}#sk-container-id-2 div.sk-parallel-item:only-child::after {width: 0;}#sk-container-id-2 div.sk-dashed-wrapped {border: 1px dashed gray;margin: 0 0.4em 0.5em 0.4em;box-sizing: border-box;padding-bottom: 0.4em;background-color: white;}#sk-container-id-2 div.sk-label label {font-family: monospace;font-weight: bold;display: inline-block;line-height: 1.2em;}#sk-container-id-2 div.sk-label-container {text-align: center;}#sk-container-id-2 div.sk-container {/* jupyter's `normalize.less` sets `[hidden] { display: none; }` but bootstrap.min.css set `[hidden] { display: none !important; }` so we also need the `!important` here to be able to override the default hidden behavior on the sphinx rendered scikit-learn.org. See: https://github.com/scikit-learn/scikit-learn/issues/21755 */display: inline-block !important;position: relative;}#sk-container-id-2 div.sk-text-repr-fallback {display: none;}</style><div id=\"sk-container-id-2\" class=\"sk-top-container\"><div class=\"sk-text-repr-fallback\"><pre>SVR()</pre><b>In a Jupyter environment, please rerun this cell to show the HTML representation or trust the notebook. <br />On GitHub, the HTML representation is unable to render, please try loading this page with nbviewer.org.</b></div><div class=\"sk-container\" hidden><div class=\"sk-item\"><div class=\"sk-estimator sk-toggleable\"><input class=\"sk-toggleable__control sk-hidden--visually\" id=\"sk-estimator-id-2\" type=\"checkbox\" checked><label for=\"sk-estimator-id-2\" class=\"sk-toggleable__label sk-toggleable__label-arrow\">SVR</label><div class=\"sk-toggleable__content\"><pre>SVR()</pre></div></div></div></div></div>"
      ],
      "text/plain": [
       "SVR()"
      ]
     },
     "execution_count": 27,
     "metadata": {},
     "output_type": "execute_result"
    }
   ],
   "source": [
    "# Instantiate SVR model\n",
    "svm_model=SVR()\n",
    "\n",
    "# Training the SVR model using X_train_prepared and y_train\n",
    "svm_model.fit(X_train_prepared,y_train)"
   ]
  },
  {
   "cell_type": "code",
   "execution_count": 28,
   "id": "f309708c",
   "metadata": {},
   "outputs": [
    {
     "data": {
      "text/plain": [
       "array([12.80192096, 12.98233853,  6.09255683,  9.53905569,  8.46310211,\n",
       "        9.51945508, 13.12519245,  5.47493577, 11.7539222 , 13.7311076 ,\n",
       "        4.97257451, 11.15425387,  9.86020449, 11.26698746, 10.06451318,\n",
       "        7.00741016,  9.29351536, 10.0904674 , 16.08705783, 16.6051846 ,\n",
       "       13.79996002, 12.10005071, 10.93237737,  7.34353049,  9.91460561,\n",
       "       10.65035187,  7.90010334,  9.99068751,  9.39384366, 10.57910697,\n",
       "        8.86507881,  7.56827395,  8.08574018, 10.97331147,  7.86356632,\n",
       "        9.90024941, 16.49590161,  6.61205493,  7.55012725, 14.63791328,\n",
       "       10.09799398, 10.74974631, 10.04811285,  9.60512309, 14.57328765,\n",
       "       12.45159181, 12.1109295 , 12.52723958,  6.95786602,  2.96608625,\n",
       "        8.81037618, 12.64411267, 11.49029943, 13.46563158,  5.56639419,\n",
       "       11.61985004, 14.89965363,  7.10567496, 11.17692271, 15.50564604,\n",
       "       12.7906875 , 10.22974704, 10.72317841, 10.42944536, 15.2402803 ,\n",
       "        8.81124031, 11.06855054, 12.91888835, 11.46417559,  9.9827596 ,\n",
       "       13.84900512,  4.80648507,  9.24667777,  8.46072448,  9.95450249,\n",
       "       11.4157023 , 11.39798581, 12.26623844,  9.65590799, 13.18590869,\n",
       "        9.9489265 ,  9.59892873,  9.17434675,  9.11194239, 10.92641512,\n",
       "       15.11548792,  7.57194963, 13.57822938, 11.05668089, 13.00623355,\n",
       "       13.10012098, 14.29523567,  8.71979657,  9.98336922,  9.12820386,\n",
       "       12.27596261, 14.50213341,  3.13576759, 12.75943543,  8.35820668,\n",
       "        9.61136386,  9.90552878, 11.93530153, 11.63233289,  9.69929126,\n",
       "       12.09965313,  6.01254725, 11.30806735,  8.47148293,  4.37438326,\n",
       "       10.18396959,  7.95807141, 13.61780246, 10.27427446, 13.08075129,\n",
       "       10.22963505,  6.45294423, 11.10024812, 12.02692406,  9.50304265,\n",
       "       15.45328652, 12.36270549, 11.89973195,  9.5355595 , 11.34753664,\n",
       "       13.48068737, 11.68492002, 11.10009497, 13.14364861, 10.20537351,\n",
       "       12.99080463, 13.95136828,  9.87460416, 10.04698036,  9.11246893,\n",
       "       11.19799297,  6.49119014,  8.50450757,  5.59975951, 11.04482423,\n",
       "        9.58646212,  9.55271086,  6.25819331,  8.6874669 , 10.74593181,\n",
       "       14.74794343,  9.27707182, 11.5618383 , 11.92397145, 14.75488745,\n",
       "       12.91415742, 12.87436313, 11.10879617, 15.13475275, 11.25515613,\n",
       "       11.06197198,  6.69591738, 10.58474206, 10.3993954 , 10.06587053,\n",
       "       15.02409084, 13.60938053, 16.63255969,  9.31028385,  7.8297301 ,\n",
       "       10.91545565,  4.22968321, 11.8023678 , 17.2759571 ,  9.84188377,\n",
       "       10.70391364, 15.09949196, 11.20197044,  8.30216541,  4.59618407,\n",
       "       11.34541472, 13.40777137, 10.55759091, 13.93710191,  7.9970319 ,\n",
       "       11.7981345 ,  5.26359909, 10.78757214, 11.83611727, 10.09997419,\n",
       "        5.45642814,  8.75616426, 12.63024394, 11.02126243, 13.49529911,\n",
       "       12.32409618,  9.79101697, 12.08417676,  8.11263732,  7.09985422,\n",
       "        9.93372349, 10.2660275 ,  9.07544593, 13.31574518,  7.90009167,\n",
       "        8.5929881 , 14.24494254,  7.91874493,  8.39752656, 13.73785653,\n",
       "       13.1287111 , 14.20654666,  9.58563973, 18.12452414, 15.50223909,\n",
       "       11.10036628, 15.30526463, 12.82401452, 14.8515559 , 13.35171938,\n",
       "       11.89633623, 12.40600132, 13.26390123,  3.87115336, 12.25753086,\n",
       "       11.52428378,  9.82488316,  6.24933384,  4.85781987, 16.059197  ,\n",
       "       10.10010079, 10.90008796, 14.28989775, 12.9075714 , 10.28093166,\n",
       "       11.51585337, 12.09546996,  5.66609071, 11.01300971,  9.2705816 ,\n",
       "       12.89976774, 11.83757108, 11.66451612, 13.16145443, 13.94862658,\n",
       "        9.14283132,  9.91072408, 11.64926926, 15.76005402,  3.80174918,\n",
       "        9.98424029,  7.79379301,  9.08732607,  5.67183906, 11.76649372,\n",
       "       10.24461966,  9.5357695 , 11.10036298,  8.98764243,  6.01804675,\n",
       "        7.55306504, 11.17801657,  9.95416366, 12.72540447, 10.00190644,\n",
       "       15.96098983,  9.4560258 , 10.96150277,  9.20096393, 10.51751967,\n",
       "       10.88246639, 10.89984012, 10.50230732, 13.74012505, 10.34344475,\n",
       "       10.38377863,  8.10009095,  5.82017581, 15.41299681, 13.94125062,\n",
       "       10.86352748, 12.42377221, 12.09127061, 12.18356211, 10.85125603,\n",
       "        9.26894308,  8.05028701, 13.95308612, 13.82667012,  9.86105418,\n",
       "       14.79165661, 11.02793007, 10.77082794,  7.84189491, 13.58256126,\n",
       "       10.90015269,  5.72390317,  9.32771395,  8.20563027, 16.69791626,\n",
       "        7.87434306, 11.10016101, 11.82864609,  7.72228496,  5.70346423,\n",
       "       12.09349438, 15.24408157,  8.48737567, 12.13009347, 14.33542595,\n",
       "        8.55727273, 10.10033145, 14.60400018,  8.89969043, 13.71463029,\n",
       "        8.72078251, 10.09941251,  8.61602548,  9.10031652, 13.6686351 ,\n",
       "       12.4864399 ])"
      ]
     },
     "execution_count": 28,
     "metadata": {},
     "output_type": "execute_result"
    }
   ],
   "source": [
    "# Making predictions on the training data\n",
    "y_train_pred=svm_model.predict(X_train_prepared)\n",
    "y_train_pred"
   ]
  },
  {
   "cell_type": "code",
   "execution_count": 29,
   "id": "68ab9338",
   "metadata": {},
   "outputs": [
    {
     "data": {
      "text/plain": [
       "array([-10.00547077,  -8.60901827,  -3.54450777,  -6.24455762,\n",
       "        -4.06809056,  -7.29399309,  -7.46704322,  -9.2503884 ,\n",
       "        -5.56775877,  -5.30872456])"
      ]
     },
     "execution_count": 29,
     "metadata": {},
     "output_type": "execute_result"
    }
   ],
   "source": [
    "# Evaluation using cross-validation\n",
    "svm_cv=cross_val_score(svm_model, X_train_prepared, y_train, scoring='neg_mean_squared_error',cv=10)\n",
    "svm_cv"
   ]
  },
  {
   "cell_type": "markdown",
   "id": "278faa6e",
   "metadata": {},
   "source": [
    "<u>DecisionTreeRegressor<u>"
   ]
  },
  {
   "cell_type": "code",
   "execution_count": 30,
   "id": "19ef960f",
   "metadata": {},
   "outputs": [
    {
     "data": {
      "text/html": [
       "<style>#sk-container-id-3 {color: black;}#sk-container-id-3 pre{padding: 0;}#sk-container-id-3 div.sk-toggleable {background-color: white;}#sk-container-id-3 label.sk-toggleable__label {cursor: pointer;display: block;width: 100%;margin-bottom: 0;padding: 0.3em;box-sizing: border-box;text-align: center;}#sk-container-id-3 label.sk-toggleable__label-arrow:before {content: \"▸\";float: left;margin-right: 0.25em;color: #696969;}#sk-container-id-3 label.sk-toggleable__label-arrow:hover:before {color: black;}#sk-container-id-3 div.sk-estimator:hover label.sk-toggleable__label-arrow:before {color: black;}#sk-container-id-3 div.sk-toggleable__content {max-height: 0;max-width: 0;overflow: hidden;text-align: left;background-color: #f0f8ff;}#sk-container-id-3 div.sk-toggleable__content pre {margin: 0.2em;color: black;border-radius: 0.25em;background-color: #f0f8ff;}#sk-container-id-3 input.sk-toggleable__control:checked~div.sk-toggleable__content {max-height: 200px;max-width: 100%;overflow: auto;}#sk-container-id-3 input.sk-toggleable__control:checked~label.sk-toggleable__label-arrow:before {content: \"▾\";}#sk-container-id-3 div.sk-estimator input.sk-toggleable__control:checked~label.sk-toggleable__label {background-color: #d4ebff;}#sk-container-id-3 div.sk-label input.sk-toggleable__control:checked~label.sk-toggleable__label {background-color: #d4ebff;}#sk-container-id-3 input.sk-hidden--visually {border: 0;clip: rect(1px 1px 1px 1px);clip: rect(1px, 1px, 1px, 1px);height: 1px;margin: -1px;overflow: hidden;padding: 0;position: absolute;width: 1px;}#sk-container-id-3 div.sk-estimator {font-family: monospace;background-color: #f0f8ff;border: 1px dotted black;border-radius: 0.25em;box-sizing: border-box;margin-bottom: 0.5em;}#sk-container-id-3 div.sk-estimator:hover {background-color: #d4ebff;}#sk-container-id-3 div.sk-parallel-item::after {content: \"\";width: 100%;border-bottom: 1px solid gray;flex-grow: 1;}#sk-container-id-3 div.sk-label:hover label.sk-toggleable__label {background-color: #d4ebff;}#sk-container-id-3 div.sk-serial::before {content: \"\";position: absolute;border-left: 1px solid gray;box-sizing: border-box;top: 0;bottom: 0;left: 50%;z-index: 0;}#sk-container-id-3 div.sk-serial {display: flex;flex-direction: column;align-items: center;background-color: white;padding-right: 0.2em;padding-left: 0.2em;position: relative;}#sk-container-id-3 div.sk-item {position: relative;z-index: 1;}#sk-container-id-3 div.sk-parallel {display: flex;align-items: stretch;justify-content: center;background-color: white;position: relative;}#sk-container-id-3 div.sk-item::before, #sk-container-id-3 div.sk-parallel-item::before {content: \"\";position: absolute;border-left: 1px solid gray;box-sizing: border-box;top: 0;bottom: 0;left: 50%;z-index: -1;}#sk-container-id-3 div.sk-parallel-item {display: flex;flex-direction: column;z-index: 1;position: relative;background-color: white;}#sk-container-id-3 div.sk-parallel-item:first-child::after {align-self: flex-end;width: 50%;}#sk-container-id-3 div.sk-parallel-item:last-child::after {align-self: flex-start;width: 50%;}#sk-container-id-3 div.sk-parallel-item:only-child::after {width: 0;}#sk-container-id-3 div.sk-dashed-wrapped {border: 1px dashed gray;margin: 0 0.4em 0.5em 0.4em;box-sizing: border-box;padding-bottom: 0.4em;background-color: white;}#sk-container-id-3 div.sk-label label {font-family: monospace;font-weight: bold;display: inline-block;line-height: 1.2em;}#sk-container-id-3 div.sk-label-container {text-align: center;}#sk-container-id-3 div.sk-container {/* jupyter's `normalize.less` sets `[hidden] { display: none; }` but bootstrap.min.css set `[hidden] { display: none !important; }` so we also need the `!important` here to be able to override the default hidden behavior on the sphinx rendered scikit-learn.org. See: https://github.com/scikit-learn/scikit-learn/issues/21755 */display: inline-block !important;position: relative;}#sk-container-id-3 div.sk-text-repr-fallback {display: none;}</style><div id=\"sk-container-id-3\" class=\"sk-top-container\"><div class=\"sk-text-repr-fallback\"><pre>DecisionTreeRegressor(random_state=42)</pre><b>In a Jupyter environment, please rerun this cell to show the HTML representation or trust the notebook. <br />On GitHub, the HTML representation is unable to render, please try loading this page with nbviewer.org.</b></div><div class=\"sk-container\" hidden><div class=\"sk-item\"><div class=\"sk-estimator sk-toggleable\"><input class=\"sk-toggleable__control sk-hidden--visually\" id=\"sk-estimator-id-3\" type=\"checkbox\" checked><label for=\"sk-estimator-id-3\" class=\"sk-toggleable__label sk-toggleable__label-arrow\">DecisionTreeRegressor</label><div class=\"sk-toggleable__content\"><pre>DecisionTreeRegressor(random_state=42)</pre></div></div></div></div></div>"
      ],
      "text/plain": [
       "DecisionTreeRegressor(random_state=42)"
      ]
     },
     "execution_count": 30,
     "metadata": {},
     "output_type": "execute_result"
    }
   ],
   "source": [
    "# Instantiate DecisionTreeRegressor model\n",
    "tree_model=DecisionTreeRegressor(random_state=42)\n",
    "\n",
    "# Training the DecisionTreeRegressor model using X_train_prepared and y_train\n",
    "tree_model.fit(X_train_prepared,y_train)"
   ]
  },
  {
   "cell_type": "code",
   "execution_count": 31,
   "id": "15e41eb9",
   "metadata": {},
   "outputs": [
    {
     "data": {
      "text/plain": [
       "array([12., 14.,  0.,  9.,  8.,  7., 14.,  0., 12., 15.,  0., 13.,  9.,\n",
       "       11., 10.,  0.,  8., 10., 18., 19., 14., 12., 13.,  6., 10., 10.,\n",
       "        8., 10.,  8.,  9.,  0.,  7.,  5., 11.,  5., 10., 18.,  8.,  8.,\n",
       "       16., 10., 12.,  8., 11., 16., 11., 12., 13.,  0.,  0.,  8., 12.,\n",
       "       10., 13.,  0., 18., 15.,  0., 11., 18., 12., 10., 13., 10., 16.,\n",
       "       10., 11., 15., 11., 11., 14.,  0.,  9.,  8.,  6., 11., 11., 13.,\n",
       "       10., 14., 10.,  8.,  7.,  6., 11., 17.,  6., 16., 13., 15., 13.,\n",
       "       16., 10.,  9.,  8., 12., 15.,  0., 13.,  6.,  8., 10., 12., 11.,\n",
       "        8., 12.,  0., 12.,  6.,  0., 10.,  0., 15., 10., 14.,  8.,  6.,\n",
       "       11., 13.,  8., 18., 11., 12., 10., 11., 13., 13., 11., 17.,  9.,\n",
       "       13., 15.,  9., 10., 10., 11.,  7.,  8.,  0., 12., 10., 10.,  0.,\n",
       "       10., 11., 16.,  9., 11., 11., 15., 14., 14., 12., 17., 13., 11.,\n",
       "        9., 11., 10., 11., 15., 16., 18.,  9.,  0., 11.,  0., 12., 19.,\n",
       "        9., 10., 15., 13.,  8.,  0., 11., 15., 12., 14.,  6., 11.,  0.,\n",
       "       11., 13., 10.,  0., 10., 13., 12., 14., 12.,  9., 12.,  8.,  7.,\n",
       "       12., 10., 10., 13.,  8.,  5., 15.,  0.,  8., 16., 14., 15., 11.,\n",
       "       20., 16., 11., 16., 13., 15., 15., 14., 18., 14.,  0., 15., 12.,\n",
       "        9.,  0.,  0., 19., 10., 11., 16., 13., 11., 12., 11.,  4., 10.,\n",
       "        0., 13., 13., 14., 11., 14., 10., 10., 13., 18.,  0., 10.,  7.,\n",
       "       11.,  8., 13., 10.,  0., 11., 11.,  6.,  7., 12.,  9., 15.,  9.,\n",
       "       18., 10., 10.,  0., 12., 11., 11., 10., 14., 10.,  9.,  8.,  0.,\n",
       "       18., 15., 11., 12., 13., 13.,  9., 10.,  7., 15., 14.,  9., 14.,\n",
       "       10., 10.,  8., 15., 11.,  0.,  9.,  9., 18.,  0., 11., 12., 10.,\n",
       "        0., 14., 16.,  8., 11., 14.,  8., 10., 15.,  9., 15.,  9., 10.,\n",
       "        8.,  9., 15., 14.])"
      ]
     },
     "execution_count": 31,
     "metadata": {},
     "output_type": "execute_result"
    }
   ],
   "source": [
    "# Make predictions on the training data\n",
    "y_train_pred=tree_model.predict(X_train_prepared)\n",
    "y_train_pred"
   ]
  },
  {
   "cell_type": "code",
   "execution_count": 32,
   "id": "111cd9f9",
   "metadata": {},
   "outputs": [
    {
     "data": {
      "text/plain": [
       "array([4.25      , 6.96875   , 1.84375   , 2.        , 2.03125   ,\n",
       "       2.34375   , 1.25806452, 4.61290323, 4.32258065, 3.64516129])"
      ]
     },
     "execution_count": 32,
     "metadata": {},
     "output_type": "execute_result"
    }
   ],
   "source": [
    "# Evaluation using cross-validation\n",
    "tree_cv=-cross_val_score(tree_model,X_train_prepared,y_train,scoring='neg_mean_squared_error',cv=10)\n",
    "tree_cv"
   ]
  },
  {
   "cell_type": "markdown",
   "id": "b8023825",
   "metadata": {},
   "source": [
    "I have employed `ColumnTransformer` to combine various transformers for preprocessing data. This includes the numerical pipeline (`num_pipeline`), the nominal pipeline (`nom_pipeline`), and the custom transformer (`CustomTransformer`). The custom transformer is configured with the parameter `drop_G1_G2` set to `False`, indicating that the 'G1' and 'G2' columns will be retained in the data. The specified columns are then transformed using the defined transformers, creating a comprehensive preprocessing pipeline for the machine-learning models used."
   ]
  },
  {
   "cell_type": "code",
   "execution_count": 33,
   "id": "210a8705",
   "metadata": {},
   "outputs": [],
   "source": [
    "# Combined transformers using ColumnTransformer with the custom transformer\n",
    "preprocessing_with_G1_G2=ColumnTransformer([\n",
    "    ('num',num_pipeline,num_attributes),\n",
    "    ('nom',nom_pipeline,nom_attributes),\n",
    "    ('custom',CustomTransformer(drop_G1_G2=False),['G1','G2','absences_G1','absences_G2','absences_G3'])\n",
    "])"
   ]
  },
  {
   "cell_type": "markdown",
   "id": "71a66667",
   "metadata": {},
   "source": [
    "This code applies the preprocessing pipeline to the training data."
   ]
  },
  {
   "cell_type": "code",
   "execution_count": 81,
   "id": "bf3f9b8e",
   "metadata": {},
   "outputs": [
    {
     "data": {
      "text/plain": [
       "array([[-0.60476491,  0.24643712,  0.42320737, ..., 12.        ,\n",
       "        13.        ,  2.        ],\n",
       "       [-0.60476491, -0.68063585,  0.42320737, ..., 13.        ,\n",
       "        14.        ,  0.        ],\n",
       "       [-0.60476491, -1.60770883,  0.42320737, ...,  8.        ,\n",
       "         7.        ,  0.        ],\n",
       "       ...,\n",
       "       [ 1.79405154,  0.24643712,  0.42320737, ...,  9.        ,\n",
       "         9.        , 15.        ],\n",
       "       [ 0.19484058,  1.17351009,  0.42320737, ..., 13.        ,\n",
       "        15.        ,  0.        ],\n",
       "       [-1.40437039,  1.17351009,  1.35191243, ..., 10.        ,\n",
       "        13.        ,  4.        ]])"
      ]
     },
     "execution_count": 81,
     "metadata": {},
     "output_type": "execute_result"
    }
   ],
   "source": [
    "# Applying the preprocessing pipeline\n",
    "X_train_prepared_with_G1_G2=preprocessing_with_G1_G2.fit_transform(X_train)\n",
    "X_train_prepared_with_G1_G2"
   ]
  },
  {
   "cell_type": "markdown",
   "id": "6069f3c5",
   "metadata": {},
   "source": [
    "Comparing Four Models **With** 'G1' and 'G2' Columns\n",
    "\n",
    "\n",
    "<u>LinearRegression Model<u>"
   ]
  },
  {
   "cell_type": "code",
   "execution_count": 35,
   "id": "e8fb42e2",
   "metadata": {
    "scrolled": true
   },
   "outputs": [
    {
     "data": {
      "text/html": [
       "<style>#sk-container-id-4 {color: black;}#sk-container-id-4 pre{padding: 0;}#sk-container-id-4 div.sk-toggleable {background-color: white;}#sk-container-id-4 label.sk-toggleable__label {cursor: pointer;display: block;width: 100%;margin-bottom: 0;padding: 0.3em;box-sizing: border-box;text-align: center;}#sk-container-id-4 label.sk-toggleable__label-arrow:before {content: \"▸\";float: left;margin-right: 0.25em;color: #696969;}#sk-container-id-4 label.sk-toggleable__label-arrow:hover:before {color: black;}#sk-container-id-4 div.sk-estimator:hover label.sk-toggleable__label-arrow:before {color: black;}#sk-container-id-4 div.sk-toggleable__content {max-height: 0;max-width: 0;overflow: hidden;text-align: left;background-color: #f0f8ff;}#sk-container-id-4 div.sk-toggleable__content pre {margin: 0.2em;color: black;border-radius: 0.25em;background-color: #f0f8ff;}#sk-container-id-4 input.sk-toggleable__control:checked~div.sk-toggleable__content {max-height: 200px;max-width: 100%;overflow: auto;}#sk-container-id-4 input.sk-toggleable__control:checked~label.sk-toggleable__label-arrow:before {content: \"▾\";}#sk-container-id-4 div.sk-estimator input.sk-toggleable__control:checked~label.sk-toggleable__label {background-color: #d4ebff;}#sk-container-id-4 div.sk-label input.sk-toggleable__control:checked~label.sk-toggleable__label {background-color: #d4ebff;}#sk-container-id-4 input.sk-hidden--visually {border: 0;clip: rect(1px 1px 1px 1px);clip: rect(1px, 1px, 1px, 1px);height: 1px;margin: -1px;overflow: hidden;padding: 0;position: absolute;width: 1px;}#sk-container-id-4 div.sk-estimator {font-family: monospace;background-color: #f0f8ff;border: 1px dotted black;border-radius: 0.25em;box-sizing: border-box;margin-bottom: 0.5em;}#sk-container-id-4 div.sk-estimator:hover {background-color: #d4ebff;}#sk-container-id-4 div.sk-parallel-item::after {content: \"\";width: 100%;border-bottom: 1px solid gray;flex-grow: 1;}#sk-container-id-4 div.sk-label:hover label.sk-toggleable__label {background-color: #d4ebff;}#sk-container-id-4 div.sk-serial::before {content: \"\";position: absolute;border-left: 1px solid gray;box-sizing: border-box;top: 0;bottom: 0;left: 50%;z-index: 0;}#sk-container-id-4 div.sk-serial {display: flex;flex-direction: column;align-items: center;background-color: white;padding-right: 0.2em;padding-left: 0.2em;position: relative;}#sk-container-id-4 div.sk-item {position: relative;z-index: 1;}#sk-container-id-4 div.sk-parallel {display: flex;align-items: stretch;justify-content: center;background-color: white;position: relative;}#sk-container-id-4 div.sk-item::before, #sk-container-id-4 div.sk-parallel-item::before {content: \"\";position: absolute;border-left: 1px solid gray;box-sizing: border-box;top: 0;bottom: 0;left: 50%;z-index: -1;}#sk-container-id-4 div.sk-parallel-item {display: flex;flex-direction: column;z-index: 1;position: relative;background-color: white;}#sk-container-id-4 div.sk-parallel-item:first-child::after {align-self: flex-end;width: 50%;}#sk-container-id-4 div.sk-parallel-item:last-child::after {align-self: flex-start;width: 50%;}#sk-container-id-4 div.sk-parallel-item:only-child::after {width: 0;}#sk-container-id-4 div.sk-dashed-wrapped {border: 1px dashed gray;margin: 0 0.4em 0.5em 0.4em;box-sizing: border-box;padding-bottom: 0.4em;background-color: white;}#sk-container-id-4 div.sk-label label {font-family: monospace;font-weight: bold;display: inline-block;line-height: 1.2em;}#sk-container-id-4 div.sk-label-container {text-align: center;}#sk-container-id-4 div.sk-container {/* jupyter's `normalize.less` sets `[hidden] { display: none; }` but bootstrap.min.css set `[hidden] { display: none !important; }` so we also need the `!important` here to be able to override the default hidden behavior on the sphinx rendered scikit-learn.org. See: https://github.com/scikit-learn/scikit-learn/issues/21755 */display: inline-block !important;position: relative;}#sk-container-id-4 div.sk-text-repr-fallback {display: none;}</style><div id=\"sk-container-id-4\" class=\"sk-top-container\"><div class=\"sk-text-repr-fallback\"><pre>LinearRegression()</pre><b>In a Jupyter environment, please rerun this cell to show the HTML representation or trust the notebook. <br />On GitHub, the HTML representation is unable to render, please try loading this page with nbviewer.org.</b></div><div class=\"sk-container\" hidden><div class=\"sk-item\"><div class=\"sk-estimator sk-toggleable\"><input class=\"sk-toggleable__control sk-hidden--visually\" id=\"sk-estimator-id-4\" type=\"checkbox\" checked><label for=\"sk-estimator-id-4\" class=\"sk-toggleable__label sk-toggleable__label-arrow\">LinearRegression</label><div class=\"sk-toggleable__content\"><pre>LinearRegression()</pre></div></div></div></div></div>"
      ],
      "text/plain": [
       "LinearRegression()"
      ]
     },
     "execution_count": 35,
     "metadata": {},
     "output_type": "execute_result"
    }
   ],
   "source": [
    "# Linear Regression\n",
    "# Training the Linear Regression model using the preprocessed data (X_train_prepared_with_G1_G2) with 'G1' and 'G2' columns included, and target labels (y_train).\n",
    "lin_model_with_G1_G2=LinearRegression()\n",
    "lin_model_with_G1_G2.fit(X_train_prepared_with_G1_G2,y_train)"
   ]
  },
  {
   "cell_type": "code",
   "execution_count": 36,
   "id": "d91384a7",
   "metadata": {
    "scrolled": false
   },
   "outputs": [],
   "source": [
    "# Generating the predictions with 'G1' and 'G2' columns using my trained Linear Regression model (lin_model_with_G1_G2).\n",
    "y_train_pred_linear_with_G1_G2=lin_model_with_G1_G2.predict(X_train_prepared_with_G1_G2)"
   ]
  },
  {
   "cell_type": "code",
   "execution_count": 37,
   "id": "b95ce978",
   "metadata": {},
   "outputs": [
    {
     "data": {
      "text/plain": [
       "3.3232166059282973"
      ]
     },
     "execution_count": 37,
     "metadata": {},
     "output_type": "execute_result"
    }
   ],
   "source": [
    "# Running a cross-validation score for my LinearRegression model with 'G1' and 'G2' columns included\n",
    "linear_cv_with_G1_G2=-cross_val_score(lin_model_with_G1_G2,X_train_prepared_with_G1_G2,y_train,scoring='neg_mean_squared_error',cv=10)\n",
    "linear_cv_with_G1_G2.mean() # Shows the cross-validation mean score "
   ]
  },
  {
   "cell_type": "code",
   "execution_count": 38,
   "id": "d5a82878",
   "metadata": {},
   "outputs": [
    {
     "data": {
      "text/plain": [
       "count    10.000000\n",
       "mean      3.323217\n",
       "std       1.216713\n",
       "min       1.294252\n",
       "25%       2.749455\n",
       "50%       3.076349\n",
       "75%       3.655406\n",
       "max       5.896923\n",
       "dtype: float64"
      ]
     },
     "execution_count": 38,
     "metadata": {},
     "output_type": "execute_result"
    }
   ],
   "source": [
    "# This displays the statistics for the linear_cv_with_G1_G2 data\n",
    "pd.Series(linear_cv_with_G1_G2).describe()"
   ]
  },
  {
   "cell_type": "markdown",
   "id": "ccf1fcd8",
   "metadata": {},
   "source": [
    "<u>RandomForestRegressor</u>"
   ]
  },
  {
   "cell_type": "code",
   "execution_count": 39,
   "id": "f2936ef8",
   "metadata": {},
   "outputs": [
    {
     "data": {
      "text/html": [
       "<style>#sk-container-id-5 {color: black;}#sk-container-id-5 pre{padding: 0;}#sk-container-id-5 div.sk-toggleable {background-color: white;}#sk-container-id-5 label.sk-toggleable__label {cursor: pointer;display: block;width: 100%;margin-bottom: 0;padding: 0.3em;box-sizing: border-box;text-align: center;}#sk-container-id-5 label.sk-toggleable__label-arrow:before {content: \"▸\";float: left;margin-right: 0.25em;color: #696969;}#sk-container-id-5 label.sk-toggleable__label-arrow:hover:before {color: black;}#sk-container-id-5 div.sk-estimator:hover label.sk-toggleable__label-arrow:before {color: black;}#sk-container-id-5 div.sk-toggleable__content {max-height: 0;max-width: 0;overflow: hidden;text-align: left;background-color: #f0f8ff;}#sk-container-id-5 div.sk-toggleable__content pre {margin: 0.2em;color: black;border-radius: 0.25em;background-color: #f0f8ff;}#sk-container-id-5 input.sk-toggleable__control:checked~div.sk-toggleable__content {max-height: 200px;max-width: 100%;overflow: auto;}#sk-container-id-5 input.sk-toggleable__control:checked~label.sk-toggleable__label-arrow:before {content: \"▾\";}#sk-container-id-5 div.sk-estimator input.sk-toggleable__control:checked~label.sk-toggleable__label {background-color: #d4ebff;}#sk-container-id-5 div.sk-label input.sk-toggleable__control:checked~label.sk-toggleable__label {background-color: #d4ebff;}#sk-container-id-5 input.sk-hidden--visually {border: 0;clip: rect(1px 1px 1px 1px);clip: rect(1px, 1px, 1px, 1px);height: 1px;margin: -1px;overflow: hidden;padding: 0;position: absolute;width: 1px;}#sk-container-id-5 div.sk-estimator {font-family: monospace;background-color: #f0f8ff;border: 1px dotted black;border-radius: 0.25em;box-sizing: border-box;margin-bottom: 0.5em;}#sk-container-id-5 div.sk-estimator:hover {background-color: #d4ebff;}#sk-container-id-5 div.sk-parallel-item::after {content: \"\";width: 100%;border-bottom: 1px solid gray;flex-grow: 1;}#sk-container-id-5 div.sk-label:hover label.sk-toggleable__label {background-color: #d4ebff;}#sk-container-id-5 div.sk-serial::before {content: \"\";position: absolute;border-left: 1px solid gray;box-sizing: border-box;top: 0;bottom: 0;left: 50%;z-index: 0;}#sk-container-id-5 div.sk-serial {display: flex;flex-direction: column;align-items: center;background-color: white;padding-right: 0.2em;padding-left: 0.2em;position: relative;}#sk-container-id-5 div.sk-item {position: relative;z-index: 1;}#sk-container-id-5 div.sk-parallel {display: flex;align-items: stretch;justify-content: center;background-color: white;position: relative;}#sk-container-id-5 div.sk-item::before, #sk-container-id-5 div.sk-parallel-item::before {content: \"\";position: absolute;border-left: 1px solid gray;box-sizing: border-box;top: 0;bottom: 0;left: 50%;z-index: -1;}#sk-container-id-5 div.sk-parallel-item {display: flex;flex-direction: column;z-index: 1;position: relative;background-color: white;}#sk-container-id-5 div.sk-parallel-item:first-child::after {align-self: flex-end;width: 50%;}#sk-container-id-5 div.sk-parallel-item:last-child::after {align-self: flex-start;width: 50%;}#sk-container-id-5 div.sk-parallel-item:only-child::after {width: 0;}#sk-container-id-5 div.sk-dashed-wrapped {border: 1px dashed gray;margin: 0 0.4em 0.5em 0.4em;box-sizing: border-box;padding-bottom: 0.4em;background-color: white;}#sk-container-id-5 div.sk-label label {font-family: monospace;font-weight: bold;display: inline-block;line-height: 1.2em;}#sk-container-id-5 div.sk-label-container {text-align: center;}#sk-container-id-5 div.sk-container {/* jupyter's `normalize.less` sets `[hidden] { display: none; }` but bootstrap.min.css set `[hidden] { display: none !important; }` so we also need the `!important` here to be able to override the default hidden behavior on the sphinx rendered scikit-learn.org. See: https://github.com/scikit-learn/scikit-learn/issues/21755 */display: inline-block !important;position: relative;}#sk-container-id-5 div.sk-text-repr-fallback {display: none;}</style><div id=\"sk-container-id-5\" class=\"sk-top-container\"><div class=\"sk-text-repr-fallback\"><pre>RandomForestRegressor(random_state=42)</pre><b>In a Jupyter environment, please rerun this cell to show the HTML representation or trust the notebook. <br />On GitHub, the HTML representation is unable to render, please try loading this page with nbviewer.org.</b></div><div class=\"sk-container\" hidden><div class=\"sk-item\"><div class=\"sk-estimator sk-toggleable\"><input class=\"sk-toggleable__control sk-hidden--visually\" id=\"sk-estimator-id-5\" type=\"checkbox\" checked><label for=\"sk-estimator-id-5\" class=\"sk-toggleable__label sk-toggleable__label-arrow\">RandomForestRegressor</label><div class=\"sk-toggleable__content\"><pre>RandomForestRegressor(random_state=42)</pre></div></div></div></div></div>"
      ],
      "text/plain": [
       "RandomForestRegressor(random_state=42)"
      ]
     },
     "execution_count": 39,
     "metadata": {},
     "output_type": "execute_result"
    }
   ],
   "source": [
    "# Training the RandomForestRegressor model with 'G1' and 'G2' columns included\n",
    "forest_model_with_G1_G2=RandomForestRegressor(random_state=42)\n",
    "forest_model_with_G1_G2.fit(X_train_prepared_with_G1_G2, y_train)"
   ]
  },
  {
   "cell_type": "code",
   "execution_count": 40,
   "id": "778a8e7d",
   "metadata": {},
   "outputs": [
    {
     "data": {
      "text/plain": [
       "array([12.44, 13.99,  0.84,  9.  ,  8.24,  7.59, 14.15,  0.42, 11.58,\n",
       "       15.17,  0.15, 13.13,  9.31, 11.18,  8.97,  0.59,  7.96,  9.54,\n",
       "       18.19, 18.9 , 13.99, 12.38, 12.49,  5.67, 10.08, 10.17,  7.88,\n",
       "        9.91,  7.91,  9.37,  2.95,  6.57,  5.1 , 10.98,  5.24,  9.46,\n",
       "       18.09,  7.61,  7.44, 15.79, 10.1 , 11.55,  8.42,  8.51, 15.82,\n",
       "       11.7 , 11.84, 12.64,  1.71,  0.16,  8.16, 12.  , 10.38, 12.92,\n",
       "        0.18, 18.02, 15.34,  0.35, 11.03, 16.87, 12.01,  9.91, 12.99,\n",
       "       10.3 , 15.77,  9.35, 11.28, 15.01, 11.34, 10.43, 14.04,  0.08,\n",
       "        8.04,  8.34,  5.94, 10.51, 10.86, 12.98,  9.87, 13.64,  9.85,\n",
       "        8.1 ,  6.82,  6.08, 10.92, 16.36,  6.27, 15.78, 12.37, 15.18,\n",
       "       13.49, 15.74,  9.82,  8.97,  8.51, 12.41, 15.37,  0.  , 12.99,\n",
       "        6.24,  8.11,  9.91, 12.1 , 11.37,  8.09, 12.38,  0.63, 11.43,\n",
       "        6.4 ,  0.09,  9.87,  0.73, 15.15,  9.96, 13.78,  8.63,  5.15,\n",
       "       11.06, 13.08,  7.9 , 18.01, 11.39, 12.03,  9.89, 11.44, 12.96,\n",
       "       13.09, 10.6 , 17.46,  9.03, 13.55, 15.15,  8.79,  9.92,  9.88,\n",
       "       11.33,  6.7 ,  8.35,  0.18, 11.32,  9.32,  9.79,  0.08,  9.45,\n",
       "       10.28, 15.61,  9.15, 10.69, 11.17, 15.14, 12.97, 13.63, 11.97,\n",
       "       16.43, 12.85, 11.19,  8.75, 11.19, 10.2 , 11.44, 15.33, 15.69,\n",
       "       18.12,  7.98,  1.16, 11.21,  0.  , 12.51, 18.67,  9.36, 10.09,\n",
       "       15.22, 12.55,  7.99,  0.  , 11.26, 15.26, 11.88, 13.87,  4.33,\n",
       "       10.99,  0.08, 10.86, 13.15,  9.78,  0.  ,  9.94, 13.24, 11.94,\n",
       "       13.62, 12.12,  8.73, 11.92,  7.95,  6.79, 11.85, 10.09,  9.85,\n",
       "       12.53,  8.19,  5.85, 15.25,  1.71,  7.84, 15.69, 14.02, 15.09,\n",
       "       10.13, 19.5 , 15.83, 10.91, 15.92, 13.02, 15.42, 14.6 , 13.5 ,\n",
       "       18.07, 13.98,  0.08, 15.2 , 11.96,  9.24,  0.09,  0.  , 18.66,\n",
       "        9.76, 10.92, 16.07, 12.53, 10.73, 11.88, 10.83,  4.97, 10.3 ,\n",
       "        2.88, 12.99, 12.84, 13.54, 11.32, 14.  ,  9.91,  9.9 , 12.97,\n",
       "       18.06,  0.  , 10.01,  7.92,  8.51,  7.05, 12.73, 10.27,  3.39,\n",
       "       10.83, 10.29,  5.42,  6.96, 11.78,  8.91, 14.54,  9.32, 17.98,\n",
       "        9.77, 10.22,  2.98, 11.47, 10.67, 11.2 , 10.1 , 14.02,  9.88,\n",
       "        9.1 ,  7.62,  0.28, 18.12, 15.13, 10.92, 11.79, 13.17, 12.83,\n",
       "        9.8 ,  9.69,  7.67, 15.06, 14.04,  9.31, 14.7 , 10.22,  9.84,\n",
       "        8.37, 15.2 , 10.77,  0.25,  8.99,  7.5 , 18.19,  0.81, 10.97,\n",
       "       12.14,  9.43,  0.12, 13.51, 16.22,  7.68, 11.05, 14.12,  7.97,\n",
       "       10.28, 14.6 ,  8.96, 14.55,  8.02,  9.36,  8.1 ,  8.61, 15.07,\n",
       "       13.62])"
      ]
     },
     "execution_count": 40,
     "metadata": {},
     "output_type": "execute_result"
    }
   ],
   "source": [
    "# Making predictions on the training data\n",
    "forest_y_train_pred_with_G1_G2=forest_model_with_G1_G2.predict(X_train_prepared_with_G1_G2)\n",
    "forest_y_train_pred_with_G1_G2"
   ]
  },
  {
   "cell_type": "code",
   "execution_count": 41,
   "id": "c6aec269",
   "metadata": {},
   "outputs": [
    {
     "data": {
      "text/plain": [
       "0.31817151898734175"
      ]
     },
     "execution_count": 41,
     "metadata": {},
     "output_type": "execute_result"
    }
   ],
   "source": [
    "# Evaluating the RandomForest model with 'G1' and 'G2' columns included using mean squared error\n",
    "forest_mse_train_with_G1_G2=mean_squared_error(y_train,forest_y_train_pred_with_G1_G2)\n",
    "forest_mse_train_with_G1_G2 # Shows the Mean Squared Error score"
   ]
  },
  {
   "cell_type": "code",
   "execution_count": 42,
   "id": "d086511a",
   "metadata": {
    "scrolled": true
   },
   "outputs": [
    {
     "data": {
      "text/plain": [
       "1.9019063004032255"
      ]
     },
     "execution_count": 42,
     "metadata": {},
     "output_type": "execute_result"
    }
   ],
   "source": [
    "# Evaluating the RandomForest model with cross-validation\n",
    "forest_cv_with_G1_G2=-cross_val_score(forest_model_with_G1_G2,X_train_prepared_with_G1_G2,y_train,scoring='neg_mean_squared_error',cv=10)\n",
    "forest_cv_with_G1_G2.mean() # Shows the cross-validation mean score"
   ]
  },
  {
   "cell_type": "code",
   "execution_count": 43,
   "id": "9fcac1bf",
   "metadata": {},
   "outputs": [
    {
     "data": {
      "text/plain": [
       "count    10.000000\n",
       "mean      1.901906\n",
       "std       0.993778\n",
       "min       1.107031\n",
       "25%       1.326415\n",
       "50%       1.460338\n",
       "75%       2.125256\n",
       "max       4.355303\n",
       "dtype: float64"
      ]
     },
     "execution_count": 43,
     "metadata": {},
     "output_type": "execute_result"
    }
   ],
   "source": [
    "# Displaying stats\n",
    "pd.Series(forest_cv_with_G1_G2).describe()"
   ]
  },
  {
   "cell_type": "markdown",
   "id": "e67ac0c2",
   "metadata": {},
   "source": [
    "<u>Support Vector Machine</u>\n"
   ]
  },
  {
   "cell_type": "code",
   "execution_count": 44,
   "id": "9eca36bc",
   "metadata": {},
   "outputs": [
    {
     "data": {
      "text/html": [
       "<style>#sk-container-id-6 {color: black;}#sk-container-id-6 pre{padding: 0;}#sk-container-id-6 div.sk-toggleable {background-color: white;}#sk-container-id-6 label.sk-toggleable__label {cursor: pointer;display: block;width: 100%;margin-bottom: 0;padding: 0.3em;box-sizing: border-box;text-align: center;}#sk-container-id-6 label.sk-toggleable__label-arrow:before {content: \"▸\";float: left;margin-right: 0.25em;color: #696969;}#sk-container-id-6 label.sk-toggleable__label-arrow:hover:before {color: black;}#sk-container-id-6 div.sk-estimator:hover label.sk-toggleable__label-arrow:before {color: black;}#sk-container-id-6 div.sk-toggleable__content {max-height: 0;max-width: 0;overflow: hidden;text-align: left;background-color: #f0f8ff;}#sk-container-id-6 div.sk-toggleable__content pre {margin: 0.2em;color: black;border-radius: 0.25em;background-color: #f0f8ff;}#sk-container-id-6 input.sk-toggleable__control:checked~div.sk-toggleable__content {max-height: 200px;max-width: 100%;overflow: auto;}#sk-container-id-6 input.sk-toggleable__control:checked~label.sk-toggleable__label-arrow:before {content: \"▾\";}#sk-container-id-6 div.sk-estimator input.sk-toggleable__control:checked~label.sk-toggleable__label {background-color: #d4ebff;}#sk-container-id-6 div.sk-label input.sk-toggleable__control:checked~label.sk-toggleable__label {background-color: #d4ebff;}#sk-container-id-6 input.sk-hidden--visually {border: 0;clip: rect(1px 1px 1px 1px);clip: rect(1px, 1px, 1px, 1px);height: 1px;margin: -1px;overflow: hidden;padding: 0;position: absolute;width: 1px;}#sk-container-id-6 div.sk-estimator {font-family: monospace;background-color: #f0f8ff;border: 1px dotted black;border-radius: 0.25em;box-sizing: border-box;margin-bottom: 0.5em;}#sk-container-id-6 div.sk-estimator:hover {background-color: #d4ebff;}#sk-container-id-6 div.sk-parallel-item::after {content: \"\";width: 100%;border-bottom: 1px solid gray;flex-grow: 1;}#sk-container-id-6 div.sk-label:hover label.sk-toggleable__label {background-color: #d4ebff;}#sk-container-id-6 div.sk-serial::before {content: \"\";position: absolute;border-left: 1px solid gray;box-sizing: border-box;top: 0;bottom: 0;left: 50%;z-index: 0;}#sk-container-id-6 div.sk-serial {display: flex;flex-direction: column;align-items: center;background-color: white;padding-right: 0.2em;padding-left: 0.2em;position: relative;}#sk-container-id-6 div.sk-item {position: relative;z-index: 1;}#sk-container-id-6 div.sk-parallel {display: flex;align-items: stretch;justify-content: center;background-color: white;position: relative;}#sk-container-id-6 div.sk-item::before, #sk-container-id-6 div.sk-parallel-item::before {content: \"\";position: absolute;border-left: 1px solid gray;box-sizing: border-box;top: 0;bottom: 0;left: 50%;z-index: -1;}#sk-container-id-6 div.sk-parallel-item {display: flex;flex-direction: column;z-index: 1;position: relative;background-color: white;}#sk-container-id-6 div.sk-parallel-item:first-child::after {align-self: flex-end;width: 50%;}#sk-container-id-6 div.sk-parallel-item:last-child::after {align-self: flex-start;width: 50%;}#sk-container-id-6 div.sk-parallel-item:only-child::after {width: 0;}#sk-container-id-6 div.sk-dashed-wrapped {border: 1px dashed gray;margin: 0 0.4em 0.5em 0.4em;box-sizing: border-box;padding-bottom: 0.4em;background-color: white;}#sk-container-id-6 div.sk-label label {font-family: monospace;font-weight: bold;display: inline-block;line-height: 1.2em;}#sk-container-id-6 div.sk-label-container {text-align: center;}#sk-container-id-6 div.sk-container {/* jupyter's `normalize.less` sets `[hidden] { display: none; }` but bootstrap.min.css set `[hidden] { display: none !important; }` so we also need the `!important` here to be able to override the default hidden behavior on the sphinx rendered scikit-learn.org. See: https://github.com/scikit-learn/scikit-learn/issues/21755 */display: inline-block !important;position: relative;}#sk-container-id-6 div.sk-text-repr-fallback {display: none;}</style><div id=\"sk-container-id-6\" class=\"sk-top-container\"><div class=\"sk-text-repr-fallback\"><pre>SVR()</pre><b>In a Jupyter environment, please rerun this cell to show the HTML representation or trust the notebook. <br />On GitHub, the HTML representation is unable to render, please try loading this page with nbviewer.org.</b></div><div class=\"sk-container\" hidden><div class=\"sk-item\"><div class=\"sk-estimator sk-toggleable\"><input class=\"sk-toggleable__control sk-hidden--visually\" id=\"sk-estimator-id-6\" type=\"checkbox\" checked><label for=\"sk-estimator-id-6\" class=\"sk-toggleable__label sk-toggleable__label-arrow\">SVR</label><div class=\"sk-toggleable__content\"><pre>SVR()</pre></div></div></div></div></div>"
      ],
      "text/plain": [
       "SVR()"
      ]
     },
     "execution_count": 44,
     "metadata": {},
     "output_type": "execute_result"
    }
   ],
   "source": [
    "# Training the Support Vector Machine Model with 'G1' and 'G2' columns included\n",
    "svm_model_with_G1_G2=SVR()\n",
    "svm_y_train_pred_with_G1_G2=svm_model_with_G1_G2.fit(X_train_prepared_with_G1_G2, y_train)\n",
    "svm_y_train_pred_with_G1_G2 "
   ]
  },
  {
   "cell_type": "code",
   "execution_count": 45,
   "id": "93c35575",
   "metadata": {},
   "outputs": [
    {
     "data": {
      "text/plain": [
       "array([13.19, 13.94,  5.89,  8.72,  8.21,  8.63, 14.1 ,  4.3 , 11.2 ,\n",
       "       15.26,  1.53, 11.91,  9.03, 11.1 ,  9.74,  5.47,  8.1 ,  9.14,\n",
       "       17.03, 17.  , 14.23, 12.64, 12.13,  5.29,  9.65, 10.65,  6.97,\n",
       "        9.78,  8.18,  9.79,  8.25,  5.93,  6.12, 10.77,  5.69,  9.57,\n",
       "       17.36,  6.85,  6.43, 15.38,  9.79, 11.23,  8.86,  9.33, 15.64,\n",
       "       13.05, 12.4 , 12.46,  6.11,  1.19,  7.59, 12.5 , 11.17, 13.57,\n",
       "        4.39, 14.  , 15.71,  5.37, 10.91, 16.15, 12.64,  9.96, 12.32,\n",
       "       10.58, 16.1 ,  9.1 , 11.61, 14.4 , 11.96,  9.14, 14.37,  4.15,\n",
       "        7.65,  8.09,  7.89, 10.45, 11.63, 12.93,  8.85, 13.59,  9.57,\n",
       "        8.49,  7.34,  7.24, 10.9 , 15.73,  5.83, 15.74, 11.5 , 14.42,\n",
       "       13.92, 14.88,  8.57,  9.55,  8.6 , 13.04, 15.78,  1.4 , 13.18,\n",
       "        6.88,  8.33,  9.09, 12.21, 12.5 ,  8.85, 12.77,  5.79, 10.79,\n",
       "        6.87,  1.32,  9.83,  7.24, 14.69,  9.72, 13.37,  9.67,  5.54,\n",
       "       11.03, 13.35,  8.18, 16.83, 12.21, 12.13,  8.81, 12.25, 13.45,\n",
       "       12.72, 10.28, 15.96,  9.1 , 13.82, 14.81,  9.76, 10.1 ,  8.72,\n",
       "       11.73,  6.85,  8.1 ,  1.72, 10.76,  8.43,  9.06,  4.42,  7.96,\n",
       "       10.24, 15.33,  8.95, 11.13, 12.16, 15.18, 12.66, 13.19, 11.75,\n",
       "       15.65, 11.98, 11.75,  6.78,  9.98, 10.6 , 11.13, 15.46, 14.79,\n",
       "       17.38,  8.59,  8.02, 11.14,  1.32, 12.6 , 17.5 , 10.09, 10.62,\n",
       "       15.4 , 12.22,  8.26,  1.57, 11.7 , 14.76, 11.47, 14.21,  6.3 ,\n",
       "       11.33,  4.22, 10.73, 13.17,  9.51,  4.4 ,  9.18, 13.1 , 11.9 ,\n",
       "       13.9 , 12.57,  8.68, 12.47,  6.84,  6.36, 11.03, 10.33,  9.29,\n",
       "       13.  ,  7.47,  7.5 , 15.65,  7.24,  7.31, 14.93, 14.03, 15.09,\n",
       "        8.37, 17.81, 15.9 , 10.67, 15.95, 13.2 , 15.65, 14.38, 13.06,\n",
       "       14.64, 14.1 ,  1.24, 14.48, 12.1 ,  9.5 ,  1.83,  3.32, 16.98,\n",
       "        9.56, 10.71, 15.54, 12.9 ,  9.14, 12.1 , 11.53,  5.04, 11.12,\n",
       "        9.3 , 13.26, 11.96, 12.76, 12.71, 14.34,  9.24,  8.99, 12.72,\n",
       "       16.54,  1.39,  9.71,  8.22,  7.48,  5.08, 12.17, 10.41,  8.47,\n",
       "       11.1 ,  9.07,  4.7 ,  6.32, 11.55,  9.31, 13.82,  9.  , 16.67,\n",
       "        9.45, 11.17,  9.31, 10.67, 10.09, 10.58, 10.39, 14.13, 10.03,\n",
       "        9.31,  8.11,  1.78, 16.71, 14.95, 10.9 , 12.17, 12.9 , 12.91,\n",
       "       10.97,  8.69,  7.47, 15.06, 14.1 ,  9.61, 15.39, 10.24,  9.89,\n",
       "        8.13, 14.53, 10.64,  5.02,  9.1 ,  7.4 , 17.33,  7.13, 11.19,\n",
       "       12.1 ,  7.89,  1.87, 13.09, 15.85,  8.33, 11.68, 14.61,  7.64,\n",
       "        9.93, 14.83,  8.57, 14.04,  6.9 ,  9.75,  7.71,  8.92, 14.75,\n",
       "       12.99])"
      ]
     },
     "execution_count": 45,
     "metadata": {},
     "output_type": "execute_result"
    }
   ],
   "source": [
    "# Making predictions on the training data\n",
    "svm_y_train_pred_with_G1_G2=svm_model_with_G1_G2.predict(X_train_prepared_with_G1_G2).round(2) # Rounding 2 decimal places\n",
    "svm_y_train_pred_with_G1_G2 # Showing the predictions"
   ]
  },
  {
   "cell_type": "code",
   "execution_count": 46,
   "id": "06df197b",
   "metadata": {},
   "outputs": [
    {
     "data": {
      "text/plain": [
       "array([5.87608136, 4.55424901, 1.55616197, 4.01973991, 1.89125646,\n",
       "       4.41313104, 3.39825209, 7.26709766, 3.63848188, 3.33948026])"
      ]
     },
     "execution_count": 46,
     "metadata": {},
     "output_type": "execute_result"
    }
   ],
   "source": [
    "# Evaluating the SVM model with 'G1' and 'G2' columns with cross-validation\n",
    "svm_cv_with_G1_G2=-cross_val_score(svm_model_with_G1_G2,X_train_prepared_with_G1_G2,y_train,scoring='neg_mean_squared_error',cv=10)\n",
    "svm_cv_with_G1_G2 # Viewing the five cross-validation scores this time"
   ]
  },
  {
   "cell_type": "code",
   "execution_count": 47,
   "id": "877dda82",
   "metadata": {},
   "outputs": [
    {
     "data": {
      "text/plain": [
       "count    10.000000\n",
       "mean      3.995393\n",
       "std       1.700323\n",
       "min       1.556162\n",
       "25%       3.354173\n",
       "50%       3.829111\n",
       "75%       4.518970\n",
       "max       7.267098\n",
       "dtype: float64"
      ]
     },
     "execution_count": 47,
     "metadata": {},
     "output_type": "execute_result"
    }
   ],
   "source": [
    "# Displaying stats\n",
    "pd.Series(svm_cv_with_G1_G2).describe()"
   ]
  },
  {
   "cell_type": "markdown",
   "id": "8a7eb4cc",
   "metadata": {},
   "source": [
    "<u>DecisionTreeRegressor<u>"
   ]
  },
  {
   "cell_type": "code",
   "execution_count": 48,
   "id": "dd34a3d9",
   "metadata": {
    "scrolled": false
   },
   "outputs": [
    {
     "data": {
      "text/html": [
       "<style>#sk-container-id-7 {color: black;}#sk-container-id-7 pre{padding: 0;}#sk-container-id-7 div.sk-toggleable {background-color: white;}#sk-container-id-7 label.sk-toggleable__label {cursor: pointer;display: block;width: 100%;margin-bottom: 0;padding: 0.3em;box-sizing: border-box;text-align: center;}#sk-container-id-7 label.sk-toggleable__label-arrow:before {content: \"▸\";float: left;margin-right: 0.25em;color: #696969;}#sk-container-id-7 label.sk-toggleable__label-arrow:hover:before {color: black;}#sk-container-id-7 div.sk-estimator:hover label.sk-toggleable__label-arrow:before {color: black;}#sk-container-id-7 div.sk-toggleable__content {max-height: 0;max-width: 0;overflow: hidden;text-align: left;background-color: #f0f8ff;}#sk-container-id-7 div.sk-toggleable__content pre {margin: 0.2em;color: black;border-radius: 0.25em;background-color: #f0f8ff;}#sk-container-id-7 input.sk-toggleable__control:checked~div.sk-toggleable__content {max-height: 200px;max-width: 100%;overflow: auto;}#sk-container-id-7 input.sk-toggleable__control:checked~label.sk-toggleable__label-arrow:before {content: \"▾\";}#sk-container-id-7 div.sk-estimator input.sk-toggleable__control:checked~label.sk-toggleable__label {background-color: #d4ebff;}#sk-container-id-7 div.sk-label input.sk-toggleable__control:checked~label.sk-toggleable__label {background-color: #d4ebff;}#sk-container-id-7 input.sk-hidden--visually {border: 0;clip: rect(1px 1px 1px 1px);clip: rect(1px, 1px, 1px, 1px);height: 1px;margin: -1px;overflow: hidden;padding: 0;position: absolute;width: 1px;}#sk-container-id-7 div.sk-estimator {font-family: monospace;background-color: #f0f8ff;border: 1px dotted black;border-radius: 0.25em;box-sizing: border-box;margin-bottom: 0.5em;}#sk-container-id-7 div.sk-estimator:hover {background-color: #d4ebff;}#sk-container-id-7 div.sk-parallel-item::after {content: \"\";width: 100%;border-bottom: 1px solid gray;flex-grow: 1;}#sk-container-id-7 div.sk-label:hover label.sk-toggleable__label {background-color: #d4ebff;}#sk-container-id-7 div.sk-serial::before {content: \"\";position: absolute;border-left: 1px solid gray;box-sizing: border-box;top: 0;bottom: 0;left: 50%;z-index: 0;}#sk-container-id-7 div.sk-serial {display: flex;flex-direction: column;align-items: center;background-color: white;padding-right: 0.2em;padding-left: 0.2em;position: relative;}#sk-container-id-7 div.sk-item {position: relative;z-index: 1;}#sk-container-id-7 div.sk-parallel {display: flex;align-items: stretch;justify-content: center;background-color: white;position: relative;}#sk-container-id-7 div.sk-item::before, #sk-container-id-7 div.sk-parallel-item::before {content: \"\";position: absolute;border-left: 1px solid gray;box-sizing: border-box;top: 0;bottom: 0;left: 50%;z-index: -1;}#sk-container-id-7 div.sk-parallel-item {display: flex;flex-direction: column;z-index: 1;position: relative;background-color: white;}#sk-container-id-7 div.sk-parallel-item:first-child::after {align-self: flex-end;width: 50%;}#sk-container-id-7 div.sk-parallel-item:last-child::after {align-self: flex-start;width: 50%;}#sk-container-id-7 div.sk-parallel-item:only-child::after {width: 0;}#sk-container-id-7 div.sk-dashed-wrapped {border: 1px dashed gray;margin: 0 0.4em 0.5em 0.4em;box-sizing: border-box;padding-bottom: 0.4em;background-color: white;}#sk-container-id-7 div.sk-label label {font-family: monospace;font-weight: bold;display: inline-block;line-height: 1.2em;}#sk-container-id-7 div.sk-label-container {text-align: center;}#sk-container-id-7 div.sk-container {/* jupyter's `normalize.less` sets `[hidden] { display: none; }` but bootstrap.min.css set `[hidden] { display: none !important; }` so we also need the `!important` here to be able to override the default hidden behavior on the sphinx rendered scikit-learn.org. See: https://github.com/scikit-learn/scikit-learn/issues/21755 */display: inline-block !important;position: relative;}#sk-container-id-7 div.sk-text-repr-fallback {display: none;}</style><div id=\"sk-container-id-7\" class=\"sk-top-container\"><div class=\"sk-text-repr-fallback\"><pre>DecisionTreeRegressor(random_state=42)</pre><b>In a Jupyter environment, please rerun this cell to show the HTML representation or trust the notebook. <br />On GitHub, the HTML representation is unable to render, please try loading this page with nbviewer.org.</b></div><div class=\"sk-container\" hidden><div class=\"sk-item\"><div class=\"sk-estimator sk-toggleable\"><input class=\"sk-toggleable__control sk-hidden--visually\" id=\"sk-estimator-id-7\" type=\"checkbox\" checked><label for=\"sk-estimator-id-7\" class=\"sk-toggleable__label sk-toggleable__label-arrow\">DecisionTreeRegressor</label><div class=\"sk-toggleable__content\"><pre>DecisionTreeRegressor(random_state=42)</pre></div></div></div></div></div>"
      ],
      "text/plain": [
       "DecisionTreeRegressor(random_state=42)"
      ]
     },
     "execution_count": 48,
     "metadata": {},
     "output_type": "execute_result"
    }
   ],
   "source": [
    "# Training the DecisionTree model with 'G1' and 'G2' columns included\n",
    "tree_model_with_G1_G2=DecisionTreeRegressor(random_state=42) \n",
    "tree_model_with_G1_G2.fit(X_train_prepared_with_G1_G2, y_train)"
   ]
  },
  {
   "cell_type": "code",
   "execution_count": 49,
   "id": "f6f063b7",
   "metadata": {},
   "outputs": [
    {
     "data": {
      "text/plain": [
       "array([12., 14.,  0.,  9.,  8.,  7., 14.,  0., 12., 15.,  0., 13.,  9.,\n",
       "       11., 10.,  0.,  8., 10., 18., 19., 14., 12., 13.,  6., 10., 10.,\n",
       "        8., 10.,  8.,  9.,  0.,  7.,  5., 11.,  5., 10., 18.,  8.,  8.,\n",
       "       16., 10., 12.,  8., 11., 16., 11., 12., 13.,  0.,  0.,  8., 12.,\n",
       "       10., 13.,  0., 18., 15.,  0., 11., 18., 12., 10., 13., 10., 16.,\n",
       "       10., 11., 15., 11., 11., 14.,  0.,  9.,  8.,  6., 11., 11., 13.,\n",
       "       10., 14., 10.,  8.,  7.,  6., 11., 17.,  6., 16., 13., 15., 13.,\n",
       "       16., 10.,  9.,  8., 12., 15.,  0., 13.,  6.,  8., 10., 12., 11.,\n",
       "        8., 12.,  0., 12.,  6.,  0., 10.,  0., 15., 10., 14.,  8.,  6.,\n",
       "       11., 13.,  8., 18., 11., 12., 10., 11., 13., 13., 11., 17.,  9.,\n",
       "       13., 15.,  9., 10., 10., 11.,  7.,  8.,  0., 12., 10., 10.,  0.,\n",
       "       10., 11., 16.,  9., 11., 11., 15., 14., 14., 12., 17., 13., 11.,\n",
       "        9., 11., 10., 11., 15., 16., 18.,  9.,  0., 11.,  0., 12., 19.,\n",
       "        9., 10., 15., 13.,  8.,  0., 11., 15., 12., 14.,  6., 11.,  0.,\n",
       "       11., 13., 10.,  0., 10., 13., 12., 14., 12.,  9., 12.,  8.,  7.,\n",
       "       12., 10., 10., 13.,  8.,  5., 15.,  0.,  8., 16., 14., 15., 11.,\n",
       "       20., 16., 11., 16., 13., 15., 15., 14., 18., 14.,  0., 15., 12.,\n",
       "        9.,  0.,  0., 19., 10., 11., 16., 13., 11., 12., 11.,  4., 10.,\n",
       "        0., 13., 13., 14., 11., 14., 10., 10., 13., 18.,  0., 10.,  7.,\n",
       "       11.,  8., 13., 10.,  0., 11., 11.,  6.,  7., 12.,  9., 15.,  9.,\n",
       "       18., 10., 10.,  0., 12., 11., 11., 10., 14., 10.,  9.,  8.,  0.,\n",
       "       18., 15., 11., 12., 13., 13.,  9., 10.,  7., 15., 14.,  9., 14.,\n",
       "       10., 10.,  8., 15., 11.,  0.,  9.,  9., 18.,  0., 11., 12., 10.,\n",
       "        0., 14., 16.,  8., 11., 14.,  8., 10., 15.,  9., 15.,  9., 10.,\n",
       "        8.,  9., 15., 14.])"
      ]
     },
     "execution_count": 49,
     "metadata": {},
     "output_type": "execute_result"
    }
   ],
   "source": [
    "# Making predictions on the training data\n",
    "tree_y_train_pred_with_G1_G2=tree_model_with_G1_G2.predict(X_train_prepared_with_G1_G2)\n",
    "tree_y_train_pred_with_G1_G2 # Showing predictions"
   ]
  },
  {
   "cell_type": "code",
   "execution_count": 50,
   "id": "b4b1ee8b",
   "metadata": {},
   "outputs": [
    {
     "data": {
      "text/plain": [
       "array([3.59375   , 6.96875   , 1.53125   , 6.34375   , 1.84375   ,\n",
       "       1.9375    , 1.58064516, 4.77419355, 4.09677419, 3.61290323])"
      ]
     },
     "execution_count": 50,
     "metadata": {},
     "output_type": "execute_result"
    }
   ],
   "source": [
    "# Evaluating the DecisionTree model with 'G1' and 'G2' columns with cross-validation\n",
    "tree_cv_with_G1_G2=-cross_val_score(tree_model_with_G1_G2,X_train_prepared_with_G1_G2,y_train,scoring='neg_mean_squared_error',cv=10)\n",
    "tree_cv_with_G1_G2 # Again, showing the five cross-validation scores"
   ]
  },
  {
   "cell_type": "code",
   "execution_count": 51,
   "id": "ede67033",
   "metadata": {},
   "outputs": [
    {
     "data": {
      "text/plain": [
       "count    10.000000\n",
       "mean      3.628327\n",
       "std       1.963562\n",
       "min       1.531250\n",
       "25%       1.867188\n",
       "50%       3.603327\n",
       "75%       4.604839\n",
       "max       6.968750\n",
       "dtype: float64"
      ]
     },
     "execution_count": 51,
     "metadata": {},
     "output_type": "execute_result"
    }
   ],
   "source": [
    "# Displaying stats\n",
    "pd.Series(tree_cv_with_G1_G2).describe()"
   ]
  },
  {
   "cell_type": "markdown",
   "id": "29763eef",
   "metadata": {},
   "source": [
    "Comparing Four Models **Without** 'G1' and 'G2' Columns"
   ]
  },
  {
   "cell_type": "code",
   "execution_count": 52,
   "id": "0c6e3bd8",
   "metadata": {},
   "outputs": [],
   "source": [
    "# Combining the transformers using ColumnTransformer with the CustomTransformer\n",
    "preprocessing_without_G1_G2=ColumnTransformer([\n",
    "    ('num',num_pipeline,num_attributes),\n",
    "    ('nom',nom_pipeline,nom_attributes),\n",
    "    ('custom',CustomTransformer(drop_G1_G2=False),['G1','G2','absences_G1','absences_G2','absences_G3'])\n",
    "])"
   ]
  },
  {
   "cell_type": "markdown",
   "id": "e2ba9fb2",
   "metadata": {},
   "source": [
    "This code (below) applies the preprocessing pipeline, dropping columns 'G1' and 'G2,to the training data."
   ]
  },
  {
   "cell_type": "code",
   "execution_count": 53,
   "id": "97760e90",
   "metadata": {},
   "outputs": [
    {
     "data": {
      "text/plain": [
       "array([[-0.60476491,  0.24643712,  0.42320737, ..., 12.        ,\n",
       "        13.        ,  2.        ],\n",
       "       [-0.60476491, -0.68063585,  0.42320737, ..., 13.        ,\n",
       "        14.        ,  0.        ],\n",
       "       [-0.60476491, -1.60770883,  0.42320737, ...,  8.        ,\n",
       "         7.        ,  0.        ],\n",
       "       ...,\n",
       "       [ 1.79405154,  0.24643712,  0.42320737, ...,  9.        ,\n",
       "         9.        , 15.        ],\n",
       "       [ 0.19484058,  1.17351009,  0.42320737, ..., 13.        ,\n",
       "        15.        ,  0.        ],\n",
       "       [-1.40437039,  1.17351009,  1.35191243, ..., 10.        ,\n",
       "        13.        ,  4.        ]])"
      ]
     },
     "execution_count": 53,
     "metadata": {},
     "output_type": "execute_result"
    }
   ],
   "source": [
    "X_train_prepared_without_G1_G2=preprocessing_without_G1_G2.fit_transform(X_train)\n",
    "X_train_prepared_without_G1_G2"
   ]
  },
  {
   "cell_type": "markdown",
   "id": "3d7b0359",
   "metadata": {},
   "source": [
    "LinearRegression"
   ]
  },
  {
   "cell_type": "code",
   "execution_count": 54,
   "id": "b7a6bc9a",
   "metadata": {},
   "outputs": [
    {
     "data": {
      "text/html": [
       "<style>#sk-container-id-8 {color: black;}#sk-container-id-8 pre{padding: 0;}#sk-container-id-8 div.sk-toggleable {background-color: white;}#sk-container-id-8 label.sk-toggleable__label {cursor: pointer;display: block;width: 100%;margin-bottom: 0;padding: 0.3em;box-sizing: border-box;text-align: center;}#sk-container-id-8 label.sk-toggleable__label-arrow:before {content: \"▸\";float: left;margin-right: 0.25em;color: #696969;}#sk-container-id-8 label.sk-toggleable__label-arrow:hover:before {color: black;}#sk-container-id-8 div.sk-estimator:hover label.sk-toggleable__label-arrow:before {color: black;}#sk-container-id-8 div.sk-toggleable__content {max-height: 0;max-width: 0;overflow: hidden;text-align: left;background-color: #f0f8ff;}#sk-container-id-8 div.sk-toggleable__content pre {margin: 0.2em;color: black;border-radius: 0.25em;background-color: #f0f8ff;}#sk-container-id-8 input.sk-toggleable__control:checked~div.sk-toggleable__content {max-height: 200px;max-width: 100%;overflow: auto;}#sk-container-id-8 input.sk-toggleable__control:checked~label.sk-toggleable__label-arrow:before {content: \"▾\";}#sk-container-id-8 div.sk-estimator input.sk-toggleable__control:checked~label.sk-toggleable__label {background-color: #d4ebff;}#sk-container-id-8 div.sk-label input.sk-toggleable__control:checked~label.sk-toggleable__label {background-color: #d4ebff;}#sk-container-id-8 input.sk-hidden--visually {border: 0;clip: rect(1px 1px 1px 1px);clip: rect(1px, 1px, 1px, 1px);height: 1px;margin: -1px;overflow: hidden;padding: 0;position: absolute;width: 1px;}#sk-container-id-8 div.sk-estimator {font-family: monospace;background-color: #f0f8ff;border: 1px dotted black;border-radius: 0.25em;box-sizing: border-box;margin-bottom: 0.5em;}#sk-container-id-8 div.sk-estimator:hover {background-color: #d4ebff;}#sk-container-id-8 div.sk-parallel-item::after {content: \"\";width: 100%;border-bottom: 1px solid gray;flex-grow: 1;}#sk-container-id-8 div.sk-label:hover label.sk-toggleable__label {background-color: #d4ebff;}#sk-container-id-8 div.sk-serial::before {content: \"\";position: absolute;border-left: 1px solid gray;box-sizing: border-box;top: 0;bottom: 0;left: 50%;z-index: 0;}#sk-container-id-8 div.sk-serial {display: flex;flex-direction: column;align-items: center;background-color: white;padding-right: 0.2em;padding-left: 0.2em;position: relative;}#sk-container-id-8 div.sk-item {position: relative;z-index: 1;}#sk-container-id-8 div.sk-parallel {display: flex;align-items: stretch;justify-content: center;background-color: white;position: relative;}#sk-container-id-8 div.sk-item::before, #sk-container-id-8 div.sk-parallel-item::before {content: \"\";position: absolute;border-left: 1px solid gray;box-sizing: border-box;top: 0;bottom: 0;left: 50%;z-index: -1;}#sk-container-id-8 div.sk-parallel-item {display: flex;flex-direction: column;z-index: 1;position: relative;background-color: white;}#sk-container-id-8 div.sk-parallel-item:first-child::after {align-self: flex-end;width: 50%;}#sk-container-id-8 div.sk-parallel-item:last-child::after {align-self: flex-start;width: 50%;}#sk-container-id-8 div.sk-parallel-item:only-child::after {width: 0;}#sk-container-id-8 div.sk-dashed-wrapped {border: 1px dashed gray;margin: 0 0.4em 0.5em 0.4em;box-sizing: border-box;padding-bottom: 0.4em;background-color: white;}#sk-container-id-8 div.sk-label label {font-family: monospace;font-weight: bold;display: inline-block;line-height: 1.2em;}#sk-container-id-8 div.sk-label-container {text-align: center;}#sk-container-id-8 div.sk-container {/* jupyter's `normalize.less` sets `[hidden] { display: none; }` but bootstrap.min.css set `[hidden] { display: none !important; }` so we also need the `!important` here to be able to override the default hidden behavior on the sphinx rendered scikit-learn.org. See: https://github.com/scikit-learn/scikit-learn/issues/21755 */display: inline-block !important;position: relative;}#sk-container-id-8 div.sk-text-repr-fallback {display: none;}</style><div id=\"sk-container-id-8\" class=\"sk-top-container\"><div class=\"sk-text-repr-fallback\"><pre>LinearRegression()</pre><b>In a Jupyter environment, please rerun this cell to show the HTML representation or trust the notebook. <br />On GitHub, the HTML representation is unable to render, please try loading this page with nbviewer.org.</b></div><div class=\"sk-container\" hidden><div class=\"sk-item\"><div class=\"sk-estimator sk-toggleable\"><input class=\"sk-toggleable__control sk-hidden--visually\" id=\"sk-estimator-id-8\" type=\"checkbox\" checked><label for=\"sk-estimator-id-8\" class=\"sk-toggleable__label sk-toggleable__label-arrow\">LinearRegression</label><div class=\"sk-toggleable__content\"><pre>LinearRegression()</pre></div></div></div></div></div>"
      ],
      "text/plain": [
       "LinearRegression()"
      ]
     },
     "execution_count": 54,
     "metadata": {},
     "output_type": "execute_result"
    }
   ],
   "source": [
    "# Training the model and evaluate performance without 'G1' and 'G2' columns\n",
    "linear_model_without_G1_G2=LinearRegression()\n",
    "linear_model_without_G1_G2.fit(X_train_prepared_without_G1_G2,y_train)"
   ]
  },
  {
   "cell_type": "code",
   "execution_count": 55,
   "id": "862597cf",
   "metadata": {},
   "outputs": [
    {
     "data": {
      "text/plain": [
       "array([ 1.28330920e+01,  1.34573759e+01,  4.26326419e+00,  8.73937824e+00,\n",
       "        7.87417286e+00,  8.75249409e+00,  1.35848538e+01,  2.84775915e+00,\n",
       "        1.06952951e+01,  1.62514306e+01,  1.68591487e-01,  1.49054669e+01,\n",
       "        9.70636179e+00,  1.01307960e+01,  9.07286141e+00,  4.20911519e+00,\n",
       "        7.28254899e+00,  8.38342883e+00,  1.87167221e+01,  1.83255361e+01,\n",
       "        1.27346253e+01,  1.15448265e+01,  1.21229111e+01,  3.15705264e+00,\n",
       "        9.12854520e+00,  9.39426708e+00,  4.70394414e+00,  9.92838328e+00,\n",
       "        7.70489325e+00,  8.63533648e+00,  6.25707936e+00,  6.81538966e+00,\n",
       "        4.35954321e+00,  9.55551349e+00,  3.16869818e+00,  8.25634912e+00,\n",
       "        1.92376968e+01,  6.84344703e+00,  5.79499060e+00,  1.69806335e+01,\n",
       "        1.06472104e+01,  1.17677618e+01,  9.51007898e+00,  8.38180529e+00,\n",
       "        1.59134929e+01,  1.35087735e+01,  1.21567462e+01,  1.27911767e+01,\n",
       "        4.58553133e+00, -2.86524033e+00,  7.35971390e+00,  1.19142938e+01,\n",
       "        1.08790359e+01,  1.25723552e+01,  1.92551653e+00,  1.86073912e+01,\n",
       "        1.67247258e+01,  4.58098217e+00,  1.00891884e+01,  1.63011045e+01,\n",
       "        1.17901409e+01,  8.81871843e+00,  1.26560348e+01,  1.01656022e+01,\n",
       "        1.69220626e+01,  8.06799426e+00,  1.12668002e+01,  1.48649924e+01,\n",
       "        1.24307989e+01,  1.01923921e+01,  1.38096388e+01,  2.16295757e+00,\n",
       "        7.54791268e+00,  6.76139024e+00,  6.65336993e+00,  1.06295580e+01,\n",
       "        1.19576699e+01,  1.20291964e+01,  9.29578005e+00,  1.26278481e+01,\n",
       "        1.01447432e+01,  7.95778842e+00,  6.27758959e+00,  5.66628560e+00,\n",
       "        1.12448231e+01,  1.59758961e+01,  5.05077812e+00,  1.64269852e+01,\n",
       "        1.10728077e+01,  1.49239887e+01,  1.40990570e+01,  1.43544845e+01,\n",
       "        9.11264292e+00,  9.52110042e+00,  8.15017511e+00,  1.33784817e+01,\n",
       "        1.55224302e+01, -1.81968896e+00,  1.35579320e+01,  7.52322977e+00,\n",
       "        7.88331743e+00,  8.42099601e+00,  1.18242092e+01,  1.24055238e+01,\n",
       "        8.30014870e+00,  1.22875922e+01,  3.00372904e+00,  1.07046107e+01,\n",
       "        7.55096146e+00, -1.74075127e+00,  1.01890922e+01,  5.74412319e+00,\n",
       "        1.38295793e+01,  9.92463592e+00,  1.21379607e+01,  1.06289254e+01,\n",
       "        5.26732391e+00,  9.81336906e+00,  1.24615136e+01,  6.94351988e+00,\n",
       "        1.93752895e+01,  1.28318449e+01,  1.32912351e+01,  9.74424059e+00,\n",
       "        1.17325215e+01,  1.27976590e+01,  1.14016180e+01,  1.07089199e+01,\n",
       "        1.74208162e+01,  8.68483304e+00,  1.29386359e+01,  1.40111170e+01,\n",
       "        9.97656042e+00,  1.12417106e+01,  9.04449142e+00,  1.12163863e+01,\n",
       "        6.25828147e+00,  6.60625734e+00,  3.88454620e-01,  1.00155528e+01,\n",
       "        7.99368295e+00,  8.41435716e+00,  3.47984473e+00,  7.99980991e+00,\n",
       "        9.73570681e+00,  1.62414692e+01,  8.39743428e+00,  1.11302982e+01,\n",
       "        1.16216801e+01,  1.50276427e+01,  1.19065681e+01,  1.20405326e+01,\n",
       "        1.27295665e+01,  1.43768603e+01,  1.24257736e+01,  1.08491038e+01,\n",
       "        5.57776450e+00,  1.23423480e+01,  9.58864509e+00,  1.23144136e+01,\n",
       "        1.62569035e+01,  1.51712586e+01,  1.85917237e+01,  7.95085392e+00,\n",
       "        6.10232246e+00,  1.18773889e+01, -1.29777298e+00,  1.20830130e+01,\n",
       "        1.97110334e+01,  9.97784381e+00,  9.86836016e+00,  1.60431540e+01,\n",
       "        1.19889836e+01,  7.18947598e+00, -1.02499853e-01,  1.15282303e+01,\n",
       "        1.44757118e+01,  1.14733286e+01,  1.38588917e+01,  5.80926259e+00,\n",
       "        1.17354660e+01,  2.88094729e+00,  1.04071499e+01,  1.27153900e+01,\n",
       "        9.79173018e+00,  3.52146828e+00,  7.86716923e+00,  1.34492674e+01,\n",
       "        1.19362842e+01,  1.38814002e+01,  1.15811823e+01,  8.82566974e+00,\n",
       "        1.26635657e+01,  5.32503143e+00,  6.19903324e+00,  1.09168527e+01,\n",
       "        1.08166795e+01,  8.88471838e+00,  1.14810344e+01,  7.11975539e+00,\n",
       "        6.70891689e+00,  1.71376068e+01,  5.88923256e+00,  6.29391791e+00,\n",
       "        1.53757778e+01,  1.38336546e+01,  1.53429817e+01,  8.03491849e+00,\n",
       "        1.94933889e+01,  1.66745039e+01,  1.03075600e+01,  1.62764805e+01,\n",
       "        1.30051609e+01,  1.61868951e+01,  1.40329028e+01,  1.26417341e+01,\n",
       "        1.84285166e+01,  1.45931325e+01, -7.95412088e-01,  1.70456633e+01,\n",
       "        1.22682188e+01,  9.05568049e+00, -1.36180817e-02,  2.07697209e+00,\n",
       "        1.77946148e+01,  1.01388925e+01,  9.55844583e+00,  1.50025463e+01,\n",
       "        1.18696883e+01,  8.89306169e+00,  1.23492533e+01,  1.18267753e+01,\n",
       "        4.77676548e+00,  1.05053176e+01,  7.21768949e+00,  1.28202751e+01,\n",
       "        1.18286412e+01,  1.21772269e+01,  1.24088343e+01,  1.39571358e+01,\n",
       "        1.05410722e+01,  9.49806097e+00,  1.27740290e+01,  1.73210576e+01,\n",
       "       -9.24764255e-01,  9.02887593e+00,  7.74472361e+00,  6.79080697e+00,\n",
       "        4.96425448e+00,  1.23285443e+01,  9.36789578e+00,  6.59717323e+00,\n",
       "        1.18762705e+01,  8.55467227e+00,  5.14447239e+00,  6.59249907e+00,\n",
       "        1.08048166e+01,  8.72141264e+00,  1.36747331e+01,  8.30301547e+00,\n",
       "        1.89225637e+01,  9.60934463e+00,  1.18195608e+01,  7.60350834e+00,\n",
       "        1.05502938e+01,  1.09704247e+01,  1.18373374e+01,  9.53957560e+00,\n",
       "        1.30911848e+01,  1.06552215e+01,  8.74650272e+00,  7.21357384e+00,\n",
       "        5.24755183e-01,  1.81582329e+01,  1.38795645e+01,  1.08631919e+01,\n",
       "        1.18461450e+01,  1.30387325e+01,  1.31103230e+01,  1.17394595e+01,\n",
       "        8.32480013e+00,  6.63429402e+00,  1.53392012e+01,  1.36725508e+01,\n",
       "        9.04100329e+00,  1.57504254e+01,  1.02805583e+01,  1.05354354e+01,\n",
       "        8.26636134e+00,  1.53173902e+01,  1.07291541e+01,  4.20189755e+00,\n",
       "        1.05300960e+01,  6.86162368e+00,  1.81631380e+01,  5.43465079e+00,\n",
       "        9.84480924e+00,  1.03431617e+01,  8.59899472e+00, -6.04306436e-01,\n",
       "        1.30718808e+01,  1.59337752e+01,  8.22130347e+00,  1.01968039e+01,\n",
       "        1.54080388e+01,  7.51422203e+00,  9.82911921e+00,  1.40010970e+01,\n",
       "        8.35477633e+00,  1.36396832e+01,  5.24815615e+00,  8.99828665e+00,\n",
       "        8.49092149e+00,  7.15900428e+00,  1.40916063e+01,  1.44467429e+01])"
      ]
     },
     "execution_count": 55,
     "metadata": {},
     "output_type": "execute_result"
    }
   ],
   "source": [
    "# Making the predictions on the training data\n",
    "linear_y_train_pred_without_G1_G2=linear_model_without_G1_G2.predict(X_train_prepared_without_G1_G2)\n",
    "linear_y_train_pred_without_G1_G2 # Showing the predictions"
   ]
  },
  {
   "cell_type": "code",
   "execution_count": 56,
   "id": "0328125c",
   "metadata": {},
   "outputs": [
    {
     "data": {
      "text/plain": [
       "array([4.40311441, 3.69899358, 1.29425202, 3.06897602, 2.55866339,\n",
       "       2.64747026, 3.08372267, 5.8969225 , 3.05540843, 3.52464278])"
      ]
     },
     "execution_count": 56,
     "metadata": {},
     "output_type": "execute_result"
    }
   ],
   "source": [
    "linear_cv_without_G1_G2=-cross_val_score(linear_model_without_G1_G2,X_train_prepared_without_G1_G2,y_train,scoring='neg_mean_squared_error',cv=10)\n",
    "linear_cv_without_G1_G2 # Showing the cv score"
   ]
  },
  {
   "cell_type": "code",
   "execution_count": 57,
   "id": "cb52b303",
   "metadata": {},
   "outputs": [
    {
     "data": {
      "text/plain": [
       "count    10.000000\n",
       "mean      3.323217\n",
       "std       1.216713\n",
       "min       1.294252\n",
       "25%       2.749455\n",
       "50%       3.076349\n",
       "75%       3.655406\n",
       "max       5.896923\n",
       "dtype: float64"
      ]
     },
     "execution_count": 57,
     "metadata": {},
     "output_type": "execute_result"
    }
   ],
   "source": [
    "pd.Series(linear_cv_without_G1_G2).describe()"
   ]
  },
  {
   "cell_type": "markdown",
   "id": "6bdc4d6b",
   "metadata": {},
   "source": [
    "<u>RandForestRegressor<u>"
   ]
  },
  {
   "cell_type": "code",
   "execution_count": 58,
   "id": "cbbb0efa",
   "metadata": {},
   "outputs": [
    {
     "data": {
      "text/html": [
       "<style>#sk-container-id-9 {color: black;}#sk-container-id-9 pre{padding: 0;}#sk-container-id-9 div.sk-toggleable {background-color: white;}#sk-container-id-9 label.sk-toggleable__label {cursor: pointer;display: block;width: 100%;margin-bottom: 0;padding: 0.3em;box-sizing: border-box;text-align: center;}#sk-container-id-9 label.sk-toggleable__label-arrow:before {content: \"▸\";float: left;margin-right: 0.25em;color: #696969;}#sk-container-id-9 label.sk-toggleable__label-arrow:hover:before {color: black;}#sk-container-id-9 div.sk-estimator:hover label.sk-toggleable__label-arrow:before {color: black;}#sk-container-id-9 div.sk-toggleable__content {max-height: 0;max-width: 0;overflow: hidden;text-align: left;background-color: #f0f8ff;}#sk-container-id-9 div.sk-toggleable__content pre {margin: 0.2em;color: black;border-radius: 0.25em;background-color: #f0f8ff;}#sk-container-id-9 input.sk-toggleable__control:checked~div.sk-toggleable__content {max-height: 200px;max-width: 100%;overflow: auto;}#sk-container-id-9 input.sk-toggleable__control:checked~label.sk-toggleable__label-arrow:before {content: \"▾\";}#sk-container-id-9 div.sk-estimator input.sk-toggleable__control:checked~label.sk-toggleable__label {background-color: #d4ebff;}#sk-container-id-9 div.sk-label input.sk-toggleable__control:checked~label.sk-toggleable__label {background-color: #d4ebff;}#sk-container-id-9 input.sk-hidden--visually {border: 0;clip: rect(1px 1px 1px 1px);clip: rect(1px, 1px, 1px, 1px);height: 1px;margin: -1px;overflow: hidden;padding: 0;position: absolute;width: 1px;}#sk-container-id-9 div.sk-estimator {font-family: monospace;background-color: #f0f8ff;border: 1px dotted black;border-radius: 0.25em;box-sizing: border-box;margin-bottom: 0.5em;}#sk-container-id-9 div.sk-estimator:hover {background-color: #d4ebff;}#sk-container-id-9 div.sk-parallel-item::after {content: \"\";width: 100%;border-bottom: 1px solid gray;flex-grow: 1;}#sk-container-id-9 div.sk-label:hover label.sk-toggleable__label {background-color: #d4ebff;}#sk-container-id-9 div.sk-serial::before {content: \"\";position: absolute;border-left: 1px solid gray;box-sizing: border-box;top: 0;bottom: 0;left: 50%;z-index: 0;}#sk-container-id-9 div.sk-serial {display: flex;flex-direction: column;align-items: center;background-color: white;padding-right: 0.2em;padding-left: 0.2em;position: relative;}#sk-container-id-9 div.sk-item {position: relative;z-index: 1;}#sk-container-id-9 div.sk-parallel {display: flex;align-items: stretch;justify-content: center;background-color: white;position: relative;}#sk-container-id-9 div.sk-item::before, #sk-container-id-9 div.sk-parallel-item::before {content: \"\";position: absolute;border-left: 1px solid gray;box-sizing: border-box;top: 0;bottom: 0;left: 50%;z-index: -1;}#sk-container-id-9 div.sk-parallel-item {display: flex;flex-direction: column;z-index: 1;position: relative;background-color: white;}#sk-container-id-9 div.sk-parallel-item:first-child::after {align-self: flex-end;width: 50%;}#sk-container-id-9 div.sk-parallel-item:last-child::after {align-self: flex-start;width: 50%;}#sk-container-id-9 div.sk-parallel-item:only-child::after {width: 0;}#sk-container-id-9 div.sk-dashed-wrapped {border: 1px dashed gray;margin: 0 0.4em 0.5em 0.4em;box-sizing: border-box;padding-bottom: 0.4em;background-color: white;}#sk-container-id-9 div.sk-label label {font-family: monospace;font-weight: bold;display: inline-block;line-height: 1.2em;}#sk-container-id-9 div.sk-label-container {text-align: center;}#sk-container-id-9 div.sk-container {/* jupyter's `normalize.less` sets `[hidden] { display: none; }` but bootstrap.min.css set `[hidden] { display: none !important; }` so we also need the `!important` here to be able to override the default hidden behavior on the sphinx rendered scikit-learn.org. See: https://github.com/scikit-learn/scikit-learn/issues/21755 */display: inline-block !important;position: relative;}#sk-container-id-9 div.sk-text-repr-fallback {display: none;}</style><div id=\"sk-container-id-9\" class=\"sk-top-container\"><div class=\"sk-text-repr-fallback\"><pre>RandomForestRegressor(random_state=42)</pre><b>In a Jupyter environment, please rerun this cell to show the HTML representation or trust the notebook. <br />On GitHub, the HTML representation is unable to render, please try loading this page with nbviewer.org.</b></div><div class=\"sk-container\" hidden><div class=\"sk-item\"><div class=\"sk-estimator sk-toggleable\"><input class=\"sk-toggleable__control sk-hidden--visually\" id=\"sk-estimator-id-9\" type=\"checkbox\" checked><label for=\"sk-estimator-id-9\" class=\"sk-toggleable__label sk-toggleable__label-arrow\">RandomForestRegressor</label><div class=\"sk-toggleable__content\"><pre>RandomForestRegressor(random_state=42)</pre></div></div></div></div></div>"
      ],
      "text/plain": [
       "RandomForestRegressor(random_state=42)"
      ]
     },
     "execution_count": 58,
     "metadata": {},
     "output_type": "execute_result"
    }
   ],
   "source": [
    "# Training the model and evaluate performance without 'G1' and 'G2' columns\n",
    "forest_model_without_G1_G2 = RandomForestRegressor(random_state=42)\n",
    "forest_model_without_G1_G2.fit(X_train_prepared_without_G1_G2, y_train)"
   ]
  },
  {
   "cell_type": "code",
   "execution_count": 59,
   "id": "badf4e55",
   "metadata": {},
   "outputs": [
    {
     "data": {
      "text/plain": [
       "array([12.44, 13.99,  0.84,  9.  ,  8.24,  7.59, 14.15,  0.42, 11.58,\n",
       "       15.17,  0.15, 13.13,  9.31, 11.18,  8.97,  0.59,  7.96,  9.54,\n",
       "       18.19, 18.9 , 13.99, 12.38, 12.49,  5.67, 10.08, 10.17,  7.88,\n",
       "        9.91,  7.91,  9.37,  2.95,  6.57,  5.1 , 10.98,  5.24,  9.46,\n",
       "       18.09,  7.61,  7.44, 15.79, 10.1 , 11.55,  8.42,  8.51, 15.82,\n",
       "       11.7 , 11.84, 12.64,  1.71,  0.16,  8.16, 12.  , 10.38, 12.92,\n",
       "        0.18, 18.02, 15.34,  0.35, 11.03, 16.87, 12.01,  9.91, 12.99,\n",
       "       10.3 , 15.77,  9.35, 11.28, 15.01, 11.34, 10.43, 14.04,  0.08,\n",
       "        8.04,  8.34,  5.94, 10.51, 10.86, 12.98,  9.87, 13.64,  9.85,\n",
       "        8.1 ,  6.82,  6.08, 10.92, 16.36,  6.27, 15.78, 12.37, 15.18,\n",
       "       13.49, 15.74,  9.82,  8.97,  8.51, 12.41, 15.37,  0.  , 12.99,\n",
       "        6.24,  8.11,  9.91, 12.1 , 11.37,  8.09, 12.38,  0.63, 11.43,\n",
       "        6.4 ,  0.09,  9.87,  0.73, 15.15,  9.96, 13.78,  8.63,  5.15,\n",
       "       11.06, 13.08,  7.9 , 18.01, 11.39, 12.03,  9.89, 11.44, 12.96,\n",
       "       13.09, 10.6 , 17.46,  9.03, 13.55, 15.15,  8.79,  9.92,  9.88,\n",
       "       11.33,  6.7 ,  8.35,  0.18, 11.32,  9.32,  9.79,  0.08,  9.45,\n",
       "       10.28, 15.61,  9.15, 10.69, 11.17, 15.14, 12.97, 13.63, 11.97,\n",
       "       16.43, 12.85, 11.19,  8.75, 11.19, 10.2 , 11.44, 15.33, 15.69,\n",
       "       18.12,  7.98,  1.16, 11.21,  0.  , 12.51, 18.67,  9.36, 10.09,\n",
       "       15.22, 12.55,  7.99,  0.  , 11.26, 15.26, 11.88, 13.87,  4.33,\n",
       "       10.99,  0.08, 10.86, 13.15,  9.78,  0.  ,  9.94, 13.24, 11.94,\n",
       "       13.62, 12.12,  8.73, 11.92,  7.95,  6.79, 11.85, 10.09,  9.85,\n",
       "       12.53,  8.19,  5.85, 15.25,  1.71,  7.84, 15.69, 14.02, 15.09,\n",
       "       10.13, 19.5 , 15.83, 10.91, 15.92, 13.02, 15.42, 14.6 , 13.5 ,\n",
       "       18.07, 13.98,  0.08, 15.2 , 11.96,  9.24,  0.09,  0.  , 18.66,\n",
       "        9.76, 10.92, 16.07, 12.53, 10.73, 11.88, 10.83,  4.97, 10.3 ,\n",
       "        2.88, 12.99, 12.84, 13.54, 11.32, 14.  ,  9.91,  9.9 , 12.97,\n",
       "       18.06,  0.  , 10.01,  7.92,  8.51,  7.05, 12.73, 10.27,  3.39,\n",
       "       10.83, 10.29,  5.42,  6.96, 11.78,  8.91, 14.54,  9.32, 17.98,\n",
       "        9.77, 10.22,  2.98, 11.47, 10.67, 11.2 , 10.1 , 14.02,  9.88,\n",
       "        9.1 ,  7.62,  0.28, 18.12, 15.13, 10.92, 11.79, 13.17, 12.83,\n",
       "        9.8 ,  9.69,  7.67, 15.06, 14.04,  9.31, 14.7 , 10.22,  9.84,\n",
       "        8.37, 15.2 , 10.77,  0.25,  8.99,  7.5 , 18.19,  0.81, 10.97,\n",
       "       12.14,  9.43,  0.12, 13.51, 16.22,  7.68, 11.05, 14.12,  7.97,\n",
       "       10.28, 14.6 ,  8.96, 14.55,  8.02,  9.36,  8.1 ,  8.61, 15.07,\n",
       "       13.62])"
      ]
     },
     "execution_count": 59,
     "metadata": {},
     "output_type": "execute_result"
    }
   ],
   "source": [
    "# Making the predictions on the training data\n",
    "forest_y_train_pred_without_G1_G2=forest_model_without_G1_G2.predict(X_train_prepared_without_G1_G2)\n",
    "forest_y_train_pred_without_G1_G2 "
   ]
  },
  {
   "cell_type": "code",
   "execution_count": 60,
   "id": "8660858f",
   "metadata": {},
   "outputs": [
    {
     "data": {
      "text/plain": [
       "1.9019063004032255"
      ]
     },
     "execution_count": 60,
     "metadata": {},
     "output_type": "execute_result"
    }
   ],
   "source": [
    "forest_cv_without_G1_G2=-cross_val_score(forest_model_without_G1_G2, X_train_prepared_without_G1_G2,y_train,scoring='neg_mean_squared_error',cv=10)\n",
    "forest_cv_without_G1_G2.mean() # Showing cv mean"
   ]
  },
  {
   "cell_type": "code",
   "execution_count": 61,
   "id": "959c7875",
   "metadata": {},
   "outputs": [
    {
     "data": {
      "text/plain": [
       "count    10.000000\n",
       "mean      1.901906\n",
       "std       0.993778\n",
       "min       1.107031\n",
       "25%       1.326415\n",
       "50%       1.460338\n",
       "75%       2.125256\n",
       "max       4.355303\n",
       "dtype: float64"
      ]
     },
     "execution_count": 61,
     "metadata": {},
     "output_type": "execute_result"
    }
   ],
   "source": [
    "pd.Series(forest_cv_without_G1_G2).describe()"
   ]
  },
  {
   "cell_type": "markdown",
   "id": "16bbac92",
   "metadata": {},
   "source": [
    "Support Vector Machine"
   ]
  },
  {
   "cell_type": "code",
   "execution_count": 62,
   "id": "5c21de29",
   "metadata": {},
   "outputs": [
    {
     "data": {
      "text/html": [
       "<style>#sk-container-id-10 {color: black;}#sk-container-id-10 pre{padding: 0;}#sk-container-id-10 div.sk-toggleable {background-color: white;}#sk-container-id-10 label.sk-toggleable__label {cursor: pointer;display: block;width: 100%;margin-bottom: 0;padding: 0.3em;box-sizing: border-box;text-align: center;}#sk-container-id-10 label.sk-toggleable__label-arrow:before {content: \"▸\";float: left;margin-right: 0.25em;color: #696969;}#sk-container-id-10 label.sk-toggleable__label-arrow:hover:before {color: black;}#sk-container-id-10 div.sk-estimator:hover label.sk-toggleable__label-arrow:before {color: black;}#sk-container-id-10 div.sk-toggleable__content {max-height: 0;max-width: 0;overflow: hidden;text-align: left;background-color: #f0f8ff;}#sk-container-id-10 div.sk-toggleable__content pre {margin: 0.2em;color: black;border-radius: 0.25em;background-color: #f0f8ff;}#sk-container-id-10 input.sk-toggleable__control:checked~div.sk-toggleable__content {max-height: 200px;max-width: 100%;overflow: auto;}#sk-container-id-10 input.sk-toggleable__control:checked~label.sk-toggleable__label-arrow:before {content: \"▾\";}#sk-container-id-10 div.sk-estimator input.sk-toggleable__control:checked~label.sk-toggleable__label {background-color: #d4ebff;}#sk-container-id-10 div.sk-label input.sk-toggleable__control:checked~label.sk-toggleable__label {background-color: #d4ebff;}#sk-container-id-10 input.sk-hidden--visually {border: 0;clip: rect(1px 1px 1px 1px);clip: rect(1px, 1px, 1px, 1px);height: 1px;margin: -1px;overflow: hidden;padding: 0;position: absolute;width: 1px;}#sk-container-id-10 div.sk-estimator {font-family: monospace;background-color: #f0f8ff;border: 1px dotted black;border-radius: 0.25em;box-sizing: border-box;margin-bottom: 0.5em;}#sk-container-id-10 div.sk-estimator:hover {background-color: #d4ebff;}#sk-container-id-10 div.sk-parallel-item::after {content: \"\";width: 100%;border-bottom: 1px solid gray;flex-grow: 1;}#sk-container-id-10 div.sk-label:hover label.sk-toggleable__label {background-color: #d4ebff;}#sk-container-id-10 div.sk-serial::before {content: \"\";position: absolute;border-left: 1px solid gray;box-sizing: border-box;top: 0;bottom: 0;left: 50%;z-index: 0;}#sk-container-id-10 div.sk-serial {display: flex;flex-direction: column;align-items: center;background-color: white;padding-right: 0.2em;padding-left: 0.2em;position: relative;}#sk-container-id-10 div.sk-item {position: relative;z-index: 1;}#sk-container-id-10 div.sk-parallel {display: flex;align-items: stretch;justify-content: center;background-color: white;position: relative;}#sk-container-id-10 div.sk-item::before, #sk-container-id-10 div.sk-parallel-item::before {content: \"\";position: absolute;border-left: 1px solid gray;box-sizing: border-box;top: 0;bottom: 0;left: 50%;z-index: -1;}#sk-container-id-10 div.sk-parallel-item {display: flex;flex-direction: column;z-index: 1;position: relative;background-color: white;}#sk-container-id-10 div.sk-parallel-item:first-child::after {align-self: flex-end;width: 50%;}#sk-container-id-10 div.sk-parallel-item:last-child::after {align-self: flex-start;width: 50%;}#sk-container-id-10 div.sk-parallel-item:only-child::after {width: 0;}#sk-container-id-10 div.sk-dashed-wrapped {border: 1px dashed gray;margin: 0 0.4em 0.5em 0.4em;box-sizing: border-box;padding-bottom: 0.4em;background-color: white;}#sk-container-id-10 div.sk-label label {font-family: monospace;font-weight: bold;display: inline-block;line-height: 1.2em;}#sk-container-id-10 div.sk-label-container {text-align: center;}#sk-container-id-10 div.sk-container {/* jupyter's `normalize.less` sets `[hidden] { display: none; }` but bootstrap.min.css set `[hidden] { display: none !important; }` so we also need the `!important` here to be able to override the default hidden behavior on the sphinx rendered scikit-learn.org. See: https://github.com/scikit-learn/scikit-learn/issues/21755 */display: inline-block !important;position: relative;}#sk-container-id-10 div.sk-text-repr-fallback {display: none;}</style><div id=\"sk-container-id-10\" class=\"sk-top-container\"><div class=\"sk-text-repr-fallback\"><pre>SVR()</pre><b>In a Jupyter environment, please rerun this cell to show the HTML representation or trust the notebook. <br />On GitHub, the HTML representation is unable to render, please try loading this page with nbviewer.org.</b></div><div class=\"sk-container\" hidden><div class=\"sk-item\"><div class=\"sk-estimator sk-toggleable\"><input class=\"sk-toggleable__control sk-hidden--visually\" id=\"sk-estimator-id-10\" type=\"checkbox\" checked><label for=\"sk-estimator-id-10\" class=\"sk-toggleable__label sk-toggleable__label-arrow\">SVR</label><div class=\"sk-toggleable__content\"><pre>SVR()</pre></div></div></div></div></div>"
      ],
      "text/plain": [
       "SVR()"
      ]
     },
     "execution_count": 62,
     "metadata": {},
     "output_type": "execute_result"
    }
   ],
   "source": [
    "# Training the model and evaluate performance without 'G1' and 'G2' columns\n",
    "svm_model_without_G1_G2=SVR()\n",
    "svm_model_without_G1_G2.fit(X_train_prepared_without_G1_G2,y_train)"
   ]
  },
  {
   "cell_type": "code",
   "execution_count": 63,
   "id": "b42fa0b8",
   "metadata": {},
   "outputs": [
    {
     "data": {
      "text/plain": [
       "array([13.18591324, 13.93596146,  5.89181841,  8.7225737 ,  8.20583581,\n",
       "        8.62707237, 14.10013152,  4.30362539, 11.19590257, 15.26405606,\n",
       "        1.53446543, 11.90612522,  9.03454659, 11.10004139,  9.73771591,\n",
       "        5.47223638,  8.10024938,  9.14208881, 17.02570207, 16.99516542,\n",
       "       14.2322166 , 12.63956665, 12.12654533,  5.29201772,  9.64819334,\n",
       "       10.64863414,  6.96517269,  9.77549798,  8.17676088,  9.7873567 ,\n",
       "        8.25012689,  5.92931283,  6.11818104, 10.76782761,  5.68980722,\n",
       "        9.56684892, 17.35635037,  6.8519315 ,  6.43092135, 15.38477709,\n",
       "        9.79200313, 11.22643582,  8.85736741,  9.33149825, 15.64037198,\n",
       "       13.05378078, 12.40044783, 12.45934389,  6.10752295,  1.1852065 ,\n",
       "        7.5864175 , 12.49894465, 11.17439787, 13.56604407,  4.3892601 ,\n",
       "       14.00368663, 15.70935954,  5.36639648, 10.90968364, 16.15019391,\n",
       "       12.64209472,  9.95784238, 12.31991819, 10.58330385, 16.09964914,\n",
       "        9.10393614, 11.61496493, 14.40430094, 11.96242216,  9.13750649,\n",
       "       14.37169882,  4.14949466,  7.65291063,  8.09240216,  7.89433716,\n",
       "       10.45232093, 11.62981207, 12.93359542,  8.85157326, 13.59099084,\n",
       "        9.56786697,  8.49080804,  7.34211488,  7.23681313, 10.89987613,\n",
       "       15.72970383,  5.82589459, 15.73772861, 11.50180066, 14.41968092,\n",
       "       13.91973914, 14.87705703,  8.56658665,  9.55385734,  8.60078059,\n",
       "       13.03674785, 15.78149285,  1.40300309, 13.17506891,  6.87976343,\n",
       "        8.32647657,  9.0888906 , 12.20784475, 12.50333102,  8.85223086,\n",
       "       12.77355276,  5.78788794, 10.79449636,  6.87359842,  1.32209016,\n",
       "        9.82963822,  7.24301437, 14.68785114,  9.72343496, 13.36922463,\n",
       "        9.67308736,  5.54010584, 11.03214657, 13.35070394,  8.17684446,\n",
       "       16.83277279, 12.21457793, 12.12871067,  8.80521082, 12.24925007,\n",
       "       13.44602028, 12.71605349, 10.28273101, 15.95770592,  9.10059973,\n",
       "       13.8160893 , 14.80737437,  9.75955339, 10.10050485,  8.72209544,\n",
       "       11.73104804,  6.85148443,  8.10029236,  1.71828563, 10.76390226,\n",
       "        8.43375999,  9.06423503,  4.42060645,  7.96302438, 10.23507601,\n",
       "       15.32645405,  8.95213311, 11.12680645, 12.15755491, 15.17788598,\n",
       "       12.65955644, 13.18645612, 11.74776694, 15.64827057, 11.98015632,\n",
       "       11.75291959,  6.7848706 ,  9.97817574, 10.60134779, 11.13388148,\n",
       "       15.45827085, 14.79324303, 17.38405963,  8.58643524,  8.02233838,\n",
       "       11.14482501,  1.32461022, 12.60242753, 17.49730365, 10.09485875,\n",
       "       10.62271225, 15.39655582, 12.22170296,  8.26417435,  1.56700286,\n",
       "       11.70210888, 14.76378464, 11.46772736, 14.21135913,  6.29722828,\n",
       "       11.33359818,  4.21894137, 10.72525414, 13.16744409,  9.50666538,\n",
       "        4.40221683,  9.18068249, 13.10010134, 11.89994047, 13.8999244 ,\n",
       "       12.57078074,  8.67662504, 12.47214676,  6.83709262,  6.35920115,\n",
       "       11.03047402, 10.32583895,  9.28891296, 12.99824921,  7.47029086,\n",
       "        7.49523461, 15.65109161,  7.24346748,  7.30729415, 14.92829743,\n",
       "       14.03421507, 15.09302545,  8.3718747 , 17.81420884, 15.89993533,\n",
       "       10.66519021, 15.94973304, 13.20295696, 15.64662085, 14.37929666,\n",
       "       13.05827859, 14.64322875, 14.09992129,  1.23759702, 14.48493092,\n",
       "       12.09969308,  9.50282128,  1.83256719,  3.32352601, 16.98076676,\n",
       "        9.56142871, 10.7130275 , 15.5400318 , 12.89994047,  9.13987232,\n",
       "       12.10179372, 11.53336064,  5.0382011 , 11.11823801,  9.30336681,\n",
       "       13.25560282, 11.96333305, 12.75765563, 12.71346788, 14.34420033,\n",
       "        9.23964736,  8.98520546, 12.72029817, 16.53752224,  1.38884202,\n",
       "        9.71298839,  8.22240788,  7.47789563,  5.07664193, 12.17447776,\n",
       "       10.40508182,  8.46938275, 11.09990995,  9.06803158,  4.69500568,\n",
       "        6.3245102 , 11.55179162,  9.31196182, 13.81840209,  8.9979061 ,\n",
       "       16.67303309,  9.44752208, 11.17282273,  9.30958539, 10.66956206,\n",
       "       10.09068577, 10.58312551, 10.39392731, 14.12842804, 10.02577455,\n",
       "        9.30910089,  8.1092139 ,  1.77501996, 16.71112022, 14.94948297,\n",
       "       10.89968798, 12.16787455, 12.9001628 , 12.91423392, 10.96801919,\n",
       "        8.68651569,  7.47275442, 15.05692981, 14.09961776,  9.61224329,\n",
       "       15.3877    , 10.2373638 ,  9.89253904,  8.13386861, 14.53003215,\n",
       "       10.64094417,  5.01928632,  9.10011071,  7.39776832, 17.33159124,\n",
       "        7.13198284, 11.19136385, 12.09970963,  7.88880345,  1.86920388,\n",
       "       13.09385886, 15.84872336,  8.33297327, 11.68335044, 14.60765093,\n",
       "        7.63987178,  9.93282245, 14.83473297,  8.5665269 , 14.03669099,\n",
       "        6.90121439,  9.74585543,  7.71103257,  8.91629019, 14.75356841,\n",
       "       12.98632631])"
      ]
     },
     "execution_count": 63,
     "metadata": {},
     "output_type": "execute_result"
    }
   ],
   "source": [
    "# Making the predictions on the training data\n",
    "svm_y_train_pred_without_G1_G2=svm_model_without_G1_G2.predict(X_train_prepared_without_G1_G2)\n",
    "svm_y_train_pred_without_G1_G2"
   ]
  },
  {
   "cell_type": "code",
   "execution_count": 64,
   "id": "93ac3836",
   "metadata": {},
   "outputs": [
    {
     "data": {
      "text/plain": [
       "array([5.87608136, 4.55424901, 1.55616197, 4.01973991, 1.89125646,\n",
       "       4.41313104, 3.39825209, 7.26709766, 3.63848188, 3.33948026])"
      ]
     },
     "execution_count": 64,
     "metadata": {},
     "output_type": "execute_result"
    }
   ],
   "source": [
    "# Evaluating the model with 'G1' and 'G2' columns with cross-validation\n",
    "svm_cv_without_G1_G2=-cross_val_score(svm_model_without_G1_G2,X_train_prepared_without_G1_G2,y_train,scoring='neg_mean_squared_error',cv=10)\n",
    "svm_cv_without_G1_G2"
   ]
  },
  {
   "cell_type": "code",
   "execution_count": 65,
   "id": "15a5f199",
   "metadata": {},
   "outputs": [
    {
     "data": {
      "text/plain": [
       "count    10.000000\n",
       "mean      3.995393\n",
       "std       1.700323\n",
       "min       1.556162\n",
       "25%       3.354173\n",
       "50%       3.829111\n",
       "75%       4.518970\n",
       "max       7.267098\n",
       "dtype: float64"
      ]
     },
     "execution_count": 65,
     "metadata": {},
     "output_type": "execute_result"
    }
   ],
   "source": [
    "# Displaying the stats\n",
    "pd.Series(svm_cv_without_G1_G2).describe()"
   ]
  },
  {
   "cell_type": "markdown",
   "id": "1f85fa74",
   "metadata": {},
   "source": [
    "DecisionTreeRegressor"
   ]
  },
  {
   "cell_type": "code",
   "execution_count": 66,
   "id": "098fe087",
   "metadata": {},
   "outputs": [
    {
     "data": {
      "text/html": [
       "<style>#sk-container-id-11 {color: black;}#sk-container-id-11 pre{padding: 0;}#sk-container-id-11 div.sk-toggleable {background-color: white;}#sk-container-id-11 label.sk-toggleable__label {cursor: pointer;display: block;width: 100%;margin-bottom: 0;padding: 0.3em;box-sizing: border-box;text-align: center;}#sk-container-id-11 label.sk-toggleable__label-arrow:before {content: \"▸\";float: left;margin-right: 0.25em;color: #696969;}#sk-container-id-11 label.sk-toggleable__label-arrow:hover:before {color: black;}#sk-container-id-11 div.sk-estimator:hover label.sk-toggleable__label-arrow:before {color: black;}#sk-container-id-11 div.sk-toggleable__content {max-height: 0;max-width: 0;overflow: hidden;text-align: left;background-color: #f0f8ff;}#sk-container-id-11 div.sk-toggleable__content pre {margin: 0.2em;color: black;border-radius: 0.25em;background-color: #f0f8ff;}#sk-container-id-11 input.sk-toggleable__control:checked~div.sk-toggleable__content {max-height: 200px;max-width: 100%;overflow: auto;}#sk-container-id-11 input.sk-toggleable__control:checked~label.sk-toggleable__label-arrow:before {content: \"▾\";}#sk-container-id-11 div.sk-estimator input.sk-toggleable__control:checked~label.sk-toggleable__label {background-color: #d4ebff;}#sk-container-id-11 div.sk-label input.sk-toggleable__control:checked~label.sk-toggleable__label {background-color: #d4ebff;}#sk-container-id-11 input.sk-hidden--visually {border: 0;clip: rect(1px 1px 1px 1px);clip: rect(1px, 1px, 1px, 1px);height: 1px;margin: -1px;overflow: hidden;padding: 0;position: absolute;width: 1px;}#sk-container-id-11 div.sk-estimator {font-family: monospace;background-color: #f0f8ff;border: 1px dotted black;border-radius: 0.25em;box-sizing: border-box;margin-bottom: 0.5em;}#sk-container-id-11 div.sk-estimator:hover {background-color: #d4ebff;}#sk-container-id-11 div.sk-parallel-item::after {content: \"\";width: 100%;border-bottom: 1px solid gray;flex-grow: 1;}#sk-container-id-11 div.sk-label:hover label.sk-toggleable__label {background-color: #d4ebff;}#sk-container-id-11 div.sk-serial::before {content: \"\";position: absolute;border-left: 1px solid gray;box-sizing: border-box;top: 0;bottom: 0;left: 50%;z-index: 0;}#sk-container-id-11 div.sk-serial {display: flex;flex-direction: column;align-items: center;background-color: white;padding-right: 0.2em;padding-left: 0.2em;position: relative;}#sk-container-id-11 div.sk-item {position: relative;z-index: 1;}#sk-container-id-11 div.sk-parallel {display: flex;align-items: stretch;justify-content: center;background-color: white;position: relative;}#sk-container-id-11 div.sk-item::before, #sk-container-id-11 div.sk-parallel-item::before {content: \"\";position: absolute;border-left: 1px solid gray;box-sizing: border-box;top: 0;bottom: 0;left: 50%;z-index: -1;}#sk-container-id-11 div.sk-parallel-item {display: flex;flex-direction: column;z-index: 1;position: relative;background-color: white;}#sk-container-id-11 div.sk-parallel-item:first-child::after {align-self: flex-end;width: 50%;}#sk-container-id-11 div.sk-parallel-item:last-child::after {align-self: flex-start;width: 50%;}#sk-container-id-11 div.sk-parallel-item:only-child::after {width: 0;}#sk-container-id-11 div.sk-dashed-wrapped {border: 1px dashed gray;margin: 0 0.4em 0.5em 0.4em;box-sizing: border-box;padding-bottom: 0.4em;background-color: white;}#sk-container-id-11 div.sk-label label {font-family: monospace;font-weight: bold;display: inline-block;line-height: 1.2em;}#sk-container-id-11 div.sk-label-container {text-align: center;}#sk-container-id-11 div.sk-container {/* jupyter's `normalize.less` sets `[hidden] { display: none; }` but bootstrap.min.css set `[hidden] { display: none !important; }` so we also need the `!important` here to be able to override the default hidden behavior on the sphinx rendered scikit-learn.org. See: https://github.com/scikit-learn/scikit-learn/issues/21755 */display: inline-block !important;position: relative;}#sk-container-id-11 div.sk-text-repr-fallback {display: none;}</style><div id=\"sk-container-id-11\" class=\"sk-top-container\"><div class=\"sk-text-repr-fallback\"><pre>DecisionTreeRegressor(random_state=42)</pre><b>In a Jupyter environment, please rerun this cell to show the HTML representation or trust the notebook. <br />On GitHub, the HTML representation is unable to render, please try loading this page with nbviewer.org.</b></div><div class=\"sk-container\" hidden><div class=\"sk-item\"><div class=\"sk-estimator sk-toggleable\"><input class=\"sk-toggleable__control sk-hidden--visually\" id=\"sk-estimator-id-11\" type=\"checkbox\" checked><label for=\"sk-estimator-id-11\" class=\"sk-toggleable__label sk-toggleable__label-arrow\">DecisionTreeRegressor</label><div class=\"sk-toggleable__content\"><pre>DecisionTreeRegressor(random_state=42)</pre></div></div></div></div></div>"
      ],
      "text/plain": [
       "DecisionTreeRegressor(random_state=42)"
      ]
     },
     "execution_count": 66,
     "metadata": {},
     "output_type": "execute_result"
    }
   ],
   "source": [
    "# Training the model and evaluate performance without 'G1' and 'G2' columns\n",
    "tree_model_without_G1_G2=DecisionTreeRegressor(random_state=42)\n",
    "tree_model_without_G1_G2.fit(X_train_prepared_without_G1_G2,y_train)"
   ]
  },
  {
   "cell_type": "code",
   "execution_count": 67,
   "id": "3f39700d",
   "metadata": {},
   "outputs": [
    {
     "data": {
      "text/plain": [
       "array([12., 14.,  0.,  9.,  8.,  7., 14.,  0., 12., 15.,  0., 13.,  9.,\n",
       "       11., 10.,  0.,  8., 10., 18., 19., 14., 12., 13.,  6., 10., 10.,\n",
       "        8., 10.,  8.,  9.,  0.,  7.,  5., 11.,  5., 10., 18.,  8.,  8.,\n",
       "       16., 10., 12.,  8., 11., 16., 11., 12., 13.,  0.,  0.,  8., 12.,\n",
       "       10., 13.,  0., 18., 15.,  0., 11., 18., 12., 10., 13., 10., 16.,\n",
       "       10., 11., 15., 11., 11., 14.,  0.,  9.,  8.,  6., 11., 11., 13.,\n",
       "       10., 14., 10.,  8.,  7.,  6., 11., 17.,  6., 16., 13., 15., 13.,\n",
       "       16., 10.,  9.,  8., 12., 15.,  0., 13.,  6.,  8., 10., 12., 11.,\n",
       "        8., 12.,  0., 12.,  6.,  0., 10.,  0., 15., 10., 14.,  8.,  6.,\n",
       "       11., 13.,  8., 18., 11., 12., 10., 11., 13., 13., 11., 17.,  9.,\n",
       "       13., 15.,  9., 10., 10., 11.,  7.,  8.,  0., 12., 10., 10.,  0.,\n",
       "       10., 11., 16.,  9., 11., 11., 15., 14., 14., 12., 17., 13., 11.,\n",
       "        9., 11., 10., 11., 15., 16., 18.,  9.,  0., 11.,  0., 12., 19.,\n",
       "        9., 10., 15., 13.,  8.,  0., 11., 15., 12., 14.,  6., 11.,  0.,\n",
       "       11., 13., 10.,  0., 10., 13., 12., 14., 12.,  9., 12.,  8.,  7.,\n",
       "       12., 10., 10., 13.,  8.,  5., 15.,  0.,  8., 16., 14., 15., 11.,\n",
       "       20., 16., 11., 16., 13., 15., 15., 14., 18., 14.,  0., 15., 12.,\n",
       "        9.,  0.,  0., 19., 10., 11., 16., 13., 11., 12., 11.,  4., 10.,\n",
       "        0., 13., 13., 14., 11., 14., 10., 10., 13., 18.,  0., 10.,  7.,\n",
       "       11.,  8., 13., 10.,  0., 11., 11.,  6.,  7., 12.,  9., 15.,  9.,\n",
       "       18., 10., 10.,  0., 12., 11., 11., 10., 14., 10.,  9.,  8.,  0.,\n",
       "       18., 15., 11., 12., 13., 13.,  9., 10.,  7., 15., 14.,  9., 14.,\n",
       "       10., 10.,  8., 15., 11.,  0.,  9.,  9., 18.,  0., 11., 12., 10.,\n",
       "        0., 14., 16.,  8., 11., 14.,  8., 10., 15.,  9., 15.,  9., 10.,\n",
       "        8.,  9., 15., 14.])"
      ]
     },
     "execution_count": 67,
     "metadata": {},
     "output_type": "execute_result"
    }
   ],
   "source": [
    "# Making the predictions on the training data\n",
    "tree_y_train_pred_without_G1_G2=tree_model_without_G1_G2.predict(X_train_prepared_without_G1_G2)\n",
    "tree_y_train_pred_without_G1_G2"
   ]
  },
  {
   "cell_type": "code",
   "execution_count": 68,
   "id": "fbf58a72",
   "metadata": {
    "scrolled": true
   },
   "outputs": [
    {
     "data": {
      "text/plain": [
       "array([3.59375   , 6.96875   , 1.53125   , 6.34375   , 1.84375   ,\n",
       "       1.9375    , 1.58064516, 4.77419355, 4.09677419, 3.61290323])"
      ]
     },
     "execution_count": 68,
     "metadata": {},
     "output_type": "execute_result"
    }
   ],
   "source": [
    "# Evaluating the model with 'G1' and 'G2' columns with cross-validation\n",
    "tree_cv_without_G1_G2=-cross_val_score(tree_model_without_G1_G2,X_train_prepared_without_G1_G2,y_train,scoring='neg_mean_squared_error',cv=10)\n",
    "tree_cv_without_G1_G2 # cv score"
   ]
  },
  {
   "cell_type": "code",
   "execution_count": 69,
   "id": "ffab7007",
   "metadata": {
    "scrolled": false
   },
   "outputs": [
    {
     "data": {
      "text/plain": [
       "count    10.000000\n",
       "mean      3.628327\n",
       "std       1.963562\n",
       "min       1.531250\n",
       "25%       1.867188\n",
       "50%       3.603327\n",
       "75%       4.604839\n",
       "max       6.968750\n",
       "dtype: float64"
      ]
     },
     "execution_count": 69,
     "metadata": {},
     "output_type": "execute_result"
    }
   ],
   "source": [
    "# Showing the stats\n",
    "pd.Series(tree_cv_without_G1_G2).describe()"
   ]
  },
  {
   "cell_type": "code",
   "execution_count": 70,
   "id": "74774541",
   "metadata": {},
   "outputs": [],
   "source": [
    "# Defined the hyperparameter values to search\n",
    "param_grid=[\n",
    "    {'randomforestregressor__n_estimators':[3,10,30],\n",
    "     'randomforestregressor__max_features':[2,4,6,8]},\n",
    "    {'randomforestregressor__bootstrap':[False],\n",
    "     'randomforestregressor__n_estimators':[3,10],\n",
    "     'randomforestregressor__max_features':[2,3,4]}\n",
    "]\n"
   ]
  },
  {
   "cell_type": "code",
   "execution_count": 71,
   "id": "f9f30e85",
   "metadata": {},
   "outputs": [],
   "source": [
    "# Created the pipeline with preprocessing and RandomForestRegressor\n",
    "pipeline=make_pipeline(preprocessing, RandomForestRegressor(random_state=42))"
   ]
  },
  {
   "cell_type": "code",
   "execution_count": 72,
   "id": "01608e02",
   "metadata": {},
   "outputs": [],
   "source": [
    "# Instantiated the grid search\n",
    "grid_search=GridSearchCV(\n",
    "    pipeline,\n",
    "    param_grid,\n",
    "    cv=5,\n",
    "    scoring='neg_mean_squared_error',\n",
    "    return_train_score=True\n",
    ")"
   ]
  },
  {
   "cell_type": "code",
   "execution_count": 73,
   "id": "081234fe",
   "metadata": {},
   "outputs": [
    {
     "data": {
      "text/html": [
       "<style>#sk-container-id-12 {color: black;}#sk-container-id-12 pre{padding: 0;}#sk-container-id-12 div.sk-toggleable {background-color: white;}#sk-container-id-12 label.sk-toggleable__label {cursor: pointer;display: block;width: 100%;margin-bottom: 0;padding: 0.3em;box-sizing: border-box;text-align: center;}#sk-container-id-12 label.sk-toggleable__label-arrow:before {content: \"▸\";float: left;margin-right: 0.25em;color: #696969;}#sk-container-id-12 label.sk-toggleable__label-arrow:hover:before {color: black;}#sk-container-id-12 div.sk-estimator:hover label.sk-toggleable__label-arrow:before {color: black;}#sk-container-id-12 div.sk-toggleable__content {max-height: 0;max-width: 0;overflow: hidden;text-align: left;background-color: #f0f8ff;}#sk-container-id-12 div.sk-toggleable__content pre {margin: 0.2em;color: black;border-radius: 0.25em;background-color: #f0f8ff;}#sk-container-id-12 input.sk-toggleable__control:checked~div.sk-toggleable__content {max-height: 200px;max-width: 100%;overflow: auto;}#sk-container-id-12 input.sk-toggleable__control:checked~label.sk-toggleable__label-arrow:before {content: \"▾\";}#sk-container-id-12 div.sk-estimator input.sk-toggleable__control:checked~label.sk-toggleable__label {background-color: #d4ebff;}#sk-container-id-12 div.sk-label input.sk-toggleable__control:checked~label.sk-toggleable__label {background-color: #d4ebff;}#sk-container-id-12 input.sk-hidden--visually {border: 0;clip: rect(1px 1px 1px 1px);clip: rect(1px, 1px, 1px, 1px);height: 1px;margin: -1px;overflow: hidden;padding: 0;position: absolute;width: 1px;}#sk-container-id-12 div.sk-estimator {font-family: monospace;background-color: #f0f8ff;border: 1px dotted black;border-radius: 0.25em;box-sizing: border-box;margin-bottom: 0.5em;}#sk-container-id-12 div.sk-estimator:hover {background-color: #d4ebff;}#sk-container-id-12 div.sk-parallel-item::after {content: \"\";width: 100%;border-bottom: 1px solid gray;flex-grow: 1;}#sk-container-id-12 div.sk-label:hover label.sk-toggleable__label {background-color: #d4ebff;}#sk-container-id-12 div.sk-serial::before {content: \"\";position: absolute;border-left: 1px solid gray;box-sizing: border-box;top: 0;bottom: 0;left: 50%;z-index: 0;}#sk-container-id-12 div.sk-serial {display: flex;flex-direction: column;align-items: center;background-color: white;padding-right: 0.2em;padding-left: 0.2em;position: relative;}#sk-container-id-12 div.sk-item {position: relative;z-index: 1;}#sk-container-id-12 div.sk-parallel {display: flex;align-items: stretch;justify-content: center;background-color: white;position: relative;}#sk-container-id-12 div.sk-item::before, #sk-container-id-12 div.sk-parallel-item::before {content: \"\";position: absolute;border-left: 1px solid gray;box-sizing: border-box;top: 0;bottom: 0;left: 50%;z-index: -1;}#sk-container-id-12 div.sk-parallel-item {display: flex;flex-direction: column;z-index: 1;position: relative;background-color: white;}#sk-container-id-12 div.sk-parallel-item:first-child::after {align-self: flex-end;width: 50%;}#sk-container-id-12 div.sk-parallel-item:last-child::after {align-self: flex-start;width: 50%;}#sk-container-id-12 div.sk-parallel-item:only-child::after {width: 0;}#sk-container-id-12 div.sk-dashed-wrapped {border: 1px dashed gray;margin: 0 0.4em 0.5em 0.4em;box-sizing: border-box;padding-bottom: 0.4em;background-color: white;}#sk-container-id-12 div.sk-label label {font-family: monospace;font-weight: bold;display: inline-block;line-height: 1.2em;}#sk-container-id-12 div.sk-label-container {text-align: center;}#sk-container-id-12 div.sk-container {/* jupyter's `normalize.less` sets `[hidden] { display: none; }` but bootstrap.min.css set `[hidden] { display: none !important; }` so we also need the `!important` here to be able to override the default hidden behavior on the sphinx rendered scikit-learn.org. See: https://github.com/scikit-learn/scikit-learn/issues/21755 */display: inline-block !important;position: relative;}#sk-container-id-12 div.sk-text-repr-fallback {display: none;}</style><div id=\"sk-container-id-12\" class=\"sk-top-container\"><div class=\"sk-text-repr-fallback\"><pre>GridSearchCV(cv=5,\n",
       "             estimator=Pipeline(steps=[(&#x27;columntransformer&#x27;,\n",
       "                                        ColumnTransformer(transformers=[(&#x27;num&#x27;,\n",
       "                                                                         Pipeline(steps=[(&#x27;imputer&#x27;,\n",
       "                                                                                          SimpleImputer(strategy=&#x27;median&#x27;)),\n",
       "                                                                                         (&#x27;scaler&#x27;,\n",
       "                                                                                          StandardScaler())]),\n",
       "                                                                         [&#x27;age&#x27;,\n",
       "                                                                          &#x27;Medu&#x27;,\n",
       "                                                                          &#x27;Fedu&#x27;,\n",
       "                                                                          &#x27;traveltime&#x27;,\n",
       "                                                                          &#x27;studytime&#x27;,\n",
       "                                                                          &#x27;failures&#x27;,\n",
       "                                                                          &#x27;famrel&#x27;,\n",
       "                                                                          &#x27;freetime&#x27;,\n",
       "                                                                          &#x27;goout&#x27;,\n",
       "                                                                          &#x27;Dalc&#x27;,\n",
       "                                                                          &#x27;Walc&#x27;,\n",
       "                                                                          &#x27;health&#x27;,\n",
       "                                                                          &#x27;absences_G1&#x27;,\n",
       "                                                                          &#x27;absences_G2&#x27;,\n",
       "                                                                          &#x27;absences_G3&#x27;,\n",
       "                                                                          &#x27;G1&#x27;,...\n",
       "                                       (&#x27;randomforestregressor&#x27;,\n",
       "                                        RandomForestRegressor(random_state=42))]),\n",
       "             param_grid=[{&#x27;randomforestregressor__max_features&#x27;: [2, 4, 6, 8],\n",
       "                          &#x27;randomforestregressor__n_estimators&#x27;: [3, 10, 30]},\n",
       "                         {&#x27;randomforestregressor__bootstrap&#x27;: [False],\n",
       "                          &#x27;randomforestregressor__max_features&#x27;: [2, 3, 4],\n",
       "                          &#x27;randomforestregressor__n_estimators&#x27;: [3, 10]}],\n",
       "             return_train_score=True, scoring=&#x27;neg_mean_squared_error&#x27;)</pre><b>In a Jupyter environment, please rerun this cell to show the HTML representation or trust the notebook. <br />On GitHub, the HTML representation is unable to render, please try loading this page with nbviewer.org.</b></div><div class=\"sk-container\" hidden><div class=\"sk-item sk-dashed-wrapped\"><div class=\"sk-label-container\"><div class=\"sk-label sk-toggleable\"><input class=\"sk-toggleable__control sk-hidden--visually\" id=\"sk-estimator-id-12\" type=\"checkbox\" ><label for=\"sk-estimator-id-12\" class=\"sk-toggleable__label sk-toggleable__label-arrow\">GridSearchCV</label><div class=\"sk-toggleable__content\"><pre>GridSearchCV(cv=5,\n",
       "             estimator=Pipeline(steps=[(&#x27;columntransformer&#x27;,\n",
       "                                        ColumnTransformer(transformers=[(&#x27;num&#x27;,\n",
       "                                                                         Pipeline(steps=[(&#x27;imputer&#x27;,\n",
       "                                                                                          SimpleImputer(strategy=&#x27;median&#x27;)),\n",
       "                                                                                         (&#x27;scaler&#x27;,\n",
       "                                                                                          StandardScaler())]),\n",
       "                                                                         [&#x27;age&#x27;,\n",
       "                                                                          &#x27;Medu&#x27;,\n",
       "                                                                          &#x27;Fedu&#x27;,\n",
       "                                                                          &#x27;traveltime&#x27;,\n",
       "                                                                          &#x27;studytime&#x27;,\n",
       "                                                                          &#x27;failures&#x27;,\n",
       "                                                                          &#x27;famrel&#x27;,\n",
       "                                                                          &#x27;freetime&#x27;,\n",
       "                                                                          &#x27;goout&#x27;,\n",
       "                                                                          &#x27;Dalc&#x27;,\n",
       "                                                                          &#x27;Walc&#x27;,\n",
       "                                                                          &#x27;health&#x27;,\n",
       "                                                                          &#x27;absences_G1&#x27;,\n",
       "                                                                          &#x27;absences_G2&#x27;,\n",
       "                                                                          &#x27;absences_G3&#x27;,\n",
       "                                                                          &#x27;G1&#x27;,...\n",
       "                                       (&#x27;randomforestregressor&#x27;,\n",
       "                                        RandomForestRegressor(random_state=42))]),\n",
       "             param_grid=[{&#x27;randomforestregressor__max_features&#x27;: [2, 4, 6, 8],\n",
       "                          &#x27;randomforestregressor__n_estimators&#x27;: [3, 10, 30]},\n",
       "                         {&#x27;randomforestregressor__bootstrap&#x27;: [False],\n",
       "                          &#x27;randomforestregressor__max_features&#x27;: [2, 3, 4],\n",
       "                          &#x27;randomforestregressor__n_estimators&#x27;: [3, 10]}],\n",
       "             return_train_score=True, scoring=&#x27;neg_mean_squared_error&#x27;)</pre></div></div></div><div class=\"sk-parallel\"><div class=\"sk-parallel-item\"><div class=\"sk-item\"><div class=\"sk-label-container\"><div class=\"sk-label sk-toggleable\"><input class=\"sk-toggleable__control sk-hidden--visually\" id=\"sk-estimator-id-13\" type=\"checkbox\" ><label for=\"sk-estimator-id-13\" class=\"sk-toggleable__label sk-toggleable__label-arrow\">estimator: Pipeline</label><div class=\"sk-toggleable__content\"><pre>Pipeline(steps=[(&#x27;columntransformer&#x27;,\n",
       "                 ColumnTransformer(transformers=[(&#x27;num&#x27;,\n",
       "                                                  Pipeline(steps=[(&#x27;imputer&#x27;,\n",
       "                                                                   SimpleImputer(strategy=&#x27;median&#x27;)),\n",
       "                                                                  (&#x27;scaler&#x27;,\n",
       "                                                                   StandardScaler())]),\n",
       "                                                  [&#x27;age&#x27;, &#x27;Medu&#x27;, &#x27;Fedu&#x27;,\n",
       "                                                   &#x27;traveltime&#x27;, &#x27;studytime&#x27;,\n",
       "                                                   &#x27;failures&#x27;, &#x27;famrel&#x27;,\n",
       "                                                   &#x27;freetime&#x27;, &#x27;goout&#x27;, &#x27;Dalc&#x27;,\n",
       "                                                   &#x27;Walc&#x27;, &#x27;health&#x27;,\n",
       "                                                   &#x27;absences_G1&#x27;, &#x27;absences_G2&#x27;,\n",
       "                                                   &#x27;absences_G3&#x27;, &#x27;G1&#x27;, &#x27;G2&#x27;]),\n",
       "                                                 (&#x27;nom&#x27;,\n",
       "                                                  Pipeline(steps=[(&#x27;imputer&#x27;,\n",
       "                                                                   SimpleImputer(strategy=&#x27;most_frequent&#x27;)),\n",
       "                                                                  (&#x27;encoder&#x27;,\n",
       "                                                                   OneHotEncoder(drop=&#x27;first&#x27;))]),\n",
       "                                                  [&#x27;Mjob&#x27;, &#x27;Fjob&#x27;, &#x27;reason&#x27;,\n",
       "                                                   &#x27;guardian&#x27;]),\n",
       "                                                 (&#x27;custom&#x27;,\n",
       "                                                  CustomTransformer(drop_G1_G2=True),\n",
       "                                                  [&#x27;G1&#x27;, &#x27;G2&#x27;, &#x27;absences_G1&#x27;,\n",
       "                                                   &#x27;absences_G2&#x27;,\n",
       "                                                   &#x27;absences_G3&#x27;])])),\n",
       "                (&#x27;randomforestregressor&#x27;,\n",
       "                 RandomForestRegressor(random_state=42))])</pre></div></div></div><div class=\"sk-serial\"><div class=\"sk-item\"><div class=\"sk-serial\"><div class=\"sk-item sk-dashed-wrapped\"><div class=\"sk-label-container\"><div class=\"sk-label sk-toggleable\"><input class=\"sk-toggleable__control sk-hidden--visually\" id=\"sk-estimator-id-14\" type=\"checkbox\" ><label for=\"sk-estimator-id-14\" class=\"sk-toggleable__label sk-toggleable__label-arrow\">columntransformer: ColumnTransformer</label><div class=\"sk-toggleable__content\"><pre>ColumnTransformer(transformers=[(&#x27;num&#x27;,\n",
       "                                 Pipeline(steps=[(&#x27;imputer&#x27;,\n",
       "                                                  SimpleImputer(strategy=&#x27;median&#x27;)),\n",
       "                                                 (&#x27;scaler&#x27;, StandardScaler())]),\n",
       "                                 [&#x27;age&#x27;, &#x27;Medu&#x27;, &#x27;Fedu&#x27;, &#x27;traveltime&#x27;,\n",
       "                                  &#x27;studytime&#x27;, &#x27;failures&#x27;, &#x27;famrel&#x27;, &#x27;freetime&#x27;,\n",
       "                                  &#x27;goout&#x27;, &#x27;Dalc&#x27;, &#x27;Walc&#x27;, &#x27;health&#x27;,\n",
       "                                  &#x27;absences_G1&#x27;, &#x27;absences_G2&#x27;, &#x27;absences_G3&#x27;,\n",
       "                                  &#x27;G1&#x27;, &#x27;G2&#x27;]),\n",
       "                                (&#x27;nom&#x27;,\n",
       "                                 Pipeline(steps=[(&#x27;imputer&#x27;,\n",
       "                                                  SimpleImputer(strategy=&#x27;most_frequent&#x27;)),\n",
       "                                                 (&#x27;encoder&#x27;,\n",
       "                                                  OneHotEncoder(drop=&#x27;first&#x27;))]),\n",
       "                                 [&#x27;Mjob&#x27;, &#x27;Fjob&#x27;, &#x27;reason&#x27;, &#x27;guardian&#x27;]),\n",
       "                                (&#x27;custom&#x27;, CustomTransformer(drop_G1_G2=True),\n",
       "                                 [&#x27;G1&#x27;, &#x27;G2&#x27;, &#x27;absences_G1&#x27;, &#x27;absences_G2&#x27;,\n",
       "                                  &#x27;absences_G3&#x27;])])</pre></div></div></div><div class=\"sk-parallel\"><div class=\"sk-parallel-item\"><div class=\"sk-item\"><div class=\"sk-label-container\"><div class=\"sk-label sk-toggleable\"><input class=\"sk-toggleable__control sk-hidden--visually\" id=\"sk-estimator-id-15\" type=\"checkbox\" ><label for=\"sk-estimator-id-15\" class=\"sk-toggleable__label sk-toggleable__label-arrow\">num</label><div class=\"sk-toggleable__content\"><pre>[&#x27;age&#x27;, &#x27;Medu&#x27;, &#x27;Fedu&#x27;, &#x27;traveltime&#x27;, &#x27;studytime&#x27;, &#x27;failures&#x27;, &#x27;famrel&#x27;, &#x27;freetime&#x27;, &#x27;goout&#x27;, &#x27;Dalc&#x27;, &#x27;Walc&#x27;, &#x27;health&#x27;, &#x27;absences_G1&#x27;, &#x27;absences_G2&#x27;, &#x27;absences_G3&#x27;, &#x27;G1&#x27;, &#x27;G2&#x27;]</pre></div></div></div><div class=\"sk-serial\"><div class=\"sk-item\"><div class=\"sk-serial\"><div class=\"sk-item\"><div class=\"sk-estimator sk-toggleable\"><input class=\"sk-toggleable__control sk-hidden--visually\" id=\"sk-estimator-id-16\" type=\"checkbox\" ><label for=\"sk-estimator-id-16\" class=\"sk-toggleable__label sk-toggleable__label-arrow\">SimpleImputer</label><div class=\"sk-toggleable__content\"><pre>SimpleImputer(strategy=&#x27;median&#x27;)</pre></div></div></div><div class=\"sk-item\"><div class=\"sk-estimator sk-toggleable\"><input class=\"sk-toggleable__control sk-hidden--visually\" id=\"sk-estimator-id-17\" type=\"checkbox\" ><label for=\"sk-estimator-id-17\" class=\"sk-toggleable__label sk-toggleable__label-arrow\">StandardScaler</label><div class=\"sk-toggleable__content\"><pre>StandardScaler()</pre></div></div></div></div></div></div></div></div><div class=\"sk-parallel-item\"><div class=\"sk-item\"><div class=\"sk-label-container\"><div class=\"sk-label sk-toggleable\"><input class=\"sk-toggleable__control sk-hidden--visually\" id=\"sk-estimator-id-18\" type=\"checkbox\" ><label for=\"sk-estimator-id-18\" class=\"sk-toggleable__label sk-toggleable__label-arrow\">nom</label><div class=\"sk-toggleable__content\"><pre>[&#x27;Mjob&#x27;, &#x27;Fjob&#x27;, &#x27;reason&#x27;, &#x27;guardian&#x27;]</pre></div></div></div><div class=\"sk-serial\"><div class=\"sk-item\"><div class=\"sk-serial\"><div class=\"sk-item\"><div class=\"sk-estimator sk-toggleable\"><input class=\"sk-toggleable__control sk-hidden--visually\" id=\"sk-estimator-id-19\" type=\"checkbox\" ><label for=\"sk-estimator-id-19\" class=\"sk-toggleable__label sk-toggleable__label-arrow\">SimpleImputer</label><div class=\"sk-toggleable__content\"><pre>SimpleImputer(strategy=&#x27;most_frequent&#x27;)</pre></div></div></div><div class=\"sk-item\"><div class=\"sk-estimator sk-toggleable\"><input class=\"sk-toggleable__control sk-hidden--visually\" id=\"sk-estimator-id-20\" type=\"checkbox\" ><label for=\"sk-estimator-id-20\" class=\"sk-toggleable__label sk-toggleable__label-arrow\">OneHotEncoder</label><div class=\"sk-toggleable__content\"><pre>OneHotEncoder(drop=&#x27;first&#x27;)</pre></div></div></div></div></div></div></div></div><div class=\"sk-parallel-item\"><div class=\"sk-item\"><div class=\"sk-label-container\"><div class=\"sk-label sk-toggleable\"><input class=\"sk-toggleable__control sk-hidden--visually\" id=\"sk-estimator-id-21\" type=\"checkbox\" ><label for=\"sk-estimator-id-21\" class=\"sk-toggleable__label sk-toggleable__label-arrow\">custom</label><div class=\"sk-toggleable__content\"><pre>[&#x27;G1&#x27;, &#x27;G2&#x27;, &#x27;absences_G1&#x27;, &#x27;absences_G2&#x27;, &#x27;absences_G3&#x27;]</pre></div></div></div><div class=\"sk-serial\"><div class=\"sk-item\"><div class=\"sk-estimator sk-toggleable\"><input class=\"sk-toggleable__control sk-hidden--visually\" id=\"sk-estimator-id-22\" type=\"checkbox\" ><label for=\"sk-estimator-id-22\" class=\"sk-toggleable__label sk-toggleable__label-arrow\">CustomTransformer</label><div class=\"sk-toggleable__content\"><pre>CustomTransformer(drop_G1_G2=True)</pre></div></div></div></div></div></div></div></div><div class=\"sk-item\"><div class=\"sk-estimator sk-toggleable\"><input class=\"sk-toggleable__control sk-hidden--visually\" id=\"sk-estimator-id-23\" type=\"checkbox\" ><label for=\"sk-estimator-id-23\" class=\"sk-toggleable__label sk-toggleable__label-arrow\">RandomForestRegressor</label><div class=\"sk-toggleable__content\"><pre>RandomForestRegressor(random_state=42)</pre></div></div></div></div></div></div></div></div></div></div></div></div>"
      ],
      "text/plain": [
       "GridSearchCV(cv=5,\n",
       "             estimator=Pipeline(steps=[('columntransformer',\n",
       "                                        ColumnTransformer(transformers=[('num',\n",
       "                                                                         Pipeline(steps=[('imputer',\n",
       "                                                                                          SimpleImputer(strategy='median')),\n",
       "                                                                                         ('scaler',\n",
       "                                                                                          StandardScaler())]),\n",
       "                                                                         ['age',\n",
       "                                                                          'Medu',\n",
       "                                                                          'Fedu',\n",
       "                                                                          'traveltime',\n",
       "                                                                          'studytime',\n",
       "                                                                          'failures',\n",
       "                                                                          'famrel',\n",
       "                                                                          'freetime',\n",
       "                                                                          'goout',\n",
       "                                                                          'Dalc',\n",
       "                                                                          'Walc',\n",
       "                                                                          'health',\n",
       "                                                                          'absences_G1',\n",
       "                                                                          'absences_G2',\n",
       "                                                                          'absences_G3',\n",
       "                                                                          'G1',...\n",
       "                                       ('randomforestregressor',\n",
       "                                        RandomForestRegressor(random_state=42))]),\n",
       "             param_grid=[{'randomforestregressor__max_features': [2, 4, 6, 8],\n",
       "                          'randomforestregressor__n_estimators': [3, 10, 30]},\n",
       "                         {'randomforestregressor__bootstrap': [False],\n",
       "                          'randomforestregressor__max_features': [2, 3, 4],\n",
       "                          'randomforestregressor__n_estimators': [3, 10]}],\n",
       "             return_train_score=True, scoring='neg_mean_squared_error')"
      ]
     },
     "execution_count": 73,
     "metadata": {},
     "output_type": "execute_result"
    }
   ],
   "source": [
    "# Ran the grid search\n",
    "grid_search.fit(X_train, y_train)"
   ]
  },
  {
   "cell_type": "code",
   "execution_count": 74,
   "id": "39347f36",
   "metadata": {},
   "outputs": [
    {
     "data": {
      "text/plain": [
       "{'randomforestregressor__max_features': 8,\n",
       " 'randomforestregressor__n_estimators': 30}"
      ]
     },
     "execution_count": 74,
     "metadata": {},
     "output_type": "execute_result"
    }
   ],
   "source": [
    "# Accessed the best hyperparameters determined by the grid search\n",
    "grid_search.best_params_"
   ]
  },
  {
   "cell_type": "code",
   "execution_count": 75,
   "id": "b283d32c",
   "metadata": {},
   "outputs": [
    {
     "data": {
      "text/html": [
       "<style>#sk-container-id-13 {color: black;}#sk-container-id-13 pre{padding: 0;}#sk-container-id-13 div.sk-toggleable {background-color: white;}#sk-container-id-13 label.sk-toggleable__label {cursor: pointer;display: block;width: 100%;margin-bottom: 0;padding: 0.3em;box-sizing: border-box;text-align: center;}#sk-container-id-13 label.sk-toggleable__label-arrow:before {content: \"▸\";float: left;margin-right: 0.25em;color: #696969;}#sk-container-id-13 label.sk-toggleable__label-arrow:hover:before {color: black;}#sk-container-id-13 div.sk-estimator:hover label.sk-toggleable__label-arrow:before {color: black;}#sk-container-id-13 div.sk-toggleable__content {max-height: 0;max-width: 0;overflow: hidden;text-align: left;background-color: #f0f8ff;}#sk-container-id-13 div.sk-toggleable__content pre {margin: 0.2em;color: black;border-radius: 0.25em;background-color: #f0f8ff;}#sk-container-id-13 input.sk-toggleable__control:checked~div.sk-toggleable__content {max-height: 200px;max-width: 100%;overflow: auto;}#sk-container-id-13 input.sk-toggleable__control:checked~label.sk-toggleable__label-arrow:before {content: \"▾\";}#sk-container-id-13 div.sk-estimator input.sk-toggleable__control:checked~label.sk-toggleable__label {background-color: #d4ebff;}#sk-container-id-13 div.sk-label input.sk-toggleable__control:checked~label.sk-toggleable__label {background-color: #d4ebff;}#sk-container-id-13 input.sk-hidden--visually {border: 0;clip: rect(1px 1px 1px 1px);clip: rect(1px, 1px, 1px, 1px);height: 1px;margin: -1px;overflow: hidden;padding: 0;position: absolute;width: 1px;}#sk-container-id-13 div.sk-estimator {font-family: monospace;background-color: #f0f8ff;border: 1px dotted black;border-radius: 0.25em;box-sizing: border-box;margin-bottom: 0.5em;}#sk-container-id-13 div.sk-estimator:hover {background-color: #d4ebff;}#sk-container-id-13 div.sk-parallel-item::after {content: \"\";width: 100%;border-bottom: 1px solid gray;flex-grow: 1;}#sk-container-id-13 div.sk-label:hover label.sk-toggleable__label {background-color: #d4ebff;}#sk-container-id-13 div.sk-serial::before {content: \"\";position: absolute;border-left: 1px solid gray;box-sizing: border-box;top: 0;bottom: 0;left: 50%;z-index: 0;}#sk-container-id-13 div.sk-serial {display: flex;flex-direction: column;align-items: center;background-color: white;padding-right: 0.2em;padding-left: 0.2em;position: relative;}#sk-container-id-13 div.sk-item {position: relative;z-index: 1;}#sk-container-id-13 div.sk-parallel {display: flex;align-items: stretch;justify-content: center;background-color: white;position: relative;}#sk-container-id-13 div.sk-item::before, #sk-container-id-13 div.sk-parallel-item::before {content: \"\";position: absolute;border-left: 1px solid gray;box-sizing: border-box;top: 0;bottom: 0;left: 50%;z-index: -1;}#sk-container-id-13 div.sk-parallel-item {display: flex;flex-direction: column;z-index: 1;position: relative;background-color: white;}#sk-container-id-13 div.sk-parallel-item:first-child::after {align-self: flex-end;width: 50%;}#sk-container-id-13 div.sk-parallel-item:last-child::after {align-self: flex-start;width: 50%;}#sk-container-id-13 div.sk-parallel-item:only-child::after {width: 0;}#sk-container-id-13 div.sk-dashed-wrapped {border: 1px dashed gray;margin: 0 0.4em 0.5em 0.4em;box-sizing: border-box;padding-bottom: 0.4em;background-color: white;}#sk-container-id-13 div.sk-label label {font-family: monospace;font-weight: bold;display: inline-block;line-height: 1.2em;}#sk-container-id-13 div.sk-label-container {text-align: center;}#sk-container-id-13 div.sk-container {/* jupyter's `normalize.less` sets `[hidden] { display: none; }` but bootstrap.min.css set `[hidden] { display: none !important; }` so we also need the `!important` here to be able to override the default hidden behavior on the sphinx rendered scikit-learn.org. See: https://github.com/scikit-learn/scikit-learn/issues/21755 */display: inline-block !important;position: relative;}#sk-container-id-13 div.sk-text-repr-fallback {display: none;}</style><div id=\"sk-container-id-13\" class=\"sk-top-container\"><div class=\"sk-text-repr-fallback\"><pre>Pipeline(steps=[(&#x27;columntransformer&#x27;,\n",
       "                 ColumnTransformer(transformers=[(&#x27;num&#x27;,\n",
       "                                                  Pipeline(steps=[(&#x27;imputer&#x27;,\n",
       "                                                                   SimpleImputer(strategy=&#x27;median&#x27;)),\n",
       "                                                                  (&#x27;scaler&#x27;,\n",
       "                                                                   StandardScaler())]),\n",
       "                                                  [&#x27;age&#x27;, &#x27;Medu&#x27;, &#x27;Fedu&#x27;,\n",
       "                                                   &#x27;traveltime&#x27;, &#x27;studytime&#x27;,\n",
       "                                                   &#x27;failures&#x27;, &#x27;famrel&#x27;,\n",
       "                                                   &#x27;freetime&#x27;, &#x27;goout&#x27;, &#x27;Dalc&#x27;,\n",
       "                                                   &#x27;Walc&#x27;, &#x27;health&#x27;,\n",
       "                                                   &#x27;absences_G1&#x27;, &#x27;absences_G2&#x27;,\n",
       "                                                   &#x27;absences_G3&#x27;, &#x27;G1&#x27;, &#x27;G2&#x27;]),\n",
       "                                                 (&#x27;nom&#x27;,\n",
       "                                                  Pipeline(steps=[(&#x27;imputer&#x27;,\n",
       "                                                                   SimpleImputer(strategy=&#x27;most_frequent&#x27;)),\n",
       "                                                                  (&#x27;encoder&#x27;,\n",
       "                                                                   OneHotEncoder(drop=&#x27;first&#x27;))]),\n",
       "                                                  [&#x27;Mjob&#x27;, &#x27;Fjob&#x27;, &#x27;reason&#x27;,\n",
       "                                                   &#x27;guardian&#x27;]),\n",
       "                                                 (&#x27;custom&#x27;,\n",
       "                                                  CustomTransformer(drop_G1_G2=True),\n",
       "                                                  [&#x27;G1&#x27;, &#x27;G2&#x27;, &#x27;absences_G1&#x27;,\n",
       "                                                   &#x27;absences_G2&#x27;,\n",
       "                                                   &#x27;absences_G3&#x27;])])),\n",
       "                (&#x27;randomforestregressor&#x27;,\n",
       "                 RandomForestRegressor(max_features=8, n_estimators=30,\n",
       "                                       random_state=42))])</pre><b>In a Jupyter environment, please rerun this cell to show the HTML representation or trust the notebook. <br />On GitHub, the HTML representation is unable to render, please try loading this page with nbviewer.org.</b></div><div class=\"sk-container\" hidden><div class=\"sk-item sk-dashed-wrapped\"><div class=\"sk-label-container\"><div class=\"sk-label sk-toggleable\"><input class=\"sk-toggleable__control sk-hidden--visually\" id=\"sk-estimator-id-24\" type=\"checkbox\" ><label for=\"sk-estimator-id-24\" class=\"sk-toggleable__label sk-toggleable__label-arrow\">Pipeline</label><div class=\"sk-toggleable__content\"><pre>Pipeline(steps=[(&#x27;columntransformer&#x27;,\n",
       "                 ColumnTransformer(transformers=[(&#x27;num&#x27;,\n",
       "                                                  Pipeline(steps=[(&#x27;imputer&#x27;,\n",
       "                                                                   SimpleImputer(strategy=&#x27;median&#x27;)),\n",
       "                                                                  (&#x27;scaler&#x27;,\n",
       "                                                                   StandardScaler())]),\n",
       "                                                  [&#x27;age&#x27;, &#x27;Medu&#x27;, &#x27;Fedu&#x27;,\n",
       "                                                   &#x27;traveltime&#x27;, &#x27;studytime&#x27;,\n",
       "                                                   &#x27;failures&#x27;, &#x27;famrel&#x27;,\n",
       "                                                   &#x27;freetime&#x27;, &#x27;goout&#x27;, &#x27;Dalc&#x27;,\n",
       "                                                   &#x27;Walc&#x27;, &#x27;health&#x27;,\n",
       "                                                   &#x27;absences_G1&#x27;, &#x27;absences_G2&#x27;,\n",
       "                                                   &#x27;absences_G3&#x27;, &#x27;G1&#x27;, &#x27;G2&#x27;]),\n",
       "                                                 (&#x27;nom&#x27;,\n",
       "                                                  Pipeline(steps=[(&#x27;imputer&#x27;,\n",
       "                                                                   SimpleImputer(strategy=&#x27;most_frequent&#x27;)),\n",
       "                                                                  (&#x27;encoder&#x27;,\n",
       "                                                                   OneHotEncoder(drop=&#x27;first&#x27;))]),\n",
       "                                                  [&#x27;Mjob&#x27;, &#x27;Fjob&#x27;, &#x27;reason&#x27;,\n",
       "                                                   &#x27;guardian&#x27;]),\n",
       "                                                 (&#x27;custom&#x27;,\n",
       "                                                  CustomTransformer(drop_G1_G2=True),\n",
       "                                                  [&#x27;G1&#x27;, &#x27;G2&#x27;, &#x27;absences_G1&#x27;,\n",
       "                                                   &#x27;absences_G2&#x27;,\n",
       "                                                   &#x27;absences_G3&#x27;])])),\n",
       "                (&#x27;randomforestregressor&#x27;,\n",
       "                 RandomForestRegressor(max_features=8, n_estimators=30,\n",
       "                                       random_state=42))])</pre></div></div></div><div class=\"sk-serial\"><div class=\"sk-item sk-dashed-wrapped\"><div class=\"sk-label-container\"><div class=\"sk-label sk-toggleable\"><input class=\"sk-toggleable__control sk-hidden--visually\" id=\"sk-estimator-id-25\" type=\"checkbox\" ><label for=\"sk-estimator-id-25\" class=\"sk-toggleable__label sk-toggleable__label-arrow\">columntransformer: ColumnTransformer</label><div class=\"sk-toggleable__content\"><pre>ColumnTransformer(transformers=[(&#x27;num&#x27;,\n",
       "                                 Pipeline(steps=[(&#x27;imputer&#x27;,\n",
       "                                                  SimpleImputer(strategy=&#x27;median&#x27;)),\n",
       "                                                 (&#x27;scaler&#x27;, StandardScaler())]),\n",
       "                                 [&#x27;age&#x27;, &#x27;Medu&#x27;, &#x27;Fedu&#x27;, &#x27;traveltime&#x27;,\n",
       "                                  &#x27;studytime&#x27;, &#x27;failures&#x27;, &#x27;famrel&#x27;, &#x27;freetime&#x27;,\n",
       "                                  &#x27;goout&#x27;, &#x27;Dalc&#x27;, &#x27;Walc&#x27;, &#x27;health&#x27;,\n",
       "                                  &#x27;absences_G1&#x27;, &#x27;absences_G2&#x27;, &#x27;absences_G3&#x27;,\n",
       "                                  &#x27;G1&#x27;, &#x27;G2&#x27;]),\n",
       "                                (&#x27;nom&#x27;,\n",
       "                                 Pipeline(steps=[(&#x27;imputer&#x27;,\n",
       "                                                  SimpleImputer(strategy=&#x27;most_frequent&#x27;)),\n",
       "                                                 (&#x27;encoder&#x27;,\n",
       "                                                  OneHotEncoder(drop=&#x27;first&#x27;))]),\n",
       "                                 [&#x27;Mjob&#x27;, &#x27;Fjob&#x27;, &#x27;reason&#x27;, &#x27;guardian&#x27;]),\n",
       "                                (&#x27;custom&#x27;, CustomTransformer(drop_G1_G2=True),\n",
       "                                 [&#x27;G1&#x27;, &#x27;G2&#x27;, &#x27;absences_G1&#x27;, &#x27;absences_G2&#x27;,\n",
       "                                  &#x27;absences_G3&#x27;])])</pre></div></div></div><div class=\"sk-parallel\"><div class=\"sk-parallel-item\"><div class=\"sk-item\"><div class=\"sk-label-container\"><div class=\"sk-label sk-toggleable\"><input class=\"sk-toggleable__control sk-hidden--visually\" id=\"sk-estimator-id-26\" type=\"checkbox\" ><label for=\"sk-estimator-id-26\" class=\"sk-toggleable__label sk-toggleable__label-arrow\">num</label><div class=\"sk-toggleable__content\"><pre>[&#x27;age&#x27;, &#x27;Medu&#x27;, &#x27;Fedu&#x27;, &#x27;traveltime&#x27;, &#x27;studytime&#x27;, &#x27;failures&#x27;, &#x27;famrel&#x27;, &#x27;freetime&#x27;, &#x27;goout&#x27;, &#x27;Dalc&#x27;, &#x27;Walc&#x27;, &#x27;health&#x27;, &#x27;absences_G1&#x27;, &#x27;absences_G2&#x27;, &#x27;absences_G3&#x27;, &#x27;G1&#x27;, &#x27;G2&#x27;]</pre></div></div></div><div class=\"sk-serial\"><div class=\"sk-item\"><div class=\"sk-serial\"><div class=\"sk-item\"><div class=\"sk-estimator sk-toggleable\"><input class=\"sk-toggleable__control sk-hidden--visually\" id=\"sk-estimator-id-27\" type=\"checkbox\" ><label for=\"sk-estimator-id-27\" class=\"sk-toggleable__label sk-toggleable__label-arrow\">SimpleImputer</label><div class=\"sk-toggleable__content\"><pre>SimpleImputer(strategy=&#x27;median&#x27;)</pre></div></div></div><div class=\"sk-item\"><div class=\"sk-estimator sk-toggleable\"><input class=\"sk-toggleable__control sk-hidden--visually\" id=\"sk-estimator-id-28\" type=\"checkbox\" ><label for=\"sk-estimator-id-28\" class=\"sk-toggleable__label sk-toggleable__label-arrow\">StandardScaler</label><div class=\"sk-toggleable__content\"><pre>StandardScaler()</pre></div></div></div></div></div></div></div></div><div class=\"sk-parallel-item\"><div class=\"sk-item\"><div class=\"sk-label-container\"><div class=\"sk-label sk-toggleable\"><input class=\"sk-toggleable__control sk-hidden--visually\" id=\"sk-estimator-id-29\" type=\"checkbox\" ><label for=\"sk-estimator-id-29\" class=\"sk-toggleable__label sk-toggleable__label-arrow\">nom</label><div class=\"sk-toggleable__content\"><pre>[&#x27;Mjob&#x27;, &#x27;Fjob&#x27;, &#x27;reason&#x27;, &#x27;guardian&#x27;]</pre></div></div></div><div class=\"sk-serial\"><div class=\"sk-item\"><div class=\"sk-serial\"><div class=\"sk-item\"><div class=\"sk-estimator sk-toggleable\"><input class=\"sk-toggleable__control sk-hidden--visually\" id=\"sk-estimator-id-30\" type=\"checkbox\" ><label for=\"sk-estimator-id-30\" class=\"sk-toggleable__label sk-toggleable__label-arrow\">SimpleImputer</label><div class=\"sk-toggleable__content\"><pre>SimpleImputer(strategy=&#x27;most_frequent&#x27;)</pre></div></div></div><div class=\"sk-item\"><div class=\"sk-estimator sk-toggleable\"><input class=\"sk-toggleable__control sk-hidden--visually\" id=\"sk-estimator-id-31\" type=\"checkbox\" ><label for=\"sk-estimator-id-31\" class=\"sk-toggleable__label sk-toggleable__label-arrow\">OneHotEncoder</label><div class=\"sk-toggleable__content\"><pre>OneHotEncoder(drop=&#x27;first&#x27;)</pre></div></div></div></div></div></div></div></div><div class=\"sk-parallel-item\"><div class=\"sk-item\"><div class=\"sk-label-container\"><div class=\"sk-label sk-toggleable\"><input class=\"sk-toggleable__control sk-hidden--visually\" id=\"sk-estimator-id-32\" type=\"checkbox\" ><label for=\"sk-estimator-id-32\" class=\"sk-toggleable__label sk-toggleable__label-arrow\">custom</label><div class=\"sk-toggleable__content\"><pre>[&#x27;G1&#x27;, &#x27;G2&#x27;, &#x27;absences_G1&#x27;, &#x27;absences_G2&#x27;, &#x27;absences_G3&#x27;]</pre></div></div></div><div class=\"sk-serial\"><div class=\"sk-item\"><div class=\"sk-estimator sk-toggleable\"><input class=\"sk-toggleable__control sk-hidden--visually\" id=\"sk-estimator-id-33\" type=\"checkbox\" ><label for=\"sk-estimator-id-33\" class=\"sk-toggleable__label sk-toggleable__label-arrow\">CustomTransformer</label><div class=\"sk-toggleable__content\"><pre>CustomTransformer(drop_G1_G2=True)</pre></div></div></div></div></div></div></div></div><div class=\"sk-item\"><div class=\"sk-estimator sk-toggleable\"><input class=\"sk-toggleable__control sk-hidden--visually\" id=\"sk-estimator-id-34\" type=\"checkbox\" ><label for=\"sk-estimator-id-34\" class=\"sk-toggleable__label sk-toggleable__label-arrow\">RandomForestRegressor</label><div class=\"sk-toggleable__content\"><pre>RandomForestRegressor(max_features=8, n_estimators=30, random_state=42)</pre></div></div></div></div></div></div></div>"
      ],
      "text/plain": [
       "Pipeline(steps=[('columntransformer',\n",
       "                 ColumnTransformer(transformers=[('num',\n",
       "                                                  Pipeline(steps=[('imputer',\n",
       "                                                                   SimpleImputer(strategy='median')),\n",
       "                                                                  ('scaler',\n",
       "                                                                   StandardScaler())]),\n",
       "                                                  ['age', 'Medu', 'Fedu',\n",
       "                                                   'traveltime', 'studytime',\n",
       "                                                   'failures', 'famrel',\n",
       "                                                   'freetime', 'goout', 'Dalc',\n",
       "                                                   'Walc', 'health',\n",
       "                                                   'absences_G1', 'absences_G2',\n",
       "                                                   'absences_G3', 'G1', 'G2']),\n",
       "                                                 ('nom',\n",
       "                                                  Pipeline(steps=[('imputer',\n",
       "                                                                   SimpleImputer(strategy='most_frequent')),\n",
       "                                                                  ('encoder',\n",
       "                                                                   OneHotEncoder(drop='first'))]),\n",
       "                                                  ['Mjob', 'Fjob', 'reason',\n",
       "                                                   'guardian']),\n",
       "                                                 ('custom',\n",
       "                                                  CustomTransformer(drop_G1_G2=True),\n",
       "                                                  ['G1', 'G2', 'absences_G1',\n",
       "                                                   'absences_G2',\n",
       "                                                   'absences_G3'])])),\n",
       "                ('randomforestregressor',\n",
       "                 RandomForestRegressor(max_features=8, n_estimators=30,\n",
       "                                       random_state=42))])"
      ]
     },
     "execution_count": 75,
     "metadata": {},
     "output_type": "execute_result"
    }
   ],
   "source": [
    "# Identified the best model from the grid search\n",
    "best_model=grid_search.best_estimator_\n",
    "\n",
    "# Displayed the best model\n",
    "best_model "
   ]
  },
  {
   "cell_type": "code",
   "execution_count": 76,
   "id": "7e305595",
   "metadata": {
    "scrolled": false
   },
   "outputs": [
    {
     "data": {
      "text/html": [
       "<style>#sk-container-id-14 {color: black;}#sk-container-id-14 pre{padding: 0;}#sk-container-id-14 div.sk-toggleable {background-color: white;}#sk-container-id-14 label.sk-toggleable__label {cursor: pointer;display: block;width: 100%;margin-bottom: 0;padding: 0.3em;box-sizing: border-box;text-align: center;}#sk-container-id-14 label.sk-toggleable__label-arrow:before {content: \"▸\";float: left;margin-right: 0.25em;color: #696969;}#sk-container-id-14 label.sk-toggleable__label-arrow:hover:before {color: black;}#sk-container-id-14 div.sk-estimator:hover label.sk-toggleable__label-arrow:before {color: black;}#sk-container-id-14 div.sk-toggleable__content {max-height: 0;max-width: 0;overflow: hidden;text-align: left;background-color: #f0f8ff;}#sk-container-id-14 div.sk-toggleable__content pre {margin: 0.2em;color: black;border-radius: 0.25em;background-color: #f0f8ff;}#sk-container-id-14 input.sk-toggleable__control:checked~div.sk-toggleable__content {max-height: 200px;max-width: 100%;overflow: auto;}#sk-container-id-14 input.sk-toggleable__control:checked~label.sk-toggleable__label-arrow:before {content: \"▾\";}#sk-container-id-14 div.sk-estimator input.sk-toggleable__control:checked~label.sk-toggleable__label {background-color: #d4ebff;}#sk-container-id-14 div.sk-label input.sk-toggleable__control:checked~label.sk-toggleable__label {background-color: #d4ebff;}#sk-container-id-14 input.sk-hidden--visually {border: 0;clip: rect(1px 1px 1px 1px);clip: rect(1px, 1px, 1px, 1px);height: 1px;margin: -1px;overflow: hidden;padding: 0;position: absolute;width: 1px;}#sk-container-id-14 div.sk-estimator {font-family: monospace;background-color: #f0f8ff;border: 1px dotted black;border-radius: 0.25em;box-sizing: border-box;margin-bottom: 0.5em;}#sk-container-id-14 div.sk-estimator:hover {background-color: #d4ebff;}#sk-container-id-14 div.sk-parallel-item::after {content: \"\";width: 100%;border-bottom: 1px solid gray;flex-grow: 1;}#sk-container-id-14 div.sk-label:hover label.sk-toggleable__label {background-color: #d4ebff;}#sk-container-id-14 div.sk-serial::before {content: \"\";position: absolute;border-left: 1px solid gray;box-sizing: border-box;top: 0;bottom: 0;left: 50%;z-index: 0;}#sk-container-id-14 div.sk-serial {display: flex;flex-direction: column;align-items: center;background-color: white;padding-right: 0.2em;padding-left: 0.2em;position: relative;}#sk-container-id-14 div.sk-item {position: relative;z-index: 1;}#sk-container-id-14 div.sk-parallel {display: flex;align-items: stretch;justify-content: center;background-color: white;position: relative;}#sk-container-id-14 div.sk-item::before, #sk-container-id-14 div.sk-parallel-item::before {content: \"\";position: absolute;border-left: 1px solid gray;box-sizing: border-box;top: 0;bottom: 0;left: 50%;z-index: -1;}#sk-container-id-14 div.sk-parallel-item {display: flex;flex-direction: column;z-index: 1;position: relative;background-color: white;}#sk-container-id-14 div.sk-parallel-item:first-child::after {align-self: flex-end;width: 50%;}#sk-container-id-14 div.sk-parallel-item:last-child::after {align-self: flex-start;width: 50%;}#sk-container-id-14 div.sk-parallel-item:only-child::after {width: 0;}#sk-container-id-14 div.sk-dashed-wrapped {border: 1px dashed gray;margin: 0 0.4em 0.5em 0.4em;box-sizing: border-box;padding-bottom: 0.4em;background-color: white;}#sk-container-id-14 div.sk-label label {font-family: monospace;font-weight: bold;display: inline-block;line-height: 1.2em;}#sk-container-id-14 div.sk-label-container {text-align: center;}#sk-container-id-14 div.sk-container {/* jupyter's `normalize.less` sets `[hidden] { display: none; }` but bootstrap.min.css set `[hidden] { display: none !important; }` so we also need the `!important` here to be able to override the default hidden behavior on the sphinx rendered scikit-learn.org. See: https://github.com/scikit-learn/scikit-learn/issues/21755 */display: inline-block !important;position: relative;}#sk-container-id-14 div.sk-text-repr-fallback {display: none;}</style><div id=\"sk-container-id-14\" class=\"sk-top-container\"><div class=\"sk-text-repr-fallback\"><pre>Pipeline(steps=[(&#x27;columntransformer&#x27;,\n",
       "                 ColumnTransformer(transformers=[(&#x27;num&#x27;,\n",
       "                                                  Pipeline(steps=[(&#x27;imputer&#x27;,\n",
       "                                                                   SimpleImputer(strategy=&#x27;median&#x27;)),\n",
       "                                                                  (&#x27;scaler&#x27;,\n",
       "                                                                   StandardScaler())]),\n",
       "                                                  [&#x27;age&#x27;, &#x27;Medu&#x27;, &#x27;Fedu&#x27;,\n",
       "                                                   &#x27;traveltime&#x27;, &#x27;studytime&#x27;,\n",
       "                                                   &#x27;failures&#x27;, &#x27;famrel&#x27;,\n",
       "                                                   &#x27;freetime&#x27;, &#x27;goout&#x27;, &#x27;Dalc&#x27;,\n",
       "                                                   &#x27;Walc&#x27;, &#x27;health&#x27;,\n",
       "                                                   &#x27;absences_G1&#x27;, &#x27;absences_G2&#x27;,\n",
       "                                                   &#x27;absences_G3&#x27;, &#x27;G1&#x27;, &#x27;G2&#x27;]),\n",
       "                                                 (&#x27;nom&#x27;,\n",
       "                                                  Pipeline(steps=[(&#x27;imputer&#x27;,\n",
       "                                                                   SimpleImputer(strategy=&#x27;most_frequent&#x27;)),\n",
       "                                                                  (&#x27;encoder&#x27;,\n",
       "                                                                   OneHotEncoder(drop=&#x27;first&#x27;))]),\n",
       "                                                  [&#x27;Mjob&#x27;, &#x27;Fjob&#x27;, &#x27;reason&#x27;,\n",
       "                                                   &#x27;guardian&#x27;]),\n",
       "                                                 (&#x27;custom&#x27;,\n",
       "                                                  CustomTransformer(drop_G1_G2=True),\n",
       "                                                  [&#x27;G1&#x27;, &#x27;G2&#x27;, &#x27;absences_G1&#x27;,\n",
       "                                                   &#x27;absences_G2&#x27;,\n",
       "                                                   &#x27;absences_G3&#x27;])])),\n",
       "                (&#x27;randomforestregressor&#x27;,\n",
       "                 RandomForestRegressor(max_features=8, n_estimators=30,\n",
       "                                       random_state=42))])</pre><b>In a Jupyter environment, please rerun this cell to show the HTML representation or trust the notebook. <br />On GitHub, the HTML representation is unable to render, please try loading this page with nbviewer.org.</b></div><div class=\"sk-container\" hidden><div class=\"sk-item sk-dashed-wrapped\"><div class=\"sk-label-container\"><div class=\"sk-label sk-toggleable\"><input class=\"sk-toggleable__control sk-hidden--visually\" id=\"sk-estimator-id-35\" type=\"checkbox\" ><label for=\"sk-estimator-id-35\" class=\"sk-toggleable__label sk-toggleable__label-arrow\">Pipeline</label><div class=\"sk-toggleable__content\"><pre>Pipeline(steps=[(&#x27;columntransformer&#x27;,\n",
       "                 ColumnTransformer(transformers=[(&#x27;num&#x27;,\n",
       "                                                  Pipeline(steps=[(&#x27;imputer&#x27;,\n",
       "                                                                   SimpleImputer(strategy=&#x27;median&#x27;)),\n",
       "                                                                  (&#x27;scaler&#x27;,\n",
       "                                                                   StandardScaler())]),\n",
       "                                                  [&#x27;age&#x27;, &#x27;Medu&#x27;, &#x27;Fedu&#x27;,\n",
       "                                                   &#x27;traveltime&#x27;, &#x27;studytime&#x27;,\n",
       "                                                   &#x27;failures&#x27;, &#x27;famrel&#x27;,\n",
       "                                                   &#x27;freetime&#x27;, &#x27;goout&#x27;, &#x27;Dalc&#x27;,\n",
       "                                                   &#x27;Walc&#x27;, &#x27;health&#x27;,\n",
       "                                                   &#x27;absences_G1&#x27;, &#x27;absences_G2&#x27;,\n",
       "                                                   &#x27;absences_G3&#x27;, &#x27;G1&#x27;, &#x27;G2&#x27;]),\n",
       "                                                 (&#x27;nom&#x27;,\n",
       "                                                  Pipeline(steps=[(&#x27;imputer&#x27;,\n",
       "                                                                   SimpleImputer(strategy=&#x27;most_frequent&#x27;)),\n",
       "                                                                  (&#x27;encoder&#x27;,\n",
       "                                                                   OneHotEncoder(drop=&#x27;first&#x27;))]),\n",
       "                                                  [&#x27;Mjob&#x27;, &#x27;Fjob&#x27;, &#x27;reason&#x27;,\n",
       "                                                   &#x27;guardian&#x27;]),\n",
       "                                                 (&#x27;custom&#x27;,\n",
       "                                                  CustomTransformer(drop_G1_G2=True),\n",
       "                                                  [&#x27;G1&#x27;, &#x27;G2&#x27;, &#x27;absences_G1&#x27;,\n",
       "                                                   &#x27;absences_G2&#x27;,\n",
       "                                                   &#x27;absences_G3&#x27;])])),\n",
       "                (&#x27;randomforestregressor&#x27;,\n",
       "                 RandomForestRegressor(max_features=8, n_estimators=30,\n",
       "                                       random_state=42))])</pre></div></div></div><div class=\"sk-serial\"><div class=\"sk-item sk-dashed-wrapped\"><div class=\"sk-label-container\"><div class=\"sk-label sk-toggleable\"><input class=\"sk-toggleable__control sk-hidden--visually\" id=\"sk-estimator-id-36\" type=\"checkbox\" ><label for=\"sk-estimator-id-36\" class=\"sk-toggleable__label sk-toggleable__label-arrow\">columntransformer: ColumnTransformer</label><div class=\"sk-toggleable__content\"><pre>ColumnTransformer(transformers=[(&#x27;num&#x27;,\n",
       "                                 Pipeline(steps=[(&#x27;imputer&#x27;,\n",
       "                                                  SimpleImputer(strategy=&#x27;median&#x27;)),\n",
       "                                                 (&#x27;scaler&#x27;, StandardScaler())]),\n",
       "                                 [&#x27;age&#x27;, &#x27;Medu&#x27;, &#x27;Fedu&#x27;, &#x27;traveltime&#x27;,\n",
       "                                  &#x27;studytime&#x27;, &#x27;failures&#x27;, &#x27;famrel&#x27;, &#x27;freetime&#x27;,\n",
       "                                  &#x27;goout&#x27;, &#x27;Dalc&#x27;, &#x27;Walc&#x27;, &#x27;health&#x27;,\n",
       "                                  &#x27;absences_G1&#x27;, &#x27;absences_G2&#x27;, &#x27;absences_G3&#x27;,\n",
       "                                  &#x27;G1&#x27;, &#x27;G2&#x27;]),\n",
       "                                (&#x27;nom&#x27;,\n",
       "                                 Pipeline(steps=[(&#x27;imputer&#x27;,\n",
       "                                                  SimpleImputer(strategy=&#x27;most_frequent&#x27;)),\n",
       "                                                 (&#x27;encoder&#x27;,\n",
       "                                                  OneHotEncoder(drop=&#x27;first&#x27;))]),\n",
       "                                 [&#x27;Mjob&#x27;, &#x27;Fjob&#x27;, &#x27;reason&#x27;, &#x27;guardian&#x27;]),\n",
       "                                (&#x27;custom&#x27;, CustomTransformer(drop_G1_G2=True),\n",
       "                                 [&#x27;G1&#x27;, &#x27;G2&#x27;, &#x27;absences_G1&#x27;, &#x27;absences_G2&#x27;,\n",
       "                                  &#x27;absences_G3&#x27;])])</pre></div></div></div><div class=\"sk-parallel\"><div class=\"sk-parallel-item\"><div class=\"sk-item\"><div class=\"sk-label-container\"><div class=\"sk-label sk-toggleable\"><input class=\"sk-toggleable__control sk-hidden--visually\" id=\"sk-estimator-id-37\" type=\"checkbox\" ><label for=\"sk-estimator-id-37\" class=\"sk-toggleable__label sk-toggleable__label-arrow\">num</label><div class=\"sk-toggleable__content\"><pre>[&#x27;age&#x27;, &#x27;Medu&#x27;, &#x27;Fedu&#x27;, &#x27;traveltime&#x27;, &#x27;studytime&#x27;, &#x27;failures&#x27;, &#x27;famrel&#x27;, &#x27;freetime&#x27;, &#x27;goout&#x27;, &#x27;Dalc&#x27;, &#x27;Walc&#x27;, &#x27;health&#x27;, &#x27;absences_G1&#x27;, &#x27;absences_G2&#x27;, &#x27;absences_G3&#x27;, &#x27;G1&#x27;, &#x27;G2&#x27;]</pre></div></div></div><div class=\"sk-serial\"><div class=\"sk-item\"><div class=\"sk-serial\"><div class=\"sk-item\"><div class=\"sk-estimator sk-toggleable\"><input class=\"sk-toggleable__control sk-hidden--visually\" id=\"sk-estimator-id-38\" type=\"checkbox\" ><label for=\"sk-estimator-id-38\" class=\"sk-toggleable__label sk-toggleable__label-arrow\">SimpleImputer</label><div class=\"sk-toggleable__content\"><pre>SimpleImputer(strategy=&#x27;median&#x27;)</pre></div></div></div><div class=\"sk-item\"><div class=\"sk-estimator sk-toggleable\"><input class=\"sk-toggleable__control sk-hidden--visually\" id=\"sk-estimator-id-39\" type=\"checkbox\" ><label for=\"sk-estimator-id-39\" class=\"sk-toggleable__label sk-toggleable__label-arrow\">StandardScaler</label><div class=\"sk-toggleable__content\"><pre>StandardScaler()</pre></div></div></div></div></div></div></div></div><div class=\"sk-parallel-item\"><div class=\"sk-item\"><div class=\"sk-label-container\"><div class=\"sk-label sk-toggleable\"><input class=\"sk-toggleable__control sk-hidden--visually\" id=\"sk-estimator-id-40\" type=\"checkbox\" ><label for=\"sk-estimator-id-40\" class=\"sk-toggleable__label sk-toggleable__label-arrow\">nom</label><div class=\"sk-toggleable__content\"><pre>[&#x27;Mjob&#x27;, &#x27;Fjob&#x27;, &#x27;reason&#x27;, &#x27;guardian&#x27;]</pre></div></div></div><div class=\"sk-serial\"><div class=\"sk-item\"><div class=\"sk-serial\"><div class=\"sk-item\"><div class=\"sk-estimator sk-toggleable\"><input class=\"sk-toggleable__control sk-hidden--visually\" id=\"sk-estimator-id-41\" type=\"checkbox\" ><label for=\"sk-estimator-id-41\" class=\"sk-toggleable__label sk-toggleable__label-arrow\">SimpleImputer</label><div class=\"sk-toggleable__content\"><pre>SimpleImputer(strategy=&#x27;most_frequent&#x27;)</pre></div></div></div><div class=\"sk-item\"><div class=\"sk-estimator sk-toggleable\"><input class=\"sk-toggleable__control sk-hidden--visually\" id=\"sk-estimator-id-42\" type=\"checkbox\" ><label for=\"sk-estimator-id-42\" class=\"sk-toggleable__label sk-toggleable__label-arrow\">OneHotEncoder</label><div class=\"sk-toggleable__content\"><pre>OneHotEncoder(drop=&#x27;first&#x27;)</pre></div></div></div></div></div></div></div></div><div class=\"sk-parallel-item\"><div class=\"sk-item\"><div class=\"sk-label-container\"><div class=\"sk-label sk-toggleable\"><input class=\"sk-toggleable__control sk-hidden--visually\" id=\"sk-estimator-id-43\" type=\"checkbox\" ><label for=\"sk-estimator-id-43\" class=\"sk-toggleable__label sk-toggleable__label-arrow\">custom</label><div class=\"sk-toggleable__content\"><pre>[&#x27;G1&#x27;, &#x27;G2&#x27;, &#x27;absences_G1&#x27;, &#x27;absences_G2&#x27;, &#x27;absences_G3&#x27;]</pre></div></div></div><div class=\"sk-serial\"><div class=\"sk-item\"><div class=\"sk-estimator sk-toggleable\"><input class=\"sk-toggleable__control sk-hidden--visually\" id=\"sk-estimator-id-44\" type=\"checkbox\" ><label for=\"sk-estimator-id-44\" class=\"sk-toggleable__label sk-toggleable__label-arrow\">CustomTransformer</label><div class=\"sk-toggleable__content\"><pre>CustomTransformer(drop_G1_G2=True)</pre></div></div></div></div></div></div></div></div><div class=\"sk-item\"><div class=\"sk-estimator sk-toggleable\"><input class=\"sk-toggleable__control sk-hidden--visually\" id=\"sk-estimator-id-45\" type=\"checkbox\" ><label for=\"sk-estimator-id-45\" class=\"sk-toggleable__label sk-toggleable__label-arrow\">RandomForestRegressor</label><div class=\"sk-toggleable__content\"><pre>RandomForestRegressor(max_features=8, n_estimators=30, random_state=42)</pre></div></div></div></div></div></div></div>"
      ],
      "text/plain": [
       "Pipeline(steps=[('columntransformer',\n",
       "                 ColumnTransformer(transformers=[('num',\n",
       "                                                  Pipeline(steps=[('imputer',\n",
       "                                                                   SimpleImputer(strategy='median')),\n",
       "                                                                  ('scaler',\n",
       "                                                                   StandardScaler())]),\n",
       "                                                  ['age', 'Medu', 'Fedu',\n",
       "                                                   'traveltime', 'studytime',\n",
       "                                                   'failures', 'famrel',\n",
       "                                                   'freetime', 'goout', 'Dalc',\n",
       "                                                   'Walc', 'health',\n",
       "                                                   'absences_G1', 'absences_G2',\n",
       "                                                   'absences_G3', 'G1', 'G2']),\n",
       "                                                 ('nom',\n",
       "                                                  Pipeline(steps=[('imputer',\n",
       "                                                                   SimpleImputer(strategy='most_frequent')),\n",
       "                                                                  ('encoder',\n",
       "                                                                   OneHotEncoder(drop='first'))]),\n",
       "                                                  ['Mjob', 'Fjob', 'reason',\n",
       "                                                   'guardian']),\n",
       "                                                 ('custom',\n",
       "                                                  CustomTransformer(drop_G1_G2=True),\n",
       "                                                  ['G1', 'G2', 'absences_G1',\n",
       "                                                   'absences_G2',\n",
       "                                                   'absences_G3'])])),\n",
       "                ('randomforestregressor',\n",
       "                 RandomForestRegressor(max_features=8, n_estimators=30,\n",
       "                                       random_state=42))])"
      ]
     },
     "execution_count": 76,
     "metadata": {},
     "output_type": "execute_result"
    }
   ],
   "source": [
    "# Accessed the best model from the grid search\n",
    "final_model=grid_search.best_estimator_\n",
    "\n",
    "#Displayed final_model\n",
    "final_model"
   ]
  },
  {
   "cell_type": "code",
   "execution_count": 77,
   "id": "526e21f8",
   "metadata": {},
   "outputs": [
    {
     "data": {
      "text/plain": [
       "array([[ 0.19484058, -0.68063585, -1.43420275, ...,  1.        ,\n",
       "         0.        ,  2.        ],\n",
       "       [ 0.99444606, -1.60770883, -0.50549769, ...,  0.        ,\n",
       "         0.        ,  3.        ],\n",
       "       [ 0.99444606,  0.24643712,  0.42320737, ...,  1.        ,\n",
       "         0.        ,  8.        ],\n",
       "       ...,\n",
       "       [-1.40437039, -0.68063585, -1.43420275, ...,  1.        ,\n",
       "         0.        ,  8.        ],\n",
       "       [-1.40437039,  1.17351009, -0.50549769, ...,  1.        ,\n",
       "         0.        ,  2.        ],\n",
       "       [ 0.19484058,  0.24643712, -0.50549769, ...,  1.        ,\n",
       "         0.        ,  0.        ]])"
      ]
     },
     "execution_count": 77,
     "metadata": {},
     "output_type": "execute_result"
    }
   ],
   "source": [
    "# Prepared the test data using the previously defined preprocessing pipeline\n",
    "X_test_prepared=preprocessing.transform(X_test)\n",
    "\n",
    "# Displayed the prepared test data\n",
    "X_test_prepared"
   ]
  },
  {
   "cell_type": "code",
   "execution_count": 78,
   "id": "2035df40",
   "metadata": {},
   "outputs": [
    {
     "data": {
      "text/plain": [
       "array([ 8.15, 11.73,  6.61,  9.75,  8.9 , 12.95, 18.68,  6.66,  7.1 ,\n",
       "       13.22, 15.65,  6.82, 14.05, 11.82, 14.17,  8.39,  1.42, 10.53,\n",
       "       15.24,  6.05, 14.16, 15.82, 15.41,  6.4 ,  5.95, 18.32, 10.27,\n",
       "        9.73, 18.41, 10.95,  8.58,  8.63, 15.34, 13.2 ,  1.17,  5.79,\n",
       "        0.06, 15.27, 11.81,  8.  ,  6.01, 10.04, 13.92,  8.65, 15.34,\n",
       "        6.97, 11.37, 14.28, 12.74, 15.67, 13.4 , 15.29, 10.04,  8.54,\n",
       "        5.77, 13.24, 10.84,  1.59, 15.43, 15.97, 13.37,  8.68,  8.53,\n",
       "        6.19,  7.33, 18.33,  9.45,  9.51,  9.61, 15.32,  8.26,  9.63,\n",
       "       13.69, 18.26, 10.42,  5.92,  8.88, 14.19,  5.17])"
      ]
     },
     "execution_count": 78,
     "metadata": {},
     "output_type": "execute_result"
    }
   ],
   "source": [
    "# Mading predictions using the X_test_prepared dataset and storing my predictions as a variable called final_predictions.\n",
    "final_predictions=forest_reg.predict(X_test_prepared)\n",
    "\n",
    "# Displaying final_predictions\n",
    "final_predictions"
   ]
  },
  {
   "cell_type": "code",
   "execution_count": 79,
   "id": "ecf11fb3",
   "metadata": {},
   "outputs": [
    {
     "data": {
      "text/plain": [
       "1.9163414510368515"
      ]
     },
     "execution_count": 79,
     "metadata": {},
     "output_type": "execute_result"
    }
   ],
   "source": [
    "# Calculated the root mean squared error (RMSE) by passing y_test and final_predictions, ensuring the squared parameter is set to False.\n",
    "final_rmse=mean_squared_error(y_test,final_predictions,squared=False)\n",
    "final_rmse"
   ]
  },
  {
   "cell_type": "code",
   "execution_count": 80,
   "id": "ccb16a08",
   "metadata": {},
   "outputs": [
    {
     "data": {
      "text/plain": [
       "1.92"
      ]
     },
     "execution_count": 80,
     "metadata": {},
     "output_type": "execute_result"
    }
   ],
   "source": [
    "# Rounded the RMSE score to 2 decimal places and saved this score as final_rmse.\n",
    "final_rmse=round(final_rmse,2)\n",
    "final_rmse"
   ]
  },
  {
   "cell_type": "markdown",
   "id": "4e3cef99",
   "metadata": {},
   "source": [
    "### Conclusion\n",
    "\n",
    "\n",
    "In conclusion, my machine-learning model, after rigorous development and evaluation, has produced final predictions that offer valuable insights into predicting students' academic performance. The array of predictions ranges across various grades, reflecting the diverse nature of the student dataset.\n",
    "\n",
    "The final Root Mean Squared Error (RMSE) of 1.91 indicates the model's accuracy in predicting academic performance, with lower values signifying closer alignment with actual grades. I feel that this metric is crucial in assessing the model's reliability and effectiveness in providing insights that can be used to identify students who may require additional support. The array of final predictions provides a tangible output that can guide educators and administrators in making informed decisions. Students with predictions deviating from their actual performance may be flagged for closer attention and targeted interventions, aligning with the project's overarching goal of supporting students effectively. The project's success, as indicated by the final RMSE and prediction array, establishes a robust foundation for future endeavors. My model encapsulates a user-friendly Jupyter notebook which will be a valuable tool for ongoing analyses in different school classes. My emphasis on clarity in the presentation of findings ensures that the model's insights are accessible to stakeholders with varying levels of technical expertise.\n",
    "\n",
    "In the course of this project, a notable challenge emerged when encountering a `ValueError` during the testing phase. The error indicated a discrepancy in the number of features between the training and testing datasets. Specifically, the error message stated that the model expected 34 features, but the testing dataset only had 33 features. Upon investigation, it was discovered that the shape of the data underwent an unexpected change. Originally, the training dataset had a shape of (316, 34), indicating 316 samples with 34 features. However, during the testing phase, the shape transformed to (316, 44), indicating 316 samples with 44 features. This discrepancy in the number of features between the training and testing datasets poses a critical issue for model evaluation and highlights the importance of consistency in the input features during the training and testing phases. On a more positive note, adjusting text positions and experimenting with colors in the plots brought an element of creativity and playfulness to the process. While uncovering the right information for the plots posed a bit of a challenge which was both enjoyable and rewarding. I dedicated quite a bit of time to this process, aspiring to deliver visually appealing and detailed plots that meet expectations. The experience of gaining knowledge through overcoming hurdles added a sense of accomplishment to the entire process.\n",
    "\n",
    "\n",
    "\n"
   ]
  }
 ],
 "metadata": {
  "kernelspec": {
   "display_name": "Python 3 (ipykernel)",
   "language": "python",
   "name": "python3"
  },
  "language_info": {
   "codemirror_mode": {
    "name": "ipython",
    "version": 3
   },
   "file_extension": ".py",
   "mimetype": "text/x-python",
   "name": "python",
   "nbconvert_exporter": "python",
   "pygments_lexer": "ipython3",
   "version": "3.9.13"
  }
 },
 "nbformat": 4,
 "nbformat_minor": 5
}
